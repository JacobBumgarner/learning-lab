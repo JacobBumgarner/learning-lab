{
 "cells": [
  {
   "cell_type": "markdown",
   "metadata": {},
   "source": [
    "# 1929. Concatenation of Array\n",
    "Given an integer array nums of length n, you want to create an array ans of length 2n where ans[i] == nums[i] and ans[i + n] == nums[i] for 0 <= i < n (0-indexed).\n",
    "\n",
    "Specifically, ans is the concatenation of two nums arrays.\n",
    "\n",
    "Return the array ans.\n",
    "```\n",
    "Example 1:\n",
    "\n",
    "Input: nums = [1,2,1]\n",
    "Output: [1,2,1,1,2,1]\n",
    "Explanation: The array ans is formed as follows:\n",
    "- ans = [nums[0],nums[1],nums[2],nums[0],nums[1],nums[2]]\n",
    "- ans = [1,2,1,1,2,1]\n",
    "```\n",
    "\n",
    "```\n",
    "Example 2:\n",
    "\n",
    "Input: nums = [1,3,2,1]\n",
    "Output: [1,3,2,1,1,3,2,1]\n",
    "Explanation: The array ans is formed as follows:\n",
    "- ans = [nums[0],nums[1],nums[2],nums[3],nums[0],nums[1],nums[2],nums[3]]\n",
    "- ans = [1,3,2,1,1,3,2,1]\n",
    "```\n",
    " \n",
    "\n",
    "Constraints:\n",
    "- n == nums.length\n",
    "- 1 <= n <= 1000\n",
    "- 1 <= nums[i] <= 1000\n"
   ]
  },
  {
   "cell_type": "markdown",
   "metadata": {},
   "source": [
    "# Notes\n",
    "This problem will have O(2n) space complexity, as we will always create an array two times larger than the input array.\n",
    "\n",
    "Time-wise, this problem will always scale linearly with the size of the input array, making it O(n) time complexity."
   ]
  },
  {
   "cell_type": "markdown",
   "metadata": {},
   "source": [
    "# Solution Thoughts\n",
    "We can start by creating an array of length 2n.\n",
    "\n",
    "We can then iterate from 0 to n, and replace the values in the new array at new_nums[i] and new_nums[i + n] with nums[i]."
   ]
  },
  {
   "cell_type": "code",
   "execution_count": 13,
   "metadata": {},
   "outputs": [],
   "source": [
    "def getConcatenation(nums):\n",
    "    n = len(nums)\n",
    "    c = [None] * n * 2\n",
    "\n",
    "    for i in range(n):\n",
    "        c[i] = c[i + n] = nums[i]\n",
    "    return c"
   ]
  },
  {
   "cell_type": "code",
   "execution_count": 14,
   "metadata": {},
   "outputs": [
    {
     "data": {
      "text/plain": [
       "[1, 2, 3, 3, 1, 2, 3, 3]"
      ]
     },
     "execution_count": 14,
     "metadata": {},
     "output_type": "execute_result"
    }
   ],
   "source": [
    "test = [1, 2, 3, 3]\n",
    "getConcatenation(test)"
   ]
  }
 ],
 "metadata": {
  "kernelspec": {
   "display_name": "learning",
   "language": "python",
   "name": "python3"
  },
  "language_info": {
   "codemirror_mode": {
    "name": "ipython",
    "version": 3
   },
   "file_extension": ".py",
   "mimetype": "text/x-python",
   "name": "python",
   "nbconvert_exporter": "python",
   "pygments_lexer": "ipython3",
   "version": "3.12.1"
  }
 },
 "nbformat": 4,
 "nbformat_minor": 2
}
