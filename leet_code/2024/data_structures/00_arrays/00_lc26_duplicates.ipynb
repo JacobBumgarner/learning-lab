{
 "cells": [
  {
   "cell_type": "markdown",
   "metadata": {},
   "source": [
    "# 26. Remove Duplicates from Sorted Array\n",
    "Given an integer array nums sorted in non-decreasing order, remove the duplicates in-place such that each unique element appears only once. The relative order of the elements should be kept the same. Then return the number of unique elements in nums.\n",
    "\n",
    "Consider the number of unique elements of nums to be k, to get accepted, you need to do the following things:\n",
    "\n",
    "    Change the array nums such that the first k elements of nums contain the unique elements in the order they were present in nums initially. The remaining elements of nums are not important as well as the size of nums.\n",
    "    Return k.\n",
    "\n",
    "Custom Judge:\n",
    "\n",
    "The judge will test your solution with the following code:\n",
    "```\n",
    "int[] nums = [...]; // Input array\n",
    "int[] expectedNums = [...]; // The expected answer with correct length\n",
    "\n",
    "int k = removeDuplicates(nums); // Calls your implementation\n",
    "\n",
    "assert k == expectedNums.length;\n",
    "for (int i = 0; i < k; i++) {\n",
    "    assert nums[i] == expectedNums[i];\n",
    "}\n",
    "```\n",
    "If all assertions pass, then your solution will be accepted.\n",
    "\n",
    " \n",
    "\n",
    "Example 1:\n",
    "\n",
    "```\n",
    "Input: nums = [1,1,2]\n",
    "Output: 2, nums = [1,2,_]\n",
    "Explanation: Your function should return k = 2, with the first two elements of nums being 1 and 2 respectively.\n",
    "It does not matter what you leave beyond the returned k (hence they are underscores).\n",
    "```\n",
    "Example 2:\n",
    "\n",
    "```\n",
    "Input: nums = [0,0,1,1,1,2,2,3,3,4]\n",
    "Output: 5, nums = [0,1,2,3,4,_,_,_,_,_]\n",
    "Explanation: Your function should return k = 5, with the first five elements of nums being 0, 1, 2, 3, and 4 respectively.\n",
    "It does not matter what you leave beyond the returned k (hence they are underscores).\n",
    "```\n",
    " \n",
    "\n",
    "Constraints:\n",
    "\n",
    "- 1 <= nums.length <= 3 * 104\n",
    "- -100 <= nums[i] <= 100\n",
    "- nums is sorted in non-decreasing order.\n",
    "\n"
   ]
  },
  {
   "cell_type": "markdown",
   "metadata": {},
   "source": [
    "# Notes\n",
    "In this problem, I will be working with a static array and have been instructed to solve the problem in-place. This means no additional memory can be allocated. \n",
    "\n",
    "This problem will have O(n) time complexity and O(1) space complexity, as the time to solve the problem is directly proportional to the size of the input array, and the space is fixed because we can't dynamically allocate new memory (per the problem's constraints)."
   ]
  },
  {
   "cell_type": "markdown",
   "metadata": {},
   "source": [
    "# Solution Thoughts\n",
    "A first thought is that I could solve the problem simply by shifting all of the values in the array to the left when a duplicate is found. I'm not sure if this is the most efficient method, though.\n",
    "\n",
    "A slightly improved approach would be to use a two-pointer approach, where the right pointer moves forward to check if the values are the same as the left pointer. The right pointer would move until the value is no longer the same as the left pointer, and then the array from the start of the right pointer to the end would be shifted to one to the right of the left pointer index.\n",
    "\n",
    "The ideal solution for this problem is instead using a two-pointer approach with replacement, rather than shifting the entire array. This will reduce the operations needed."
   ]
  },
  {
   "cell_type": "markdown",
   "metadata": {},
   "source": [
    "# Solution PseudoCode\n",
    "Initialize two pointers, l and r, at index 0 and 1.\n",
    "\n",
    "Loop while r is less than the length of k.\n",
    "1. if r equals l:\n",
    "    - Add one to r index\n",
    "2. if r does not equal l:\n",
    "    - Add one to l index\n",
    "    - set l equal to r\n",
    "    - add one to r and l indices\n",
    "\n",
    "Essentially, for each loop, we will always move R forward. First we check if the L and R nums are equal. If they are, we only move R forward. If they aren't, we move L right, set it equal to R, and then move R right. This approach resolves the \n"
   ]
  },
  {
   "cell_type": "code",
   "execution_count": 27,
   "metadata": {},
   "outputs": [],
   "source": [
    "def removeDuplicates(nums):    \n",
    "    l = 0\n",
    "    r = 1\n",
    "\n",
    "    while (r < len(nums)):\n",
    "        if nums[l] == nums[r]:\n",
    "            r += 1\n",
    "        else:\n",
    "            l += 1\n",
    "            nums[l] = nums[r]\n",
    "            r += 1\n",
    "\n",
    "    return nums[0:l+1]"
   ]
  },
  {
   "cell_type": "code",
   "execution_count": 28,
   "metadata": {},
   "outputs": [
    {
     "data": {
      "text/plain": [
       "[0, 1, 2, 4, 6]"
      ]
     },
     "execution_count": 28,
     "metadata": {},
     "output_type": "execute_result"
    }
   ],
   "source": [
    "test = [0, 1, 1, 1, 2, 4, 4, 4, 6]\n",
    "removeDuplicates(test)"
   ]
  },
  {
   "cell_type": "code",
   "execution_count": 29,
   "metadata": {},
   "outputs": [
    {
     "data": {
      "text/plain": [
       "[1, 2]"
      ]
     },
     "execution_count": 29,
     "metadata": {},
     "output_type": "execute_result"
    }
   ],
   "source": [
    "test = [1, 1, 2]\n",
    "removeDuplicates(test)"
   ]
  },
  {
   "cell_type": "code",
   "execution_count": 30,
   "metadata": {},
   "outputs": [
    {
     "data": {
      "text/plain": [
       "[0]"
      ]
     },
     "execution_count": 30,
     "metadata": {},
     "output_type": "execute_result"
    }
   ],
   "source": [
    "test = [0]\n",
    "removeDuplicates(test)"
   ]
  },
  {
   "cell_type": "markdown",
   "metadata": {},
   "source": [
    "# Result\n",
    "Runtime: 58ms\n",
    "Beats 67.53% of users with Python\n",
    "\n",
    "Memory: 12.87MB, Beats 97.82% of users with Python"
   ]
  }
 ],
 "metadata": {
  "kernelspec": {
   "display_name": "learning",
   "language": "python",
   "name": "python3"
  },
  "language_info": {
   "codemirror_mode": {
    "name": "ipython",
    "version": 3
   },
   "file_extension": ".py",
   "mimetype": "text/x-python",
   "name": "python",
   "nbconvert_exporter": "python",
   "pygments_lexer": "ipython3",
   "version": "3.12.1"
  }
 },
 "nbformat": 4,
 "nbformat_minor": 2
}
