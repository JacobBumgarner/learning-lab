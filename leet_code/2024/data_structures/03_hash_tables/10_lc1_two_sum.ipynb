{
 "cells": [
  {
   "cell_type": "markdown",
   "metadata": {},
   "source": [
    "# 1. Two Sum\n",
    "Given an array of integers and a `target`, find the two numbers in the array that add up to the `target`. We can assume that there will only be one solution to the problem. Return the indices of the two numbers that add up to the target.\n",
    "\n",
    "## Notes\n",
    "My solution to this problem will have at worst O(n) space complexity, as there will be at most 2n values in the hash map. It will have at worst O(n) time complexity as well, as there will be at most `2n` operations: `n` iterations over the loops, and `n` hash table lookups, which have roughly O(1) time complexity.\n",
    "\n",
    "## Solution Thoughts\n",
    "We could naively solve this problem by iterating over each element the subsequent elements to see if the values match the target. However, there must be a more efficient approach relating hashing.\n",
    "\n",
    "My first thought process was to create two hash tables. I would first create a set of values that had been encountered. I would then create a hash table of number-index key-value pairs. At each iteration over `nums`, I would then check if the pair num existed in the \"encountered\" set. \n",
    "\n",
    "After chatting about this with RosaGPT, I realized this was a redundant approach, as I could simply create a number-index map and check if the pair number existed as a key in that map."
   ]
  },
  {
   "cell_type": "code",
   "execution_count": 5,
   "metadata": {},
   "outputs": [],
   "source": [
    "def twoSum(nums, target):\n",
    "    num_indices = {}\n",
    "\n",
    "    for i, num in enumerate(nums):\n",
    "        pair_num = target - num\n",
    "        if pair_num in num_indices.keys():\n",
    "            return [num_indices[pair_num], i]\n",
    "        else:\n",
    "            num_indices[num] = i\n",
    "\n",
    "    return"
   ]
  },
  {
   "cell_type": "code",
   "execution_count": 6,
   "metadata": {},
   "outputs": [
    {
     "data": {
      "text/plain": [
       "[0, 1]"
      ]
     },
     "execution_count": 6,
     "metadata": {},
     "output_type": "execute_result"
    }
   ],
   "source": [
    "nums = [2,7,11,15]\n",
    "target = 9\n",
    "twoSum(nums, target)"
   ]
  },
  {
   "cell_type": "code",
   "execution_count": 7,
   "metadata": {},
   "outputs": [
    {
     "data": {
      "text/plain": [
       "[1, 2]"
      ]
     },
     "execution_count": 7,
     "metadata": {},
     "output_type": "execute_result"
    }
   ],
   "source": [
    "nums = [3,2,4]\n",
    "target = 6\n",
    "twoSum(nums, target)"
   ]
  }
 ],
 "metadata": {
  "kernelspec": {
   "display_name": "learning",
   "language": "python",
   "name": "python3"
  },
  "language_info": {
   "codemirror_mode": {
    "name": "ipython",
    "version": 3
   },
   "file_extension": ".py",
   "mimetype": "text/x-python",
   "name": "python",
   "nbconvert_exporter": "python",
   "pygments_lexer": "ipython3",
   "version": "3.12.1"
  }
 },
 "nbformat": 4,
 "nbformat_minor": 2
}
