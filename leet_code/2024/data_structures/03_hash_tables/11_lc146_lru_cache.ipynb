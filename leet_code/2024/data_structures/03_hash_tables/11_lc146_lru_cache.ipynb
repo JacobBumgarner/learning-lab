{
 "cells": [
  {
   "cell_type": "markdown",
   "metadata": {},
   "source": [
    "# 146. LRU Cache\n",
    "\n",
    "## Notes\n",
    "\n",
    "## Solution Thoughts"
   ]
  },
  {
   "cell_type": "code",
   "execution_count": null,
   "metadata": {},
   "outputs": [],
   "source": [
    "class LRUNode(object):\n",
    "    def __init__(self, key=None, value=None, next=None, prev=None):\n",
    "        self.key = key\n",
    "        self.value = value\n",
    "        self.next = next\n",
    "        self.prev = prev\n",
    "\n",
    "class LRUCache(object):\n",
    "    def __init__(self, capacity):\n",
    "        self.capacity = capacity\n",
    "        self.node_cache = {}\n",
    "\n",
    "        self.head = LRUNode()\n",
    "        self.tail = LRUNode(next = self.head)\n",
    "        self.head.prev = self.tail\n",
    "    \n",
    "    def add(self, node):\n",
    "        node.prev = self.head.prev\n",
    "        node.next = self.head\n",
    "        self.head.prev.next = node\n",
    "        self.head.prev = node\n",
    "        return\n",
    "    \n",
    "    def remove(self, node):\n",
    "        node.prev.next = node.next\n",
    "        node.next.prev = node.prev\n",
    "        return\n",
    "\n",
    "    def get(self, key):\n",
    "        if key in self.node_cache.keys():\n",
    "            node = self.node_cache[key]\n",
    "            self.remove(node)\n",
    "            self.add(node)\n",
    "            return node.value\n",
    "        \n",
    "        return -1\n",
    "\n",
    "    def put(self, key, value):\n",
    "        if key in self.node_cache.keys():\n",
    "            self.remove(self.node_cache[key])\n",
    "        elif len(self.node_cache.keys()) >= self.capacity:\n",
    "            rem_node = self.tail.next\n",
    "            self.remove(rem_node)\n",
    "            del(self.node_cache[rem_node.key])\n",
    "        \n",
    "        node = LRUNode(key, value)\n",
    "        self.add(node)\n",
    "        self.node_cache[key] = node\n",
    "\n",
    "        return\n",
    "\n",
    "\n"
   ]
  }
 ],
 "metadata": {
  "kernelspec": {
   "display_name": "learning",
   "language": "python",
   "name": "python3"
  },
  "language_info": {
   "name": "python",
   "version": "3.12.1"
  }
 },
 "nbformat": 4,
 "nbformat_minor": 2
}
