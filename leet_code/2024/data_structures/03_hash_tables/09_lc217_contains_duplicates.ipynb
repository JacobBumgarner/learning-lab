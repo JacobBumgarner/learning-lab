{
 "cells": [
  {
   "cell_type": "markdown",
   "metadata": {},
   "source": [
    "# 217. Contains Duplicates\n",
    "Given an integer array of numbers, return `True` if any duplicate values are found, and `False` otherwise.\n",
    "\n",
    "## Notes\n",
    "This problem will have O(n) time and space complexity, as at worst, there will be at most `n` unique numbers and the hash table will need at most `2n` pieces of information and it will take `n` iterations to solve the problem.\n",
    "\n",
    "## Solution Thoughts\n",
    "I will start the problem by initializing an empty dictionary. I will then iterate over the input nums. For each number, I will examine if the number exists as a key in the dictionary. If it doesn't, I will add it as a key and give it a value of 1. If it does exist, that means the number is non-unique, and I will return `True`. The function should only exit if no duplicates are found, so I will return `False` at the end.\n",
    "\n",
    "**Updated Second Pass:** This approach worked but timed-out for the longer `nums` on LeetCode. As such, I've converted the `dict` based approach to a `set` based approach. This should've been the first pass, but I wanted to try to think about the problem in the context of hashes. Oh well!"
   ]
  },
  {
   "cell_type": "code",
   "execution_count": 28,
   "metadata": {},
   "outputs": [],
   "source": [
    "def containsDuplicates(nums):\n",
    "    unique_nums = set()\n",
    "\n",
    "    for num in nums:\n",
    "        if num in unique_nums:\n",
    "            return True\n",
    "        else:\n",
    "            unique_nums.add(num)\n",
    "    \n",
    "    return False"
   ]
  },
  {
   "cell_type": "code",
   "execution_count": 29,
   "metadata": {},
   "outputs": [
    {
     "data": {
      "text/plain": [
       "True"
      ]
     },
     "execution_count": 29,
     "metadata": {},
     "output_type": "execute_result"
    }
   ],
   "source": [
    "nums = [1, 2, 3, 1]\n",
    "containsDuplicates(nums)"
   ]
  },
  {
   "cell_type": "code",
   "execution_count": 30,
   "metadata": {},
   "outputs": [
    {
     "data": {
      "text/plain": [
       "True"
      ]
     },
     "execution_count": 30,
     "metadata": {},
     "output_type": "execute_result"
    }
   ],
   "source": [
    "num = [1,1,1,3,3,4,3,2,4,2]\n",
    "containsDuplicates(nums)"
   ]
  },
  {
   "cell_type": "code",
   "execution_count": 31,
   "metadata": {},
   "outputs": [
    {
     "data": {
      "text/plain": [
       "False"
      ]
     },
     "execution_count": 31,
     "metadata": {},
     "output_type": "execute_result"
    }
   ],
   "source": [
    "nums = [1,2,3,4]\n",
    "containsDuplicates(nums)"
   ]
  }
 ],
 "metadata": {
  "kernelspec": {
   "display_name": "learning",
   "language": "python",
   "name": "python3"
  },
  "language_info": {
   "codemirror_mode": {
    "name": "ipython",
    "version": 3
   },
   "file_extension": ".py",
   "mimetype": "text/x-python",
   "name": "python",
   "nbconvert_exporter": "python",
   "pygments_lexer": "ipython3",
   "version": "3.12.1"
  }
 },
 "nbformat": 4,
 "nbformat_minor": 2
}
