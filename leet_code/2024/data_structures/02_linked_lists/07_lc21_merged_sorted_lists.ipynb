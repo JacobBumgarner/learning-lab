{
 "cells": [
  {
   "cell_type": "markdown",
   "metadata": {},
   "source": [
    "# 21. Merge Two Sorted Lists\n",
    "Given the head of two sorted linked lists, merge the lists into one sorted lists.\n",
    "\n",
    "Return the head of the merged linked list."
   ]
  },
  {
   "cell_type": "markdown",
   "metadata": {},
   "source": [
    "## Notes\n",
    "This problem has O(1) space complexity, as we will not need to dynamically allocate variables for the solution. The problem has O(n) time complexity, as the solution space is linearly dependent on the size of the input lists.\n",
    "\n",
    "## Solution Thoughts\n",
    "The first thing to do will be to identify the head that will be returned. This can be done by comparing the values of the two input nodes. This will involve a three-conditional process:\n",
    "- If both nodes are None, return None\n",
    "- If one node is None, return the other\n",
    "- If both nodes are not None, the `head` becomes the input node with the smallest value. we will also assign the `lead` node to be the `head`, and a `follow` node as the other node.\n",
    "\n",
    "To merge the lists, we will need to store the current node for each list (`lead` and `follow`), and we will then iterate until either current node is `None`.\n",
    "\n",
    "Iterating on a while loop until either `lead` or `follow` is `None`:\n",
    "1. Is `lead.next` `None`? Assign `lead.next` to be `follow`, and assign `lead` as `None`\n",
    "2. Is `lead.next.val` less than `follow.val`? \n",
    "    - if yes: `lead.next` = `follow`, `follow` becomes `lead.next`\n",
    "    - if no: `lead` = `lead.next`"
   ]
  },
  {
   "cell_type": "code",
   "execution_count": 4,
   "metadata": {},
   "outputs": [],
   "source": [
    "def mergeTwoLists(list1, list2):\n",
    "    if not list1 and not list2:\n",
    "            return None\n",
    "    elif not list1:\n",
    "        return list2\n",
    "    elif not list2:\n",
    "        return list1\n",
    "    else:\n",
    "        head = list1 if list1.val <= list2.val else list2\n",
    "        lead = head\n",
    "        follow = list1 if list1.val > list2.val else list2\n",
    "\n",
    "    while (lead is not None and follow is not None):\n",
    "        if lead.next is None:\n",
    "            lead.next = follow\n",
    "            lead = None\n",
    "        elif lead.next.val <= follow.val:\n",
    "            lead = lead.next\n",
    "        else:\n",
    "            t = lead.next\n",
    "            lead.next = follow\n",
    "            lead = follow\n",
    "            follow = t\n",
    "\n",
    "    return head"
   ]
  },
  {
   "cell_type": "markdown",
   "metadata": {},
   "source": [
    "My first solution implementation worked! I'm glad that this approach was robust, but I also want to make sure that I'm familiarized with the \"standard\" solution that was highlighted by Rosa. \n",
    "\n",
    "## Solution 2 Thoughts\n",
    "Rather than including a list of conditionals at the beginning of the function, instead I can create a `pre_node` that points to nothing. I will then initialize a `current_node` as the `pre_node`, and then iterate over the input lists until either of them are `None`.\n",
    "\n",
    "In the iteration loop, I will check to see if the `list1.val` is lte the `list2.val`. If it is, the `current_node.next` will point to `list1`, and `list1` will advance to its next value. The opposite will happen otherwise.\n",
    "\n",
    "Once the loop is exited because either the `list1` or `list2` nodes have become `None`, which means the `current_node.next` has also become `None`. As such, we will need to reconnect the `current_node` to `list1` if it is not `None`, and `list2` otherwise (which may also be `None`).\n",
    "\n",
    "At the end of the function, I will return `pre_head.next`; this approach accounts for edge cases where either or both of the input nodes are `None`."
   ]
  },
  {
   "cell_type": "code",
   "execution_count": 5,
   "metadata": {},
   "outputs": [],
   "source": [
    "def mergeTwoLists(list1, list2):\n",
    "    pre_head = ListNode(val = -101)\n",
    "    current_node = pre_head\n",
    "\n",
    "    while (list1 and list2):\n",
    "        if list1.val <= list2.val:\n",
    "            current_node.next = list1\n",
    "            list1 = list1.next\n",
    "        else:\n",
    "            current_node.next = list2\n",
    "            list2 = list2.next\n",
    "        current_node = current_node.next\n",
    "\n",
    "    current_node.next = list1 if list1 else list2\n",
    "\n",
    "    return pre_head.next"
   ]
  },
  {
   "cell_type": "markdown",
   "metadata": {},
   "source": [
    "Naturally, this solution also worked, and it is truthfully much more 'elegant' and simplistic than my original version."
   ]
  }
 ],
 "metadata": {
  "kernelspec": {
   "display_name": "learning",
   "language": "python",
   "name": "python3"
  },
  "language_info": {
   "codemirror_mode": {
    "name": "ipython",
    "version": 3
   },
   "file_extension": ".py",
   "mimetype": "text/x-python",
   "name": "python",
   "nbconvert_exporter": "python",
   "pygments_lexer": "ipython3",
   "version": "3.12.1"
  }
 },
 "nbformat": 4,
 "nbformat_minor": 2
}
