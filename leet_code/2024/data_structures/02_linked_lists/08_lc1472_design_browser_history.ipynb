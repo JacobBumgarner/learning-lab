{
 "cells": [
  {
   "cell_type": "markdown",
   "metadata": {},
   "source": [
    "# 1472. Design Browser History\n",
    "Design a browser history class object with the ability to step forward and back in history and add new url visits.\n",
    "\n",
    "If a new visit is added, the forward history is cleared.\n",
    "\n",
    "If the number of forward/back steps is beyond the history limit, return the head/end node accordingly.\n",
    "\n",
    "## Notes\n",
    "My solution will follow an O(n) time and space complexity. The `visit` operation is O(1) time complexity, but the `forward` and `back` operations are linearly dependent on the size of `steps`.\n",
    "\n",
    "One additional thought that I have about the browser class object created outside of Python would need to handle garbage collection for visits added anywhere other than the `end` node. I'll ignore this for the Python solution.\n",
    "\n",
    "## Solution Thoughts\n",
    "First, I'll create a `Visit` class that contains the `url`, `prev`, and `next` visits.\n",
    "\n",
    "`__init__` and `visit` are straight forward; they create a new `Visit` object and point them to the correct location.\n",
    "\n",
    "`back` and `forward` will iterate over the number of input steps; the loops will `break` if the `prev` or `next` nodes are `None`, respectively. At each iteration, the `current_node` of the main class will be updated.\n",
    "\n",
    "The `current_node` will be returned at the end of each function."
   ]
  },
  {
   "cell_type": "code",
   "execution_count": 1,
   "metadata": {},
   "outputs": [],
   "source": [
    "class Visit(object):\n",
    "    def __init__(self, url, prev = None, next = None):\n",
    "        self.url = url\n",
    "        self.prev = prev\n",
    "        self.next = next\n",
    "\n",
    "class BrowserHistory(object):\n",
    "\n",
    "    def __init__(self, homepage):\n",
    "        \"\"\"\n",
    "        :type homepage: str\n",
    "        \"\"\"\n",
    "        self.current_page = Visit(homepage)\n",
    "\n",
    "    def visit(self, url):\n",
    "        \"\"\"\n",
    "        :type url: str\n",
    "        :rtype: None\n",
    "        \"\"\"\n",
    "        self.current_page.next = Visit(url, prev = self.current_page)\n",
    "        self.current_page = self.current_page.next\n",
    "\n",
    "    def back(self, steps):\n",
    "        \"\"\"\n",
    "        :type steps: int\n",
    "        :rtype: str\n",
    "        \"\"\"\n",
    "        for i in range(steps):\n",
    "            if self.current_page.prev:\n",
    "                self.current_page = self.current_page.prev\n",
    "            else:\n",
    "                break\n",
    "        \n",
    "        return self.current_page.url\n",
    "\n",
    "    def forward(self, steps):\n",
    "        \"\"\"\n",
    "        :type steps: int\n",
    "        :rtype: str\n",
    "        \"\"\"\n",
    "\n",
    "        for i in range(steps):\n",
    "            if self.current_page.next:\n",
    "                self.current_page = self.current_page.next\n",
    "            else:\n",
    "                break\n",
    "        \n",
    "        return self.current_page.url\n",
    "        "
   ]
  }
 ],
 "metadata": {
  "kernelspec": {
   "display_name": "learning",
   "language": "python",
   "name": "python3"
  },
  "language_info": {
   "codemirror_mode": {
    "name": "ipython",
    "version": 3
   },
   "file_extension": ".py",
   "mimetype": "text/x-python",
   "name": "python",
   "nbconvert_exporter": "python",
   "pygments_lexer": "ipython3",
   "version": "3.12.1"
  }
 },
 "nbformat": 4,
 "nbformat_minor": 2
}
