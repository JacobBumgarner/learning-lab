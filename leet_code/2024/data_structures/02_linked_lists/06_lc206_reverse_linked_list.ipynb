{
 "cells": [
  {
   "cell_type": "markdown",
   "metadata": {},
   "source": [
    "# 206. Reverse Linked List\n",
    "Given the head of a singly linked list, reverse the list, and return the \n",
    "reversed list.\n",
    "\n",
    "## Notes\n",
    "For this problem, we will return the `head` node of the reversed list, i.e., the\n",
    "original `end` node.\n",
    "\n",
    "This problem follows O(n) time complexity, as the solution is linearly\n",
    "dependent on the size of the input linked list. The problem will follow O(1)\n",
    "space complexity, as we don't need any dynamically initialized objects to \n",
    "reverse the list.\n",
    "\n",
    "## Solution Thoughts\n",
    "To reverse the list, we will iterate in a while loop that runs until the \n",
    "current node points to `None`.\n",
    "\n",
    "We will store the previous node, the current node, and the next node.\n",
    "\n",
    "For each iteration of the loop, we will first grab the `next` node from the\n",
    "`current` node. We will then point the `current` node to the `previous` node.\n",
    "Lastly, we will convert the `current` node to the `next` node and restart our\n",
    "loop.\n"
   ]
  },
  {
   "cell_type": "code",
   "execution_count": 1,
   "metadata": {},
   "outputs": [],
   "source": [
    "def reverseList(head):\n",
    "  prev_node = None\n",
    "  current_node = head\n",
    "  next_node = None\n",
    "  \n",
    "  while (current_node is not None):\n",
    "    next_node = current_node.next\n",
    "    current_node.next = prev_node\n",
    "    prev_node = current_node\n",
    "    current_node = next_node\n",
    "    \n",
    "  return prev_node"
   ]
  }
 ],
 "metadata": {
  "kernelspec": {
   "display_name": "learning",
   "language": "python",
   "name": "python3"
  },
  "language_info": {
   "codemirror_mode": {
    "name": "ipython",
    "version": 3
   },
   "file_extension": ".py",
   "mimetype": "text/x-python",
   "name": "python",
   "nbconvert_exporter": "python",
   "pygments_lexer": "ipython3",
   "version": "3.12.1"
  }
 },
 "nbformat": 4,
 "nbformat_minor": 2
}
