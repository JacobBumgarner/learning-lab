{
 "cells": [
  {
   "cell_type": "markdown",
   "metadata": {},
   "source": [
    "# 20. Valid Parentheses\n",
    "## Notes\n",
    "This problem can be solved using a stack-based approach. As such, the time and\n",
    "space complexity will be O(n), as the memory requirements and solve times\n",
    "are linearly dependent on the length of the input string.\n",
    "\n",
    "## Solution Thoughts\n",
    "A runnning stack of opening parenthesis will be constructed. Whenever a closing\n",
    "parenthesis is encountered, it will be compared to the top of the stack. If the\n",
    "opening parenthesis at the top of the stack matches the closing parenthesis, it\n",
    "will be popped. If it doesn't, this means that the closing parenthesis has been\n",
    "added erroneously, so a `False` will be returned.\n",
    "\n",
    "The end of the function will only be reached if the input `s` is length one, or\n",
    "if there are no remaining parentheses. Because of this edge case, at the end of\n",
    "the function, we need to return a bool examining whether the length the running\n",
    "stack is zero.\n"
   ]
  },
  {
   "cell_type": "code",
   "execution_count": 1,
   "metadata": {},
   "outputs": [],
   "source": [
    "def isValid(s):\n",
    "  opening_s = []\n",
    "  matching_pairs = {\")\": \"(\", \"]\": \"[\", \"}\": \"{\"}\n",
    "  \n",
    "  for b in s:\n",
    "    if b in [\"(\", \"[\", \"{\"]:\n",
    "      opening_s.append(b)\n",
    "    elif len(opening_s) and matching_pairs[b] == opening_s[-1]:\n",
    "      opening_s.pop()\n",
    "    else: \n",
    "      return False\n",
    "  \n",
    "  return len(opening_s) == 0"
   ]
  },
  {
   "cell_type": "code",
   "execution_count": 2,
   "metadata": {},
   "outputs": [
    {
     "name": "stdout",
     "output_type": "stream",
     "text": [
      "First: True\n"
     ]
    }
   ],
   "source": [
    "s = \"()\"\n",
    "print(\"First:\", isValid(s))"
   ]
  },
  {
   "cell_type": "code",
   "execution_count": 3,
   "metadata": {},
   "outputs": [
    {
     "name": "stdout",
     "output_type": "stream",
     "text": [
      "Second: True\n"
     ]
    }
   ],
   "source": [
    "s = \"()[]{}\"\n",
    "print(\"Second:\", isValid(s))"
   ]
  },
  {
   "cell_type": "code",
   "execution_count": 4,
   "metadata": {},
   "outputs": [
    {
     "name": "stdout",
     "output_type": "stream",
     "text": [
      "Third: False\n"
     ]
    }
   ],
   "source": [
    "s = \"[\"\n",
    "print(\"Third:\", isValid(s))"
   ]
  }
 ],
 "metadata": {
  "kernelspec": {
   "display_name": "learning",
   "language": "python",
   "name": "python3"
  },
  "language_info": {
   "codemirror_mode": {
    "name": "ipython",
    "version": 3
   },
   "file_extension": ".py",
   "mimetype": "text/x-python",
   "name": "python",
   "nbconvert_exporter": "python",
   "pygments_lexer": "ipython3",
   "version": "3.12.1"
  }
 },
 "nbformat": 4,
 "nbformat_minor": 2
}
