{
 "cells": [
  {
   "cell_type": "markdown",
   "metadata": {},
   "source": [
    "# 155. Min Stack\n",
    "Design a stack that supports push, pop, top, and retrieving the minimum element in constant time.\n",
    "\n",
    "Implement the MinStack class:\n",
    "- `MinStack()` initializes the object\n",
    "- `push(val)` pushes the element `val` onto the stack\n",
    "- `pop()` removes and returns the element on the top of the stack\n",
    "- `top()` gets the top element of the stack\n",
    "- `getMin()` retrieves the minimum element in the stack\n",
    "\n",
    "Implement a solution with O(1) time complexity for each function.\n",
    "\n",
    "## Notes\n",
    "This problem doesn't really have a space complexity constraint, as we're constructing a class rather than worrying about constructing an algorithm.\n",
    "\n",
    "The time constraint for this problem indicates that we need to have O(1) complexity for each function. \n",
    "\n",
    "This will be straight forward for the `push`, `pop`, and `top` functions. The `getMin` function could easily be O(n) if we searched the entire stack for each call. Instead, perhaps we need to store an ordered list of the current values in the stack. We could keep track of the unique values in the stack and the number of times they appear. This would be an O(len(unique(n)) * 2) space complexity problem.\n",
    "\n",
    "After a GPT discussion, this approach certainly would work, but there is a simpler O(2n) approach of just keeping a running list of the corresponding minimal value in the stack after each `push` and `pop` operation. This is an example of a time/space trade-off, as the ordered list approach would use less space, but would take more time to implement and would be marginally slower. In addition, both solutions reduce to O(n) space complexity.\n",
    "\n",
    "I'll follow the running \"min-stack\" solution for now.\n",
    "\n",
    "## Solution Thoughts\n",
    "I'll opt to not use the built in `pop` operation for this exercise.\n",
    "\n",
    "The main considerations will be checking that the list has actual values to `top`, `pop`, and `getMin`. `None` will be returned otherwise.\n",
    "\n",
    "To implement the push function, we will first add the input value to the stack. Then, we need to add conditionals to check how to add the value to the running minimum.\n",
    "\n",
    "If the stack minimum has no values, we will simply append the input value. Otherwise, we will compare the input value to the top of the stack and append the smallest value to the minimum stack.\n"
   ]
  },
  {
   "cell_type": "code",
   "execution_count": 3,
   "metadata": {},
   "outputs": [],
   "source": [
    "class MinStack(object):\n",
    "  def __init__(self):\n",
    "    self.stack = []\n",
    "    self.stack_min = []\n",
    "    \n",
    "    return\n",
    "\n",
    "  def push(self, val):\n",
    "    self.stack.append(val)\n",
    "    \n",
    "    if not len(self.stack_min):\n",
    "      self.stack_min.append(val)\n",
    "    elif val <= self.stack_min[-1]:\n",
    "      self.stack_min.append(val)\n",
    "    else:\n",
    "      self.stack_min.append(self.stack_min[-1])\n",
    "      \n",
    "    return\n",
    "  \n",
    "  def pop(self):\n",
    "    if len(self.stack):\n",
    "      return_value = self.stack[-1]\n",
    "      del self.stack[-1]\n",
    "      del self.stack_min[-1]\n",
    "    else:\n",
    "      return None\n",
    "    \n",
    "    return return_value\n",
    "  \n",
    "  def top(self):\n",
    "    if len(self.stack):\n",
    "      return_value = self.stack[-1]\n",
    "    else:\n",
    "      return None\n",
    "    \n",
    "    return return_value\n",
    "  \n",
    "  def getMin(self):\n",
    "    return_value = self.stack_min[-1]\n",
    "    return return_value"
   ]
  },
  {
   "cell_type": "code",
   "execution_count": 4,
   "metadata": {},
   "outputs": [
    {
     "name": "stdout",
     "output_type": "stream",
     "text": [
      "None\n",
      "None\n",
      "None\n",
      "-3\n",
      "-3\n",
      "0\n",
      "-2\n"
     ]
    }
   ],
   "source": [
    "a = MinStack()\n",
    "print(a.push(-2))\n",
    "print(a.push(0))\n",
    "print(a.push(-3))\n",
    "print(a.getMin())\n",
    "print(a.pop())\n",
    "print(a.top())\n",
    "print(a.getMin())"
   ]
  }
 ],
 "metadata": {
  "kernelspec": {
   "display_name": "learning",
   "language": "python",
   "name": "python3"
  },
  "language_info": {
   "codemirror_mode": {
    "name": "ipython",
    "version": 3
   },
   "file_extension": ".py",
   "mimetype": "text/x-python",
   "name": "python",
   "nbconvert_exporter": "python",
   "pygments_lexer": "ipython3",
   "version": "3.12.1"
  }
 },
 "nbformat": 4,
 "nbformat_minor": 2
}
