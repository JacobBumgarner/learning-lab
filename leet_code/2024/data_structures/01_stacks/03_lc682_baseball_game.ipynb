{
 "cells": [
  {
   "cell_type": "markdown",
   "metadata": {},
   "source": [
    "# 682 Baseball Game\n",
    "## Notes\n",
    "This problem has O(n) time complexity, as it will always take as long as\n",
    "the number of input operations Solving the problem with a stack leads to O(n)\n",
    "space complexity, because the stack will always need to grow with the input ops.\n",
    "I'm not sure if this problem could be solved with O(1) space complexity, as we\n",
    "could get a long list of (\"C\"), which would require knowing an equivalently long\n",
    "record of the ops.\n",
    "\n",
    "## Solution Thoughts\n",
    "This problem should be relatively straight forward to solve using a list that we\n",
    "grow and shrink according to the input operations. We can operate under the \n",
    "assumptions that any removals, doubling, or addition processes will only\n",
    "appear if there are sufficient values in the stack for the operation.\n",
    "\n",
    "List operation procedures:\n",
    "- If we encounter an integer, append it to the list\n",
    "- If we encounter a removal (\"C\"), pop the top option (`.pop()`)\n",
    "- If we encounter a \"D\", append the previous value times 2, using negative \n",
    "indexing (`[-1]`)\n",
    "- If we encounter a \"+\", add the previous two values, using negative indexing\n",
    "(`[-1]`, `[-2]`)"
   ]
  },
  {
   "cell_type": "code",
   "execution_count": 1,
   "metadata": {},
   "outputs": [],
   "source": [
    "# start with empty record\n",
    "# given a list of string operations\n",
    "# x - Integer to add to the list\n",
    "# \"+\" - Record new score that is the sum of the previous two scores\n",
    "# \"D\" - Record new score that is double the previous score\n",
    "# \"C\" - Remove the previous score from the record\n",
    "# \n",
    "# Return the sum of the record\n",
    "def calPoints(ops):\n",
    "  scores = []\n",
    "  \n",
    "  for op in ops:\n",
    "    if op == \"+\":\n",
    "      scores.append(scores[-1] + scores[-2])\n",
    "    elif op == \"D\": \n",
    "      scores.append(scores[-1] * 2)\n",
    "    elif op == \"C\":\n",
    "      scores.pop()\n",
    "    else:\n",
    "      scores.append(int(op))\n",
    "  \n",
    "  return sum(scores)"
   ]
  },
  {
   "cell_type": "code",
   "execution_count": 2,
   "metadata": {},
   "outputs": [
    {
     "name": "stdout",
     "output_type": "stream",
     "text": [
      "First: 30\n"
     ]
    }
   ],
   "source": [
    "ops = [\"5\", \"2\", \"C\", \"D\", \"+\"]\n",
    "print(\"First:\", calPoints(ops))"
   ]
  },
  {
   "cell_type": "code",
   "execution_count": 3,
   "metadata": {},
   "outputs": [
    {
     "name": "stdout",
     "output_type": "stream",
     "text": [
      "Second: 27\n"
     ]
    }
   ],
   "source": [
    "ops = [\"5\", \"-2\", \"4\", \"C\", \"D\", \"9\", \"+\", \"+\"]\n",
    "print(\"Second:\", calPoints(ops))"
   ]
  },
  {
   "cell_type": "code",
   "execution_count": 4,
   "metadata": {},
   "outputs": [
    {
     "name": "stdout",
     "output_type": "stream",
     "text": [
      "Third: 0\n"
     ]
    }
   ],
   "source": [
    "ops = [\"1\", \"C\"]\n",
    "print(\"Third:\", calPoints(ops))"
   ]
  }
 ],
 "metadata": {
  "kernelspec": {
   "display_name": "learning",
   "language": "python",
   "name": "python3"
  },
  "language_info": {
   "codemirror_mode": {
    "name": "ipython",
    "version": 3
   },
   "file_extension": ".py",
   "mimetype": "text/x-python",
   "name": "python",
   "nbconvert_exporter": "python",
   "pygments_lexer": "ipython3",
   "version": "3.12.1"
  }
 },
 "nbformat": 4,
 "nbformat_minor": 2
}
