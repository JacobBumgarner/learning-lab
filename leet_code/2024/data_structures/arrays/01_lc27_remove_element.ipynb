{
 "cells": [
  {
   "cell_type": "markdown",
   "metadata": {},
   "source": [
    "# 27. Remove Element\n",
    "Given an integer array nums and an integer val, remove all occurrences of val in nums in-place. The order of the elements may be changed. Then return the number of elements in nums which are not equal to val.\n",
    "\n",
    "Consider the number of elements in nums which are not equal to val be k, to get accepted, you need to do the following things:\n",
    "\n",
    "- Change the array nums such that the first k elements of nums contain the elements which are not equal to val. The remaining elements of nums are not important as well as the size of nums.\n",
    "- Return k.\n",
    "\n",
    "\n",
    "Custom Judge:\n",
    "\n",
    "The judge will test your solution with the following code:\n",
    "\n",
    "```\n",
    "int[] nums = [...]; // Input array\n",
    "int val = ...; // Value to remove\n",
    "int[] expectedNums = [...]; // The expected answer with correct length.\n",
    "                            // It is sorted with no values equaling val.\n",
    "\n",
    "int k = removeElement(nums, val); // Calls your implementation\n",
    "\n",
    "assert k == expectedNums.length;\n",
    "sort(nums, 0, k); // Sort the first k elements of nums\n",
    "for (int i = 0; i < actualLength; i++) {\n",
    "    assert nums[i] == expectedNums[i];\n",
    "}\n",
    "```\n",
    "\n",
    "If all assertions pass, then your solution will be accepted.\n",
    "\n",
    "If all assertions pass, then your solution will be accepted.\n",
    "\n",
    " \n",
    "\n",
    "Example 1:\n",
    "\n",
    "```\n",
    "Input: nums = [3,2,2,3], val = 3\n",
    "Output: 2, nums = [2,2,_,_]\n",
    "Explanation: Your function should return k = 2, with the first two elements of nums being 2.\n",
    "It does not matter what you leave beyond the returned k (hence they are underscores).\n",
    "```\n",
    "\n",
    "Example 2:\n",
    "```\n",
    "Input: nums = [0,1,2,2,3,0,4,2], val = 2\n",
    "Output: 5, nums = [0,1,4,0,3,_,_,_]\n",
    "Explanation: Your function should return k = 5, with the first five elements of nums containing 0, 0, 1, 3, and 4.\n",
    "Note that the five elements can be returned in any order.\n",
    "It does not matter what you leave beyond the returned k (hence they are underscores).\n",
    "```\n",
    " \n",
    "\n",
    "Constraints:\n",
    "- 0 <= nums.length <= 100\n",
    "- 0 <= nums[i] <= 50\n",
    "- 0 <= val <= 100\n"
   ]
  },
  {
   "cell_type": "markdown",
   "metadata": {},
   "source": [
    "# Notes\n",
    "This problem should be solved in-place, making the space complexity O(1). Using a two-pointer approach, the time complexity will be O(n)."
   ]
  },
  {
   "cell_type": "markdown",
   "metadata": {},
   "source": [
    "# Solution Thoughts\n",
    "I will use a two pointer approach. The left pointer should be dominant. The right pointer should always move forward, however, we will want to avoid moving the right pointer away from values it could replace. Of course, this could also be simply solved by counting the non-val numbers in the array, but I want to solve the 'removal' problem.\n",
    "\n",
    "R Advancing rules:\n",
    "- Advance if used for a replacement\n",
    "- Advance if it equals the val\n",
    "- Advance if L advances\\\n",
    "- Only advance R if it is shorter then nums.\n",
    "\n",
    "L Advancing Rules:\n",
    "- Advance if it's been replaced\n",
    "- Advance if it doesn't equal val\n",
    "\n",
    "We should also make sure to swap nums[R] with the val so that we don't include any duplicated values.\n",
    "\n",
    "Lastly, we need to handle cases when nums doesn't contain any vals, as L won't advance to the end.\n",
    "\n",
    "Start with L = 0, R = 1.\n",
    "```\n",
    "if nums[L] == val:\n",
    "    if nums[R] == val:\n",
    "        R += 1\n",
    "    else: \n",
    "        nums[L] = nums[R]\n",
    "        nums[R] = val\n",
    "        L += 1\n",
    "        R += 1\n",
    "else:\n",
    "    L += 1\n",
    "    R += 1\n",
    "```"
   ]
  },
  {
   "cell_type": "code",
   "execution_count": 30,
   "metadata": {},
   "outputs": [],
   "source": [
    "def removeElement(nums, val):\n",
    "    l = 0\n",
    "    r = 1\n",
    "\n",
    "    while(r < len(nums)):\n",
    "        if nums[l] == val:\n",
    "            if nums[r] != val:\n",
    "                nums[l] = nums[r]\n",
    "                nums[r] = val\n",
    "                l += 1\n",
    "        else:\n",
    "            l += 1\n",
    "        r += 1\n",
    "\n",
    "    return l "
   ]
  },
  {
   "cell_type": "code",
   "execution_count": 31,
   "metadata": {},
   "outputs": [
    {
     "data": {
      "text/plain": [
       "2"
      ]
     },
     "execution_count": 31,
     "metadata": {},
     "output_type": "execute_result"
    }
   ],
   "source": [
    "test = [3, 2, 2, 3]\n",
    "removeElement(test, 2)"
   ]
  },
  {
   "cell_type": "markdown",
   "metadata": {},
   "source": [
    "# Solution 2\n",
    "The solution above works, but not for all cases. In particular, it doesn't work when nums doesn't contain any val, as the left pointer won't reach the end of the array and won't be able to accurately represent the non-val numbers.\n",
    "\n",
    "After RosaGPT discussion, my hint was that both pointers should start at zero.\n",
    "\n",
    "**Process:**\n",
    "\n",
    "Initialize L = R = 0.\n",
    "\n",
    "L rules:\n",
    "- if nums[L] is replaced, increment L\n",
    "\n",
    "R advancement rules:\n",
    "- Increment R each round\n",
    "- If nums[R] doesn't equal the val, replace nums[L] with nums[R]"
   ]
  },
  {
   "cell_type": "code",
   "execution_count": 53,
   "metadata": {},
   "outputs": [],
   "source": [
    "def removeElement(nums, val):\n",
    "    l = r = 0\n",
    "\n",
    "    while(r < len(nums)):\n",
    "        if nums[r] != val:\n",
    "            nums[l] = nums[r]\n",
    "            l += 1\n",
    "        r += 1\n",
    "\n",
    "    return nums"
   ]
  },
  {
   "cell_type": "code",
   "execution_count": 54,
   "metadata": {},
   "outputs": [
    {
     "data": {
      "text/plain": [
       "[0, 1, 3, 0, 4, 0, 4, 2]"
      ]
     },
     "execution_count": 54,
     "metadata": {},
     "output_type": "execute_result"
    }
   ],
   "source": [
    "test = [0,1,2,2,3,0,4,2]\n",
    "removeElement(test, 2)"
   ]
  },
  {
   "cell_type": "markdown",
   "metadata": {},
   "source": [
    "By moving through the array with a 'right-dominant' pointer, we are always swapping non-`val`s to the front. This approach avoids duplicates by only advancing L when it's been replaced with a non-`val`.\n",
    "\n",
    "To reiterate:\n",
    "\n",
    "- Start both L and R pointers at zero. \n",
    "- If nums[R] != val, replace nums[L] with nums[R], then increment L\n",
    "- Increment R each iteration"
   ]
  }
 ],
 "metadata": {
  "kernelspec": {
   "display_name": "learning",
   "language": "python",
   "name": "python3"
  },
  "language_info": {
   "codemirror_mode": {
    "name": "ipython",
    "version": 3
   },
   "file_extension": ".py",
   "mimetype": "text/x-python",
   "name": "python",
   "nbconvert_exporter": "python",
   "pygments_lexer": "ipython3",
   "version": "3.12.1"
  }
 },
 "nbformat": 4,
 "nbformat_minor": 2
}
