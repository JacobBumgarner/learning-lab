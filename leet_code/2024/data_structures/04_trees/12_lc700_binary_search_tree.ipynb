{
 "cells": [
  {
   "cell_type": "markdown",
   "metadata": {},
   "source": [
    "# 700. Search in a Binary Search Tree\n",
    "Given the root of a binary search tree and an integer `val`, find the node in the tree that equals `val` and return the node.\n",
    "\n",
    "## Notes\n",
    "This problem can be solved in O(1) solution space, as there is no need to dynamically allocated variables. The problem will be solved in O(log n) time complextiy due to the structural nature of the BST.\n",
    "\n",
    "## Solution Thoughts\n",
    "### Recursive Approach\n",
    "This problem can be solved recursively or iteratively given the nature of the structure of BST. \n",
    "\n",
    "To challenge myself, I will solve the problem both recursively and iteratively.\n",
    "\n",
    "In the recursive approach, I will create a nested function for traversing the tree. In this nested function, we will return a couple of different possible values:\n",
    "\n",
    "1. If the current `node` is `null`, return `null`.\n",
    "2. If the current `node.val` is larger than the `val`, return `node.left` into the nested function\n",
    "3. If the current `node.val` is smaller than the `val`, return the `node.right` into the nested function\n",
    "4. If the current `node.val` equals the `val`, return the node.\n",
    "\n",
    "### Iterative Approach\n",
    "For the iterative approach, we will iterate on `while` until the node is `None` or the `node.val` matches the search `val`.\n",
    "\n",
    "In each iteration, we will step the `node` to the right if the `node.val` is smaller than `val`, and to the left otherwise.\n",
    "\n",
    "We will return the `node` at the end of the function.\n"
   ]
  },
  {
   "cell_type": "code",
   "execution_count": 2,
   "metadata": {},
   "outputs": [],
   "source": [
    "def searchBSTRecursive(root, val):\n",
    "    \"\"\"\n",
    "    Recursive BST value search.\n",
    "    \"\"\"\n",
    "    def search(node, val):\n",
    "        if not node:\n",
    "            return None\n",
    "        elif node.val == val:\n",
    "            return node\n",
    "        elif node.val < val:\n",
    "            return search(node.right, val)\n",
    "        else:\n",
    "            return search(node.left, val)\n",
    "        \n",
    "    return search(root, val)"
   ]
  },
  {
   "cell_type": "code",
   "execution_count": 3,
   "metadata": {},
   "outputs": [],
   "source": [
    "def searchBSTIterative(root, val):\n",
    "    \"\"\"\n",
    "    Iterative BST value search.\n",
    "    \"\"\"\n",
    "    node = root\n",
    "\n",
    "    while node and node.val != val:\n",
    "        if node.val < val:\n",
    "            node = node.right\n",
    "        else:\n",
    "            node = node.left\n",
    "\n",
    "    return node"
   ]
  }
 ],
 "metadata": {
  "kernelspec": {
   "display_name": "learning",
   "language": "python",
   "name": "python3"
  },
  "language_info": {
   "codemirror_mode": {
    "name": "ipython",
    "version": 3
   },
   "file_extension": ".py",
   "mimetype": "text/x-python",
   "name": "python",
   "nbconvert_exporter": "python",
   "pygments_lexer": "ipython3",
   "version": "3.12.1"
  }
 },
 "nbformat": 4,
 "nbformat_minor": 2
}
