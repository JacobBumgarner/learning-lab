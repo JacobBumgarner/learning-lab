{
 "cells": [
  {
   "cell_type": "markdown",
   "metadata": {},
   "source": [
    "# 450. Delete Node in a BST\n",
    "Given the `root` of a binary search tree (BST) and a `value`, find and delete the `value` from the tree, if it exists.\n",
    "\n",
    "Return the `root` at the end of the function.\n",
    "\n",
    "## Notes\n",
    "This problem can be solved in O(1) space complexity and at worst O(logn) time complexity.\n",
    "\n",
    "## Solution Thoughts\n",
    "This is a relatively complicated problem with multiple edge cases to consider.\n",
    "\n",
    "The problem can be solved iteratively, but I think the solution will be a bit more effective if implemented recursively.\n",
    "\n",
    "In the recursive approach, there will be three stages of the process:\n",
    "\n",
    "1. Recursively find the node slated for deletion (`deleteNode`). At each stage of traversal, we update the child leaf with the return of the recursive search. Keep traversing the tree until we either find the node or land on a leaf node. If landing on a leaf node, return `None`. Otherwise, continue to stage two.\n",
    "2. Once we've found the `deleteNode`, we will process it according to the three possible edge cases:\n",
    "    1. The `deleteNode` is a leaf node. If this is true, we simply return `None`, as this will update the previous node to point to `None`.\n",
    "    2. The `deleteNode` has one child. If this is true, simply point the previous node to the `deleteNode` child.\n",
    "    3. The `deleteNode` has two children. If this is true, we find the maximum value in the left sub-tree, and we replace the `deleteNode`'s value with that value. If this condition is met, continue to stage three.\n",
    "3. If condition three of stage two is met, repeat stages one and two to delete the value that was used to replace the `deleteNode`. By definition, the maximum left sub-tree value will only meet conditions one or two for stage 2, so the problem will not become recursively.\n",
    "\n",
    "To describe the recursive approach in stage one with an example, image the following BST:\n",
    "\n",
    "~~~\n",
    "  5\n",
    " / \\\n",
    "2   6\n",
    " \\   \\ \n",
    "  4   7\n",
    "~~~\n",
    "\n",
    "If we want to delete `7` from the bst, this will be the process:\n",
    "1. Depth 1. Start at `5`. `7 > 5`: Recursively step down to the right, and update the right pointer of 5 with the return of the function.\n",
    "2. Depth 2. `7 > 6`: Recursively step down to the right, and update the right poniter of `6` with the return of the function.\n",
    "3. Depth 3. `7 == 7`: We've found the target value, and it is a leaf node. As such, we can simply return `None`. This will step us back up to depth 2.\n",
    "4. Depth 2. The right pointer of `6` has been updated with the return from Depth 3 (`None`). Return the current node. This will step us back up to depth 1.\n",
    "5. Depth 1. The right pointer of `5` has been updated from the return from Depth 2 (`6`). Return the current node. This will end the function."
   ]
  },
  {
   "cell_type": "code",
   "execution_count": null,
   "metadata": {},
   "outputs": [],
   "source": [
    "def deleteNode(root, key):\n",
    "    if not root:\n",
    "        return None\n",
    "\n",
    "    if root.val > key:\n",
    "        root.right = deleteNode(root.right, key)\n",
    "    elif root.val < key:\n",
    "        root.key = deleteNode(root.left, key)\n",
    "    else:  # we've found the target\n",
    "        if not root.left:  # either no children or one child\n",
    "            return root.right\n",
    "        elif not root.right:  # only one child\n",
    "            return root.left\n",
    "        else:  # two children\n",
    "            # find maximum value in left sub tree\n",
    "            temp = root.left\n",
    "            while temp.right:\n",
    "                temp = temp.right\n",
    "\n",
    "            root.val = temp.val\n",
    "            root.left = deleteNode(root.left, root.val)\n",
    "        \n",
    "    return root\n"
   ]
  }
 ],
 "metadata": {
  "kernelspec": {
   "display_name": "learning",
   "language": "python",
   "name": "python3"
  },
  "language_info": {
   "name": "python",
   "version": "3.12.1"
  }
 },
 "nbformat": 4,
 "nbformat_minor": 2
}
