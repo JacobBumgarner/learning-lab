{
 "cells": [
  {
   "cell_type": "markdown",
   "metadata": {},
   "source": [
    "# 199. Binary Tree Right Side View\n",
    "Given the `root` of a binary tree, return the *right side* view of the tree. \n",
    "\n",
    "In other words, return the first exposed node on the right side of the tree at each level from a right-to-left scan.\n",
    "\n",
    "## Notes\n",
    "\n",
    "\n",
    "## Solution Thoughts\n",
    "This problem is an almost trivial extension of the level-order traversal. A full level-order traversal could be conducted, and the `-1` index of each sub-list could be returned.\n",
    "\n",
    "We can also modify our solution such that we have a preference for \"right-first\" searches, and we will only add a value to the `right_side` list if the list is first encountered at that level.\n"
   ]
  },
  {
   "cell_type": "code",
   "execution_count": 4,
   "metadata": {},
   "outputs": [],
   "source": [
    "class Solution(object):\n",
    "    def rightSideView(self, root):\n",
    "        def traverse(root, depth, right_view):\n",
    "            if not root:\n",
    "                return right_view\n",
    "            \n",
    "            if len(right_view) == depth:\n",
    "                right_view.append(root.val)\n",
    "\n",
    "            depth += 1\n",
    "\n",
    "            if root.right:\n",
    "                right_view = traverse(root.right, depth, right_view)\n",
    "            if root.left:\n",
    "                right_view = traverse(root.left, depth, right_view)\n",
    "\n",
    "            return right_view\n",
    "\n",
    "        return traverse(root, 0, [])"
   ]
  }
 ],
 "metadata": {
  "kernelspec": {
   "display_name": "learning",
   "language": "python",
   "name": "python3"
  },
  "language_info": {
   "codemirror_mode": {
    "name": "ipython",
    "version": 3
   },
   "file_extension": ".py",
   "mimetype": "text/x-python",
   "name": "python",
   "nbconvert_exporter": "python",
   "pygments_lexer": "ipython3",
   "version": "3.12.1"
  }
 },
 "nbformat": 4,
 "nbformat_minor": 2
}
