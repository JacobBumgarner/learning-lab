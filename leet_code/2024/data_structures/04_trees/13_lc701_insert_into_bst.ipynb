{
 "cells": [
  {
   "cell_type": "markdown",
   "metadata": {},
   "source": [
    "# 701. Insert into a Binary Search Tree\n",
    "Given the root node of a BST and a `value`, to insert into the tree, return the root node of the BST after the insertion.\n",
    "\n",
    "The new `value` is gauranteed to not exist in the tree.\n",
    "\n",
    "## Notes\n",
    "Given the characteristics of BST's, this operation should take O(1) space complexity, as we won't have to dynamically allocate memory.\n",
    "\n",
    "The operation will take O(logn) time complexity due to the structure of BST's.\n",
    "\n",
    "## Solution Thoughts\n",
    "We can solve this problem by adding the new value as a leaf to the current tree. We can traverse the tree iteratively by checking if the current node's value is larger or smaller than the target value. If the node's value is larger, we traverse down to the left, otherwise, to the right. \n",
    "\n",
    "Once we find a leaf node in our search, we can simply add the `target` value as a new node in the corresponding left or right slot.\n",
    "\n",
    "Of note, this problem could also be solved recursively."
   ]
  },
  {
   "cell_type": "code",
   "execution_count": 2,
   "metadata": {},
   "outputs": [],
   "source": [
    "def insertIntoBST(root, value):\n",
    "    new_node = TreeNode(val = value)\n",
    "\n",
    "    curr_node = root\n",
    "\n",
    "    while True:\n",
    "        if curr_node.val < value:\n",
    "            if curr_node.right:\n",
    "                curr_node = curr_node.right\n",
    "            else:\n",
    "                curr_node.right = new_node\n",
    "                break\n",
    "        else:\n",
    "            if curr_node.left:\n",
    "                curr_node = curr_node.left\n",
    "            else:\n",
    "                curr_node.left = new_node\n",
    "                break\n",
    "    \n",
    "    return root\n",
    "        \n"
   ]
  }
 ],
 "metadata": {
  "kernelspec": {
   "display_name": "learning",
   "language": "python",
   "name": "python3"
  },
  "language_info": {
   "codemirror_mode": {
    "name": "ipython",
    "version": 3
   },
   "file_extension": ".py",
   "mimetype": "text/x-python",
   "name": "python",
   "nbconvert_exporter": "python",
   "pygments_lexer": "ipython3",
   "version": "3.12.1"
  }
 },
 "nbformat": 4,
 "nbformat_minor": 2
}
