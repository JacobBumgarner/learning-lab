{
 "cells": [
  {
   "cell_type": "markdown",
   "metadata": {},
   "source": [
    "# 94. Binary Tree Inorder Traversal\n",
    "Given a binary tree, return the *in order* traversal of its nodes' values.\n",
    "\n",
    "*In order* traversal simulates scanning the tree from left to right and returning values as they're encountered. This matches a Left > Node > Right heirarchy.\n",
    "\n",
    "## Notes\n",
    "This problem can be solved with O(h) space complexity in a recursive solution (h being the height of the tree), as we will at most need to be at a recursive depth of `h`. The space complexity will be O(n) for an iterative solution due to the stack that needs to be kept for the \"memory\" of the iterations.\n",
    "\n",
    "The problem will be solved in O(n) time complexity, as we will need to visit each node of the tree once.\n",
    "\n",
    "## Solution Thoughts\n",
    "This problem can be solved both recursively and iteratively. I will solve the problem with both approaches for practice.\n",
    "\n",
    "For both solutions, we will maintain a running list of the `inorder` values.\n",
    "\n",
    "**Recursive Approach:**\n",
    "In the recursive search, if a `None` node is encountered, simply return up. Otherwise, follow these steps:\n",
    "\n",
    "1. If a left child of the current node exists, search down to the left. Update the list with the return value*.\n",
    "2. Add the current value.\n",
    "3. If a right child of the current node exists, search down to the right. Update the list with the return value\n",
    "4. Return the updated list.\n",
    "\n",
    "\\*Note that we don't actually need to return the list in this example, as Python lists are *mutable*.\n",
    "\n",
    "**Iterative Approach:**\n",
    "In the iterative approach, we create a `stack` object.\n",
    "\n",
    "Starting at the root, iterate in a `while` until the `current_node` is `None` or the `stack` is empty.\n",
    "\n",
    "Follow these steps in the `while` loop:\n",
    "1. While the `current_node` is not null:\n",
    "    1. Add the `current_node` to the `stack`\n",
    "    2. Replace the `current_node` with the left child\n",
    "2. Grab the node at the top of the stack (this will only happen once the current node is `None`).\n",
    "3. Add the current node's value to the inorder list.\n",
    "4. Replace the current node with the right child."
   ]
  },
  {
   "cell_type": "code",
   "execution_count": null,
   "metadata": {},
   "outputs": [],
   "source": [
    "def inorderTraversalRecursive(root):\n",
    "    inorder = []\n",
    "\n",
    "    def search(node, inorder):\n",
    "        if not node:\n",
    "            return inorder\n",
    "\n",
    "        if node.left:\n",
    "            inorder = search(node.left, inorder)\n",
    "\n",
    "        inorder.append(node.val)\n",
    "\n",
    "        if node.right:\n",
    "            inorder = search(node.right, inorder)\n",
    "\n",
    "        return inorder\n",
    "        \n",
    "    return search(root, inorder)"
   ]
  },
  {
   "cell_type": "code",
   "execution_count": null,
   "metadata": {},
   "outputs": [],
   "source": [
    "def inorderTraversalIterative(root):\n",
    "    inorder = []\n",
    "    node_stack = []\n",
    "\n",
    "    curr_node = root\n",
    "\n",
    "    while curr_node or len(node_stack):\n",
    "        while curr_node:\n",
    "            node_stack.append(curr_node)\n",
    "            curr_node = curr_node.left\n",
    "\n",
    "        curr_node = node_stack.pop()\n",
    "        inorder.append(curr_node.val)\n",
    "\n",
    "        curr_node = curr_node.right\n",
    "    \n",
    "    return inorder"
   ]
  }
 ],
 "metadata": {
  "kernelspec": {
   "display_name": "learning",
   "language": "python",
   "name": "python3"
  },
  "language_info": {
   "name": "python",
   "version": "3.12.1"
  }
 },
 "nbformat": 4,
 "nbformat_minor": 2
}
