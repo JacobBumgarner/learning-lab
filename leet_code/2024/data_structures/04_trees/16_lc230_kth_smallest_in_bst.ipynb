{
 "cells": [
  {
   "cell_type": "markdown",
   "metadata": {},
   "source": [
    "# 230. Kth Smallest Element in a BST\n",
    "Given the `root` of a BST and an integer `k`, return the `kth` smallest value of all of the values in the tree.\n",
    "\n",
    "## Notes\n",
    "This problem can be solved in O(h) space complexity, as the only memory requirements will be based on the recursion depth.\n",
    "\n",
    "Ths problem will be solvable in at worst O(n) complexity without the tree having some additional information about subtree size.\n",
    "\n",
    "## Solution Thoughts\n",
    "The solution to this problem comes with a minor update to the inorder traversal solution in problem 94 (problem #15 in my set).\n",
    "\n",
    "In this problem, rather than keeping track of the inorder set of numbers, we will keep a simple iterator that increases in value with every encountered node. In addition, our recursive function will always return two value slots: the `tracker` value, and a `node` slot that will either be `None` or the kth smallest node.\n",
    "\n",
    "Once the tracker meets the `kth` value, we will return the identified node. Each return from the recursion will be checked, and the function will only continue the search if the `node` slot is not empty.\n",
    "\n",
    "In reality, the recursive solution is a bit too meaty for my preference. I'll implement the iterative solution as well for practice.\n",
    "\n",
    "In the iterative approach, we will follow the exact same structure as the previous BST, but this time we will simply `return` when our `tracker == k`."
   ]
  },
  {
   "cell_type": "code",
   "execution_count": 12,
   "metadata": {},
   "outputs": [],
   "source": [
    "def kthSmallestRecursive(root, k):\n",
    "    tracker = 0\n",
    "\n",
    "    def search(root, k, tracker):\n",
    "        if root.left:\n",
    "            tracker, node = search(root.left, k, tracker)\n",
    "            if node is not None:\n",
    "                return [tracker, node]\n",
    "        \n",
    "        tracker += 1\n",
    "        if k == tracker:\n",
    "            return [tracker, root.val]\n",
    "\n",
    "        if root.right:\n",
    "            tracker, node = search(root.right, k, tracker)\n",
    "            if node is not None:\n",
    "                return [tracker, node]\n",
    "        \n",
    "        return [tracker, None]\n",
    "\n",
    "    return search(root, k, tracker)[1]"
   ]
  },
  {
   "cell_type": "code",
   "execution_count": 13,
   "metadata": {},
   "outputs": [],
   "source": [
    "def kthSmallestIterative(root, k):\n",
    "    node_stack = []\n",
    "    tracker = 0\n",
    "\n",
    "    while root or len(node_stack):\n",
    "        while root:\n",
    "            node_stack.append(root)\n",
    "            root = root.left\n",
    "        \n",
    "        root = node_stack.pop()\n",
    "        tracker += 1\n",
    "\n",
    "        if k == tracker:\n",
    "            return root.val\n",
    "        \n",
    "        root = root.right\n",
    "\n",
    "\n",
    "    return "
   ]
  }
 ],
 "metadata": {
  "kernelspec": {
   "display_name": "learning",
   "language": "python",
   "name": "python3"
  },
  "language_info": {
   "codemirror_mode": {
    "name": "ipython",
    "version": 3
   },
   "file_extension": ".py",
   "mimetype": "text/x-python",
   "name": "python",
   "nbconvert_exporter": "python",
   "pygments_lexer": "ipython3",
   "version": "3.12.1"
  }
 },
 "nbformat": 4,
 "nbformat_minor": 2
}
