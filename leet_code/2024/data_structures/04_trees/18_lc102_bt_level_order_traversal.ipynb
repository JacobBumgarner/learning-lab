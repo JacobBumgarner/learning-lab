{
 "cells": [
  {
   "cell_type": "markdown",
   "metadata": {},
   "source": [
    "# 102. Binary Tree Level Order Traversal\n",
    "Given the `root` of a binary tree, return the level order traversal of its nodes' values.\n",
    "\n",
    "The return object should be a list of lists, with one sub-list for eadch level of the tree.\n",
    "\n",
    "\n",
    "## Notes\n",
    "This problem can be solved in O(n) time complexity, as every node will need to be visited at least once. The problem will be solved with O(h) space complexity with a recursive solution.\n",
    "\n",
    "## Solution Thoughts\n",
    "I will solve this problem recursively in a manner very similar to the inorder traversal approach. \n",
    "\n",
    "Differently from the inorder traversal approach, this approach will keep track of the recursion depth and will add new 'sublists' for every recursion step. \n",
    "\n",
    "The main function will have a nested \"traverse\" function. This traverse function will return a `level_order` list.\n",
    "\n",
    "At the beginning of each function, we check if the node is `None`. If it is, return the inorder list as is. Otherwise, we check that the `level_order` list has the same length as the current depth of the recursion call. If it doesn't, we append an empty list at the end of the list.\n",
    "\n",
    "We then can append the current node to the sub-list in the `level_order` at the current recursion depth. We continue the search left and/or right if such child nodes exist.\n",
    "\n",
    "Return the `level_order` list at the end of the call."
   ]
  },
  {
   "cell_type": "code",
   "execution_count": 3,
   "metadata": {},
   "outputs": [],
   "source": [
    "class Solution(object):\n",
    "    def levelOrder(self, root):\n",
    "        def traverse(root, depth, level_order):\n",
    "            if not root:\n",
    "                return level_order\n",
    "            \n",
    "            if len(level_order) < depth:\n",
    "                level_order.append([])\n",
    "            \n",
    "            level_order[depth-1].append(root.val)\n",
    "\n",
    "            depth += 1\n",
    "\n",
    "            if root.left:\n",
    "                level_order = traverse(root.left, depth, level_order)\n",
    "            \n",
    "            if root.right:\n",
    "                level_order = traverse(root.right, depth, level_order)\n",
    "\n",
    "            return level_order\n",
    "\n",
    "        return traverse(root, 1, [])"
   ]
  }
 ],
 "metadata": {
  "kernelspec": {
   "display_name": "learning",
   "language": "python",
   "name": "python3"
  },
  "language_info": {
   "codemirror_mode": {
    "name": "ipython",
    "version": 3
   },
   "file_extension": ".py",
   "mimetype": "text/x-python",
   "name": "python",
   "nbconvert_exporter": "python",
   "pygments_lexer": "ipython3",
   "version": "3.12.1"
  }
 },
 "nbformat": 4,
 "nbformat_minor": 2
}
