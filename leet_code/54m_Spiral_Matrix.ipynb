{
 "cells": [
  {
   "cell_type": "markdown",
   "metadata": {},
   "source": [
    "# 54. Spiral Matrix\n",
    "Given an `m x n` `matrix`, return all of the elements of the matrix in 'spiral' order.\n",
    "\n",
    "By spiral, they want you to step right until the end, down until the end, left until the end,\n",
    "and then up until the row that has already been encountered. Repeat this by stepping right, down, left, up, etc. \n",
    "until you've encountered previously encountered rows."
   ]
  },
  {
   "cell_type": "code",
   "execution_count": 100,
   "metadata": {},
   "outputs": [
    {
     "name": "stdout",
     "output_type": "stream",
     "text": [
      "Solve time: 0114 h\n"
     ]
    }
   ],
   "source": [
    "# Timing\n",
    "start = 1326\n",
    "end = 1540 - 100  # stopped to do some cleaning\n",
    "solve_time = end - start\n",
    "print(f\"Solve time: {solve_time:04d} h\")"
   ]
  },
  {
   "cell_type": "markdown",
   "metadata": {},
   "source": [
    "### Planning\n",
    "I think that to do this I will keep track of the four current boundaries of the matrix:\n",
    "- Right, down, left, up\n",
    "\n",
    "I will also create four variables that move the current position UDLR when added to the current\n",
    "position indices.\n",
    "- up_mvt = [0, 1], down_mvt = [0, -1], etc\n",
    "\n",
    "I will then create a helper function that takes the current position, a movement\n",
    "variable, and the limit.\n",
    "\n",
    "This function will update the position until it meets the current limit.\n",
    "\n",
    "The new position will be returned.\n",
    "\n",
    "I will create a while loop that iterates over the four cardinal position updates until\n",
    "the elements in the spiral list is the same as the elements in the input list.\n",
    "\n",
    "At the end of each iteration, the boundaries will be updated.\n",
    "\n",
    "---\n",
    "\n",
    "I'm going to take a different approach. Rather than worrying about keeping track\n",
    "of boundaries, I'm going to simply replace the values I've already taken from the\n",
    "matrix with a `None`. If I encounter either a boundary of the matrix or a `None`, I'll\n",
    "break the current step cycle.\n",
    "\n",
    "---\n",
    "I could also take an approach where I just pop the sublists from the matrix \n",
    "or their respective elements into the new spiral.\n",
    "\n",
    "I'm going to try that. The only issue is that it will be ugly to have so many checks\n",
    "in place making sure that the matrix still has elements within each iteration."
   ]
  },
  {
   "cell_type": "code",
   "execution_count": 94,
   "metadata": {},
   "outputs": [
    {
     "data": {
      "text/plain": [
       "[1, 2, 3, 4, 5, 6, 7, 8, 9, 10]"
      ]
     },
     "execution_count": 94,
     "metadata": {},
     "output_type": "execute_result"
    }
   ],
   "source": [
    "def spiral_order(matrix):\n",
    "    def clean_matrix(matrix):\n",
    "        for i in range(len(matrix)-1, -1, -1):\n",
    "            if not matrix[i]:\n",
    "                matrix.pop(i)\n",
    "        return\n",
    "    spiral = []\n",
    "    \n",
    "    while matrix:\n",
    "        # right\n",
    "        top_row = matrix.pop(0)\n",
    "        spiral.extend(top_row)\n",
    "        clean_matrix(matrix)\n",
    "        if not matrix:\n",
    "            break\n",
    "        \n",
    "        # down\n",
    "        for i in range(len(matrix)-1):\n",
    "            spiral.append(matrix[i].pop())\n",
    "        clean_matrix(matrix)\n",
    "        if not matrix:\n",
    "            break\n",
    "        \n",
    "        # left\n",
    "        bottom_row = matrix.pop(-1)\n",
    "        bottom_row.reverse()\n",
    "        spiral.extend(bottom_row)\n",
    "        \n",
    "        clean_matrix(matrix)\n",
    "        if not matrix:\n",
    "            break\n",
    "        \n",
    "        # up\n",
    "        for i in range(len(matrix)-1, -1, -1):\n",
    "            spiral.append(matrix[i].pop(0))\n",
    "        clean_matrix(matrix)\n",
    "        \n",
    "\n",
    "    return spiral\n",
    "\n",
    "matrix = [[1],[2],[3],[4],[5],[6],[7],[8],[9],[10]]\n",
    "spiral_order(matrix)\n"
   ]
  },
  {
   "cell_type": "markdown",
   "metadata": {},
   "source": [
    "### Afterthoughts\n",
    "**Stats:**\n",
    "Runtime\n",
    "40 ms\n",
    "Beats\n",
    "12.21%\n",
    "Memory\n",
    "13.3 MB\n",
    "Beats\n",
    "89.89%\n",
    "\n",
    "This approach is highly effective in the context of memory usage, O(n).\n",
    "\n",
    "However, it's pretty slow. What did others do?\n",
    "\n",
    "Another fast approach used the boundaries idea that I had but their solution\n",
    "was a bit more elegant."
   ]
  }
 ],
 "metadata": {
  "kernelspec": {
   "display_name": "Python 3.10.2 64-bit ('learning')",
   "language": "python",
   "name": "python3"
  },
  "language_info": {
   "codemirror_mode": {
    "name": "ipython",
    "version": 3
   },
   "file_extension": ".py",
   "mimetype": "text/x-python",
   "name": "python",
   "nbconvert_exporter": "python",
   "pygments_lexer": "ipython3",
   "version": "3.10.2"
  },
  "orig_nbformat": 4,
  "vscode": {
   "interpreter": {
    "hash": "083c3123b4ad7f25f53c003e80272d3d1894a33e093a79f10823ee80b0414ebd"
   }
  }
 },
 "nbformat": 4,
 "nbformat_minor": 2
}
