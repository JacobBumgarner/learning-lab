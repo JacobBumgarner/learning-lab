{
 "cells": [
  {
   "cell_type": "markdown",
   "metadata": {},
   "source": [
    "# 43. Multiply Strings\n",
    "Given two non-negative integers, `num1` and `num2`, return the product of `num1` and\n",
    "`num2` as a string.\n",
    "\n",
    "Do not use built-in BigInteger library or convert the inputs to integers directly."
   ]
  },
  {
   "cell_type": "markdown",
   "metadata": {},
   "source": [
    "**Timing** \\\n",
    "**Start: 15:25** \\\n",
    "**End: __**"
   ]
  },
  {
   "cell_type": "markdown",
   "metadata": {},
   "source": [
    "### Planning\n",
    "Well... this is a weird problem. I don't really see much value in it.\n",
    "\n",
    "I will create an `int summed = 0` array.\n",
    "\n",
    "I will start by iterating through each number and creating a list of integers,\n",
    "where the index of the integer in the list represents its 10s place.\n",
    "\n",
    "I will then iterate over the first num list and multiple it by the value of every\n",
    "integer in the other list and will add this sum to the summed array."
   ]
  },
  {
   "cell_type": "code",
   "execution_count": 5,
   "metadata": {},
   "outputs": [
    {
     "data": {
      "text/plain": [
       "6"
      ]
     },
     "execution_count": 5,
     "metadata": {},
     "output_type": "execute_result"
    }
   ],
   "source": [
    "def multiply(num1, num2):\n",
    "    summed = 0\n",
    "    num1s = [int(num) * 10**i for i, num in enumerate(num1[::-1])]\n",
    "    num2s = [int(num) * 10**i for i, num in enumerate(num2[::-1])]\n",
    "    \n",
    "    for num1 in num1s:\n",
    "        for num2 in num2s:\n",
    "            summed += num1 * num2\n",
    "            \n",
    "    return str(summed)\n",
    "num1 = \"2\"\n",
    "num2 = \"3\"\n",
    "multiply(num1, num2)"
   ]
  },
  {
   "cell_type": "markdown",
   "metadata": {},
   "source": [
    "### Afterthoughts\n",
    "**Stats:**\n",
    "Runtime\n",
    "132 ms\n",
    "Beats\n",
    "33.98%\n",
    "Memory\n",
    "13.6 MB\n",
    "Beats\n",
    "53.60%\n",
    "\n",
    "Ok... I'm not really going to worry about optimizing this problem. In the real world\n",
    "I would just convert the types lol."
   ]
  }
 ],
 "metadata": {
  "kernelspec": {
   "display_name": "Python 3.10.2 64-bit ('learning')",
   "language": "python",
   "name": "python3"
  },
  "language_info": {
   "codemirror_mode": {
    "name": "ipython",
    "version": 3
   },
   "file_extension": ".py",
   "mimetype": "text/x-python",
   "name": "python",
   "nbconvert_exporter": "python",
   "pygments_lexer": "ipython3",
   "version": "3.10.2"
  },
  "orig_nbformat": 4,
  "vscode": {
   "interpreter": {
    "hash": "083c3123b4ad7f25f53c003e80272d3d1894a33e093a79f10823ee80b0414ebd"
   }
  }
 },
 "nbformat": 4,
 "nbformat_minor": 2
}
