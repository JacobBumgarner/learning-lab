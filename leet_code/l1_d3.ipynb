{
 "cells": [
  {
   "cell_type": "code",
   "execution_count": 1,
   "metadata": {},
   "outputs": [],
   "source": [
    "import numpy as np"
   ]
  },
  {
   "cell_type": "code",
   "execution_count": 19,
   "metadata": {},
   "outputs": [
    {
     "data": {
      "text/plain": [
       "[1, 1, 2, 3, 4, 4]"
      ]
     },
     "execution_count": 19,
     "metadata": {},
     "output_type": "execute_result"
    }
   ],
   "source": [
    "# 21. Merge Two Sorted Lists\n",
    "# should have O(n) complexity where we can iterate through list once\n",
    "\n",
    "s, t = [1, 2, 4], [1, 3, 4]\n",
    "def merge_sort(s: list, t: list) -> list:\n",
    "    t_index, s_index = 0, 0\n",
    "    \n",
    "    while True:\n",
    "        if s_index == len(s):\n",
    "            s.extend(t[t_index:])\n",
    "            return s\n",
    "        \n",
    "        if t[t_index] <= s[s_index]:\n",
    "            s.insert(s_index, t[t_index])\n",
    "            s_index += 1\n",
    "            t_index += 1\n",
    "            \n",
    "        s_index += 1\n",
    "\n",
    "merge_sort(s, t)"
   ]
  },
  {
   "cell_type": "code",
   "execution_count": 82,
   "metadata": {},
   "outputs": [],
   "source": [
    "# instead they want us to use *linked* lists, not lists.... jfc\n",
    "from dataclasses import dataclass\n",
    "\n",
    "class ListNode:\n",
    "    def __init__(self, val: int = 0, next = None):\n",
    "        self.val = val\n",
    "        self.next = next\n",
    "    \n",
    "def create_linked_list(l: list):\n",
    "    if not l:\n",
    "        return []\n",
    "\n",
    "    prev_node = ListNode(l[0])\n",
    "    o_node = prev_node\n",
    "    for i in range(1, len(l)):\n",
    "        node = ListNode(l[i])\n",
    "        prev_node.next = node\n",
    "        prev_node = node\n",
    "    return o_node\n"
   ]
  },
  {
   "cell_type": "code",
   "execution_count": 233,
   "metadata": {},
   "outputs": [
    {
     "name": "stdout",
     "output_type": "stream",
     "text": [
      "1\n",
      "1\n",
      "2\n",
      "3\n",
      "4\n",
      "4\n"
     ]
    }
   ],
   "source": [
    "def print_linked_list(head):\n",
    "    while True:\n",
    "        if not head:\n",
    "            break\n",
    "        print(head.val)\n",
    "        head = head.next\n",
    "\n",
    "l1, l2 = [1, 2, 4], [1, 3, 4]\n",
    "l1, l2 = create_linked_list(l1), create_linked_list(l2)\n",
    "\n",
    "# recursive\n",
    "def merge_linked_lists(l1_node, l2_node) -> ListNode:\n",
    "    if not l1_node or not l2_node:\n",
    "        return l1_node or l2_node\n",
    "    \n",
    "    if l1_node.val < l2_node.val:\n",
    "        l1_node.next = merge_linked_lists(l1_node.next, l2_node)\n",
    "        return l1_node\n",
    "    else:\n",
    "        l2_node.next = merge_linked_lists(l1_node, l2_node.next)\n",
    "        return l2_node\n",
    "\n",
    "# in place\n",
    "def ip_merge_linked_lists(l1, l2) -> ListNode:\n",
    "    if not l1 or not l2:\n",
    "        return l1 or l2\n",
    "    \n",
    "    head = current = ListNode(-101)\n",
    "    \n",
    "    while l1 and l2:\n",
    "        a, b = l1.val, l2.val\n",
    "        if a < b:\n",
    "            current.next = l1\n",
    "            l1 = l1.next\n",
    "        else:\n",
    "            current.next = l2\n",
    "            l2 = l2.next\n",
    "        \n",
    "        current = current.next\n",
    "        \n",
    "    # add the last node\n",
    "    current.next = l1 or l2\n",
    "        \n",
    "    return head.next\n",
    "\n",
    "head = ip_merge_linked_lists(l1, l2)\n",
    "print_linked_list(head)"
   ]
  },
  {
   "cell_type": "code",
   "execution_count": 236,
   "metadata": {},
   "outputs": [
    {
     "name": "stdout",
     "output_type": "stream",
     "text": [
      "1\n",
      "1\n",
      "2\n",
      "3\n",
      "4\n",
      "4\n"
     ]
    }
   ],
   "source": [
    "# one more rewrite of the recursive function to make sure that I understand it\n",
    "l1, l2 = [1, 2, 4], [1, 3, 4]\n",
    "l1, l2 = create_linked_list(l1), create_linked_list(l2)\n",
    "def recursive_merge_sorted(l1_node, l2_node):\n",
    "    if not l1_node or not l2_node:\n",
    "        return l1_node or l2_node\n",
    "\n",
    "    if l1_node.val < l2_node.val:\n",
    "        l1_node.next = recursive_merge_sorted(l1_node.next, l2_node)\n",
    "        return l1_node\n",
    "    else:\n",
    "        l2_node.next = recursive_merge_sorted(l1_node, l2_node.next)\n",
    "        return l2_node\n",
    "\n",
    "head = recursive_merge_sorted(l1, l2)\n",
    "print_linked_list(head)"
   ]
  },
  {
   "cell_type": "code",
   "execution_count": 252,
   "metadata": {},
   "outputs": [
    {
     "name": "stdout",
     "output_type": "stream",
     "text": [
      "3\n",
      "2\n",
      "1\n"
     ]
    }
   ],
   "source": [
    "# 206. Reverse Linked List\n",
    "\n",
    "linked_list = create_linked_list([1, 2, 3])\n",
    "\n",
    "# recursive\n",
    "def reverse_linked_list(list_head) -> ListNode:\n",
    "    if not list_head:\n",
    "        return\n",
    "    \n",
    "    def swap_link(node, previous=None):\n",
    "        next_node = node.next\n",
    "        node.next = previous\n",
    "        if next_node:\n",
    "            return swap_link(next_node, node)\n",
    "        else:\n",
    "            return node\n",
    "    list_end = swap_link(list_head)\n",
    "    return list_end\n",
    "\n",
    "def iterative_reverse_linked_list(list_head) -> ListNode:\n",
    "    if not list_head:\n",
    "        return\n",
    "    previous = None\n",
    "    while list_head:\n",
    "        next = list_head.next\n",
    "        list_head.next = previous\n",
    "        previous = list_head\n",
    "        list_head = next\n",
    "    return previous\n",
    "\n",
    "new_head = iterative_reverse_linked_list(linked_list)\n",
    "print_linked_list(new_head)\n"
   ]
  }
 ],
 "metadata": {
  "kernelspec": {
   "display_name": "Python 3.10.2 64-bit ('learning')",
   "language": "python",
   "name": "python3"
  },
  "language_info": {
   "codemirror_mode": {
    "name": "ipython",
    "version": 3
   },
   "file_extension": ".py",
   "mimetype": "text/x-python",
   "name": "python",
   "nbconvert_exporter": "python",
   "pygments_lexer": "ipython3",
   "version": "3.10.2"
  },
  "orig_nbformat": 4,
  "vscode": {
   "interpreter": {
    "hash": "083c3123b4ad7f25f53c003e80272d3d1894a33e093a79f10823ee80b0414ebd"
   }
  }
 },
 "nbformat": 4,
 "nbformat_minor": 2
}
