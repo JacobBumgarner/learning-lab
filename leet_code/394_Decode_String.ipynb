{
 "cells": [
  {
   "cell_type": "markdown",
   "metadata": {},
   "source": [
    "# 394. Decode String\n",
    "Given an encoded string, return its decoded string.\n",
    "\n",
    "Encoding rule:\n",
    "`k[encoded_string]` where the `encoded_string` in the brackets should be repeated exactly\n",
    "`k` times.\n",
    "\n",
    "Encoded messages can be nested.\n",
    "\n",
    "Assumptions:\n",
    "- `k` will always be positive\n",
    "- The brackets will always close correctly\n",
    "- All of the encoded messages will always be correct without any errors\n",
    "\n",
    "Examples:\n",
    "- `s = \"3[a]2[bc]\"` -> `\"aaabcbc\"`\n",
    "- `s = \"3[a2[c]]\"` -> `\"accaccacc\"`"
   ]
  },
  {
   "cell_type": "markdown",
   "metadata": {},
   "source": [
    "**Timing**\\\n",
    "**Start: 16:58**\\\n",
    "**End: 17:30**"
   ]
  },
  {
   "cell_type": "markdown",
   "metadata": {},
   "source": [
    "### Planning\n",
    "**17:01**\\\n",
    "I could solve this recursively, or I could iterate over the encoded message\n",
    "and build substrings with a helper function.\n",
    "\n",
    "One thing to consider is how to separate or identify the sub-messages. I think that\n",
    "it might be more effective to iterate over the entire message and break out to the helper\n",
    "function whenever numbers are encountered?\n",
    "\n",
    "Here is the outline for what I'll do:\n",
    "1. Define helper function\n",
    "2. Instantiate empty decoded_string object\n",
    "3. Iterate over the encoded message in a while loop with starting index of 0\n",
    "4. At each iteration, check:\n",
    "     - is the current value a letter? if so add to index\n",
    "     - is the current value a number? if so call helper function with `i` to decrypt the encountered unit\n",
    "\n",
    "`decode_substring` function:\n",
    "- Will need to keep track of the opened brackets\n",
    "- Will need to keep track of the substring\n",
    "- Should return the substring multiplied by the input value\n",
    "- Should return the updated i and the resulting substring\n",
    "\n",
    "Steps:\n",
    "1. add 1 to opened_brackets, define an empty substring, record current decode_scalar\n",
    "2. iterate over string at current index, check current message[i] value:\n",
    "    - if a letter, add it to the substring\n",
    "    - if a number, call the function again and add the resulting substring to the current\n",
    "    substring\n",
    "    - if a closed bracket, subtract one from opened bracket\n",
    "3. At the end of each function, if the `opened_brackets` is 0, break the loop, return i and substring*decode_scalar\n"
   ]
  },
  {
   "cell_type": "code",
   "execution_count": 17,
   "metadata": {},
   "outputs": [
    {
     "data": {
      "text/plain": [
       "'accaccacc'"
      ]
     },
     "execution_count": 17,
     "metadata": {},
     "output_type": "execute_result"
    }
   ],
   "source": [
    "def decode_string(s):\n",
    "    def decode_scalar(current_index):\n",
    "        scalar = \"\"\n",
    "        while True:\n",
    "            if s[current_index].isnumeric():\n",
    "                scalar += s[current_index]\n",
    "            else:\n",
    "                break\n",
    "            current_index += 1\n",
    "                \n",
    "        return current_index+1, int(scalar)\n",
    "    \n",
    "    def decode_substring(current_index):\n",
    "        \"\"\"Returns updated index, decoded substring, and current opened brackets.\"\"\"\n",
    "        current_index, scalar = decode_scalar(current_index)\n",
    "        opened_brackets = True\n",
    "        substring = \"\"\n",
    "        \n",
    "        while current_index < len(s):\n",
    "            if s[current_index].isalpha():\n",
    "                substring += s[current_index]\n",
    "            elif s[current_index] == \"]\":\n",
    "                opened_brackets = False\n",
    "            elif s[current_index].isnumeric():\n",
    "                current_index, new_substring = decode_substring(current_index)\n",
    "                substring += new_substring\n",
    "            \n",
    "            if not opened_brackets:\n",
    "                break\n",
    "            current_index += 1\n",
    "        \n",
    "        return current_index, substring*scalar\n",
    "    \n",
    "    decoded_message = \"\"\n",
    "    i = 0\n",
    "    while i < len(s):\n",
    "        if s[i].isalpha():\n",
    "            decoded_message += s[i]\n",
    "        elif s[i].isnumeric():\n",
    "            i, substring = decode_substring(i)\n",
    "            decoded_message += substring\n",
    "        i += 1\n",
    "    \n",
    "    return decoded_message\n",
    "\n",
    "s = \"3[a2[c]]\"\n",
    "decode_string(s)"
   ]
  },
  {
   "cell_type": "markdown",
   "metadata": {},
   "source": [
    "My initial solution worked in the majority of use-cases, but it did not work for multi-integer numbers.\n",
    "\n",
    "I'm going to replace this line:\n",
    "`decode_scalar = int(s[current_index])` with a `decode_scalar` function."
   ]
  },
  {
   "cell_type": "markdown",
   "metadata": {},
   "source": [
    "### Afterthoughts\n",
    "**Stats:**\n",
    "Runtime\n",
    "25 ms\n",
    "Beats\n",
    "70.4%\n",
    "Memory\n",
    "13.8 MB\n",
    "Beats\n",
    "7.40%\n",
    "\n",
    "The memory usage in this implementation was abysmal, but the speed was pretty good.\n",
    "\n",
    "I'm going to check out some other implementations to see how they might have solved it.\n",
    "\n",
    "Someone has presented much simpler solution using a `stack`. \n",
    "\n",
    "The stack basically keeps a record of previous strings and previous numbers."
   ]
  },
  {
   "cell_type": "code",
   "execution_count": 28,
   "metadata": {},
   "outputs": [
    {
     "data": {
      "text/plain": [
       "'acbbcbbacbbcbb'"
      ]
     },
     "execution_count": 28,
     "metadata": {},
     "output_type": "execute_result"
    }
   ],
   "source": [
    "def decode_string_stack(s):\n",
    "    stack = []\n",
    "    current_scalar = 0\n",
    "    decoded_string = \"\"\n",
    "    \n",
    "    for c in s:\n",
    "        if c == \"[\":\n",
    "            stack.append(decoded_string)\n",
    "            stack.append(current_scalar)\n",
    "            current_scalar = 0\n",
    "            decoded_string = \"\"\n",
    "        \n",
    "        elif c == \"]\":\n",
    "            prev_scalar = stack.pop()\n",
    "            prev_string = stack.pop()\n",
    "            decoded_string = prev_string + decoded_string*prev_scalar\n",
    "            \n",
    "        elif c.isnumeric():\n",
    "            current_scalar = current_scalar * 10 + int(c)\n",
    "            \n",
    "        else:\n",
    "            decoded_string += c\n",
    "    \n",
    "    return decoded_string\n",
    "\n",
    "s = \"2[a2[c2[b]]]\"\n",
    "decode_string_stack(s)"
   ]
  },
  {
   "cell_type": "markdown",
   "metadata": {},
   "source": [
    "I like the elegance of this solution, but the interesting thing about this is that the stats are almost identical to my original solution."
   ]
  }
 ],
 "metadata": {
  "kernelspec": {
   "display_name": "Python 3.10.2 64-bit ('learning')",
   "language": "python",
   "name": "python3"
  },
  "language_info": {
   "codemirror_mode": {
    "name": "ipython",
    "version": 3
   },
   "file_extension": ".py",
   "mimetype": "text/x-python",
   "name": "python",
   "nbconvert_exporter": "python",
   "pygments_lexer": "ipython3",
   "version": "3.10.2"
  },
  "orig_nbformat": 4,
  "vscode": {
   "interpreter": {
    "hash": "083c3123b4ad7f25f53c003e80272d3d1894a33e093a79f10823ee80b0414ebd"
   }
  }
 },
 "nbformat": 4,
 "nbformat_minor": 2
}
