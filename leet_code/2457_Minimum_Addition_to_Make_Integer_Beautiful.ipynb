{
 "cells": [
  {
   "cell_type": "markdown",
   "metadata": {},
   "source": [
    "# 2457. Minimum Addition to Make Integer Beautiful\n",
    "Given to positive integers, `n` and `target`.\n",
    "\n",
    "An integer is beautiful if the sums of its digits is less than or equal to `target`.\n",
    "\n",
    "Return the minimum non-negative integer `x` such that `n+x` is beautiful.\n",
    "\n",
    "The input will be generated so that it is always possible to make `n` beautiful"
   ]
  },
  {
   "cell_type": "markdown",
   "metadata": {},
   "source": [
    "**Timing** \\\n",
    "**Start: 15:51** \\\n",
    "**End: 16:53**\n"
   ]
  },
  {
   "cell_type": "markdown",
   "metadata": {},
   "source": [
    "### Planning\n",
    "15:51\n",
    "My first thought is to identify the largest number in `n` and target it for a reduction.\n",
    "\n",
    "This reduction would involve finding the minimum number needed to convert that largest number into a zero.\n",
    "\n",
    "For example, given the number:\n",
    "`141`\n",
    "The largest number is a `4`, and we want to target it to reduce it to `0`.\n",
    "\n",
    "We would need to figure out the most efficient way to get the number to be a zero.\n",
    "\n",
    "We could do this by finding the number that we need to add, `target_reduction = 60`, and subtract the numbers behind this target number from the `target_reduction`.\n",
    "\n",
    "We would then add the target reduction number to the tallying `x` and repeat until\n",
    "the sum of `n` is <= `target`.\n",
    "\n",
    "I think that I might reverse the list to make sure the `find` gives me the first \n",
    "\n",
    "I'm going to implement this approach and see where it gets me.\n",
    "\n",
    "Steps:\n",
    "1. Convert input number into a list of the individual numbers, instantiate x = 0\n",
    "2. Run a loop while sum(numbers) > target\n",
    "3. Find first occurrence of the largest number in the numbers\n",
    "    - E.g., `499` -> [4, 9, **9**] the right-most `9` would be our target.\n",
    "4. Find the smallest number needed to get this number converted into a zero\n",
    "5. Subtract the left-most numbers from this target \n",
    "6. Add those numbers to `n` and update `x`.\n",
    "    - I believe that this is my limiting factor. I want to try to find an elegant\n",
    "    way to do this.\n",
    "\n",
    "---\n",
    "I don't think this approach will work in all cases though."
   ]
  },
  {
   "cell_type": "code",
   "execution_count": 73,
   "metadata": {},
   "outputs": [
    {
     "data": {
      "text/plain": [
       "4"
      ]
     },
     "execution_count": 73,
     "metadata": {},
     "output_type": "execute_result"
    }
   ],
   "source": [
    "def make_integer_beautiful(n, target) -> int:\n",
    "    x = 0\n",
    "    numbers = str(n)\n",
    "    \n",
    "    while sum([int(num) for num in numbers]) > target:\n",
    "        # Find max number target\n",
    "        num_target = max(numbers)\n",
    "        num_index = numbers.rindex(num_target)\n",
    "        \n",
    "        # Get the number needed to reduce this number\n",
    "        reduction_num = (10 - int(num_target)) * 10**(len(numbers)-num_index-1)\n",
    "        if num_index < len(numbers) - 1:\n",
    "            reduction_num -= int(numbers[num_index+1:])\n",
    "        \n",
    "        # Update our number\n",
    "        numbers = str(int(numbers) + reduction_num)\n",
    "        \n",
    "        # Update x\n",
    "        x += reduction_num\n",
    "    \n",
    "    return x\n",
    "\n",
    "n = 16\n",
    "target = 6\n",
    "make_integer_beautiful(n, target)"
   ]
  },
  {
   "cell_type": "markdown",
   "metadata": {},
   "source": [
    "This approach didn't work in all cases. \n",
    "\n",
    "E.g.,\n",
    "`165` -> `x = 5`\n",
    "\n",
    "Maybe instead of finding the largest target number, I should just iterate along\n",
    "the right side of the number?\n"
   ]
  },
  {
   "cell_type": "code",
   "execution_count": 74,
   "metadata": {},
   "outputs": [
    {
     "data": {
      "text/plain": [
       "5"
      ]
     },
     "execution_count": 74,
     "metadata": {},
     "output_type": "execute_result"
    }
   ],
   "source": [
    "def make_integer_beautiful(n, target) -> int:\n",
    "    def update_numbers(x):\n",
    "        numbers = [int(num) for num in str(n + x)]\n",
    "        numbers.reverse()\n",
    "        return numbers\n",
    "    x = 0\n",
    "    numbers = update_numbers(x)\n",
    "    \n",
    "    i = 0\n",
    "    while sum(numbers) > target:\n",
    "        # get the current number\n",
    "        current_num = numbers[i]\n",
    "        \n",
    "        # get the number needed to reduce the current number to zero, add to x\n",
    "        reduction_num = (10 - current_num) * (10**i)\n",
    "        x += reduction_num\n",
    "        \n",
    "        # update the numbers\n",
    "        numbers = update_numbers(x)\n",
    "    \n",
    "        i += 1\n",
    "    \n",
    "    return x\n",
    "    \n",
    "    \n",
    "n = 165\n",
    "target = 10\n",
    "make_integer_beautiful(n, target)"
   ]
  },
  {
   "cell_type": "markdown",
   "metadata": {},
   "source": [
    "### Afterthoughts\n",
    "**Stats:**\n",
    "Runtime\n",
    "33 ms\n",
    "Beats\n",
    "39.68%\n",
    "Memory\n",
    "13.6 MB\n",
    "Beats\n",
    "13.76%\n",
    "\n",
    "Well... I'm not extremely happy with this approach. I chatted with a friend and realized there was a much more mathematically oriented approach to this problem.\n",
    "\n",
    "In my original solution, I was very fixated on trying to convert the number into a \n",
    "manipulatable list rather than just integrating modulus operations.\n",
    "\n",
    "I will go ahead and do that now to learn how to solve the problem more effectively."
   ]
  },
  {
   "cell_type": "markdown",
   "metadata": {},
   "source": [
    "---\n",
    "Rather than creating a new object at each iteration, I should run a modulus operation\n",
    "to find the the current x, starting with 10**1.\n",
    "\n",
    "Then, I would need to check whether the sum of the remaining numbers - `x` is greater\n",
    "than the target. I could also implement this with a modulus operator."
   ]
  },
  {
   "cell_type": "code",
   "execution_count": 94,
   "metadata": {},
   "outputs": [
    {
     "data": {
      "text/plain": [
       "4"
      ]
     },
     "execution_count": 94,
     "metadata": {},
     "output_type": "execute_result"
    }
   ],
   "source": [
    "def make_integer_beautiful(n, target) -> int:\n",
    "    def check_beauty(x):\n",
    "        \"\"\"Check whether the number is beautiful.\"\"\"\n",
    "        beauty = 0\n",
    "        new_num  = n + x\n",
    "        while new_num:\n",
    "            beauty += new_num % 10\n",
    "            new_num = new_num // 10\n",
    "        \n",
    "        return beauty <= target\n",
    "    \n",
    "    \n",
    "    # Starting with the 0's place\n",
    "    # update x until we find that it makes `n` beautiful\n",
    "    current_pow = 10\n",
    "    x = 0\n",
    "    while not check_beauty(x):\n",
    "        x = current_pow - n % current_pow\n",
    "        current_pow *= 10\n",
    "    \n",
    "    return x\n",
    "n = 16\n",
    "target = 6\n",
    "make_integer_beautiful(n, target)"
   ]
  },
  {
   "cell_type": "markdown",
   "metadata": {},
   "source": [
    "### Afterthoughts\n",
    "**Stats:**\n",
    "Runtime\n",
    "24 ms\n",
    "Beats\n",
    "75.66%\n",
    "Memory\n",
    "13.6 MB\n",
    "Beats\n",
    "13.76%\n",
    "\n",
    "This is a much more effective and elegant approach. It is less object-oriented\n",
    "and implements intuitive mathematical operations, rather than relying on weird list\n",
    "manipulations."
   ]
  }
 ],
 "metadata": {
  "kernelspec": {
   "display_name": "Python 3.10.2 64-bit ('learning')",
   "language": "python",
   "name": "python3"
  },
  "language_info": {
   "codemirror_mode": {
    "name": "ipython",
    "version": 3
   },
   "file_extension": ".py",
   "mimetype": "text/x-python",
   "name": "python",
   "nbconvert_exporter": "python",
   "pygments_lexer": "ipython3",
   "version": "3.10.2"
  },
  "orig_nbformat": 4,
  "vscode": {
   "interpreter": {
    "hash": "083c3123b4ad7f25f53c003e80272d3d1894a33e093a79f10823ee80b0414ebd"
   }
  }
 },
 "nbformat": 4,
 "nbformat_minor": 2
}
