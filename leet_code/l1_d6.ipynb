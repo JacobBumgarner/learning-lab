{
 "cells": [
  {
   "cell_type": "markdown",
   "metadata": {},
   "source": [
    "# 589. N-ary Tree Preorder Traversal\n",
    "Given the root of an n-ary tree, return the preorder traversal of its nodes' values.\n",
    "\n",
    "Given a list of values, each group of children is separated by the null value.\n",
    "\n",
    "Another null value can be used to indicate that no children are present for a given\n",
    "node in the current group of children."
   ]
  },
  {
   "cell_type": "markdown",
   "metadata": {},
   "source": [
    "**Start: 13:19**\n",
    "\n",
    "**End: 14:38**\n",
    "\n",
    "Unfortunately I had to stop at several points during this problem.\n",
    "\n",
    "I was also a bit frustrated to find that we are given a pre-constructed graph in the\n",
    "problem. Wasted my time trying to worry about traversing a list... annoying."
   ]
  },
  {
   "cell_type": "markdown",
   "metadata": {},
   "source": [
    "### Planning\n",
    "I read this problem on Friday but wasn't able to approach it because of a wedding I was\n",
    "at this weekend.\n",
    "\n",
    "I believe that I am going to create a directed graph from the input data.\n",
    "\n",
    "Each vertex in the graph will contain three attributes:\n",
    "\n",
    "1. The input value\n",
    "2. A list of children\n",
    "3. A weight that represents the hierarchical order of the vertex (i.e., which order was\n",
    "it added?)\n",
    "\n",
    "I'll construct the graph by looping through the input. I'll keep track of the head of\n",
    "the graph, and then I'll recursively iterate through the children of the graph based on\n",
    "their weights.\n",
    "\n",
    "I'll add the values of the encountered vertices to a list, and I'll return that list\n",
    "at the end of the recursion.\n",
    "\n",
    "This problem reminds me of the code I had to write to process the Allen institutes p56\n",
    "mouse brain atlas.\n",
    "\n",
    "---\n",
    "\n",
    "I'm also realizing that I could just iterate through the root and assign each value a\n",
    "weight. I could then print the pre-traversal node values based on the sorted weights.\n",
    "\n",
    "However, I kinda want to construct a graph for fun!"
   ]
  },
  {
   "cell_type": "code",
   "execution_count": 22,
   "metadata": {},
   "outputs": [],
   "source": [
    "from dataclasses import dataclass, field\n",
    "\n",
    "@dataclass\n",
    "class Node:\n",
    "    value: int\n",
    "    children: list = field(default_factory=list)"
   ]
  },
  {
   "cell_type": "code",
   "execution_count": 23,
   "metadata": {},
   "outputs": [
    {
     "data": {
      "text/plain": [
       "[1, 3, 5, 6, 2, 4]"
      ]
     },
     "execution_count": 23,
     "metadata": {},
     "output_type": "execute_result"
    }
   ],
   "source": [
    "def construct_graph(node: Node, root):\n",
    "    while root:\n",
    "        current = root.pop(0)\n",
    "        \n",
    "        if current:\n",
    "            new_node = Node(current)\n",
    "            node.children.append(new_node)\n",
    "        else:\n",
    "            break\n",
    "    \n",
    "    for child in node.children:\n",
    "        construct_graph(child, root)\n",
    "        \n",
    "    return\n",
    "\n",
    "def traverse_graph(node: Node, traversed):\n",
    "    traversed.append(node.value)\n",
    "    for child in node.children:\n",
    "        traverse_graph(child, traversed)\n",
    "    return traversed\n",
    "\n",
    "def traverse_root(root: list) -> list:\n",
    "    # Construct the graph\n",
    "    head = Node(root.pop(0))\n",
    "    root.pop(0)\n",
    "    construct_graph(head, root)\n",
    "    \n",
    "    # Create the list\n",
    "    preorder_list = traverse_graph(head, [])\n",
    "    return preorder_list\n",
    "\n",
    "\n",
    "root = [1,None,3,2,4,None,5,6]\n",
    "head = traverse_root(root)\n",
    "head\n"
   ]
  },
  {
   "cell_type": "markdown",
   "metadata": {},
   "source": [
    "# 102. Binary Tree Level Order Traversal\n",
    "\n",
    "Given the root of a binary tree, return the level order traversal of its nodes' values\n",
    "from left to right, level by level."
   ]
  },
  {
   "cell_type": "markdown",
   "metadata": {},
   "source": [
    "**Start: 14:48**\n",
    "\n",
    "**End: 15:01**"
   ]
  },
  {
   "cell_type": "markdown",
   "metadata": {},
   "source": [
    "### Planning\n",
    "\n",
    "I will plan to recursively traverse this list in a manner similarly to the previous\n",
    "problem.\n",
    "\n",
    "However, in this approach, I will also keep track of the child layer that I am currently\n",
    "on. If this child layer index doesn't exist in in the traverse list, i'll add a new list.\n",
    "\n",
    "As I encounter individual nodes, I'll append their values to the current child layer."
   ]
  },
  {
   "cell_type": "code",
   "execution_count": 39,
   "metadata": {},
   "outputs": [
    {
     "data": {
      "text/plain": [
       "[[1], [3, 2, 4], [5, 6]]"
      ]
     },
     "execution_count": 39,
     "metadata": {},
     "output_type": "execute_result"
    }
   ],
   "source": [
    "def traverse_graph_by_layer(head: Node) -> list:\n",
    "    if not head:\n",
    "        return []\n",
    "    \n",
    "    def traverse_graph(node, traversed, child_layer):\n",
    "        if len(traversed) < child_layer:\n",
    "            traversed.append([])\n",
    "        \n",
    "        traversed[child_layer-1].append(node.value)\n",
    "        \n",
    "        for child in node.children:\n",
    "            if child:\n",
    "                traverse_graph(child, traversed, child_layer+1)\n",
    "        \n",
    "        return traversed\n",
    "    \n",
    "    traversed = traverse_graph(head, [], 1)\n",
    "    \n",
    "    return traversed\n",
    "\n",
    "root = [1,None,3,2,4,None,5,6]\n",
    "head = Node(root.pop(0))\n",
    "root.pop(0)\n",
    "construct_graph(head, root)\n",
    "\n",
    "traversed = traverse_graph_by_layer(head)\n",
    "traversed\n"
   ]
  }
 ],
 "metadata": {
  "kernelspec": {
   "display_name": "Python 3.10.2 64-bit ('learning')",
   "language": "python",
   "name": "python3"
  },
  "language_info": {
   "codemirror_mode": {
    "name": "ipython",
    "version": 3
   },
   "file_extension": ".py",
   "mimetype": "text/x-python",
   "name": "python",
   "nbconvert_exporter": "python",
   "pygments_lexer": "ipython3",
   "version": "3.10.2"
  },
  "orig_nbformat": 4,
  "vscode": {
   "interpreter": {
    "hash": "083c3123b4ad7f25f53c003e80272d3d1894a33e093a79f10823ee80b0414ebd"
   }
  }
 },
 "nbformat": 4,
 "nbformat_minor": 2
}
