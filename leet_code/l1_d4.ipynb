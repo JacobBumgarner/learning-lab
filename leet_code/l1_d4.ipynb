{
 "cells": [
  {
   "cell_type": "markdown",
   "metadata": {},
   "source": [
    "# 876. Middle of the Linked list\n",
    "Given a sorted linked list, return the middle node of the list.\n",
    "\n",
    "If there are two middle nodes, return the *second middle* node.\n"
   ]
  },
  {
   "cell_type": "markdown",
   "metadata": {},
   "source": [
    "**Start: 21:02h**\n",
    "\n",
    "**End: 21:02h**\n",
    "\n",
    "Thoughts:\n",
    "This could be done recursively. Dive into node, return a bool after each which indicates\n",
    "whether the node should be returned. \n",
    "\n",
    "I think I'm going to do this iteratively instead. \n",
    "\n",
    "Plan:\n",
    "Iterate through the linked list to find length of the list.\n",
    "Maintain a running dictionary where the keys are the index of the node and the element\n",
    "is the node.\n",
    "\n",
    "After the length is found, return `list_hash[length//2]`."
   ]
  },
  {
   "cell_type": "code",
   "execution_count": 75,
   "metadata": {},
   "outputs": [
    {
     "data": {
      "text/plain": [
       "7"
      ]
     },
     "execution_count": 75,
     "metadata": {},
     "output_type": "execute_result"
    }
   ],
   "source": [
    "length = 12\n",
    "    \n",
    "length // 2 if length % 2 else length // 2 + 1"
   ]
  },
  {
   "cell_type": "code",
   "execution_count": 76,
   "metadata": {},
   "outputs": [
    {
     "name": "stdout",
     "output_type": "stream",
     "text": [
      "[1, 2, 3]\n"
     ]
    }
   ],
   "source": [
    "class ListNode:\n",
    "    def __init__(self, value=0, next=None):\n",
    "        self.val = value\n",
    "        self.next = next\n",
    "\n",
    "def make_linked_list(l: list) -> ListNode:\n",
    "    if not l:\n",
    "        return\n",
    "    elif len(l) == 1:\n",
    "        return ListNode(l[0])\n",
    "    \n",
    "    head = current = ListNode(l[0])\n",
    "    \n",
    "    for i in range(1, len(l)):\n",
    "        next = ListNode(l[i])\n",
    "        current.next = next\n",
    "        current = next\n",
    "    \n",
    "    return head\n",
    "\n",
    "def print_linked_list(head):\n",
    "    list_values = []\n",
    "    while True:\n",
    "        if not head:\n",
    "            break\n",
    "        list_values.append(head.val)\n",
    "        head = head.next\n",
    "\n",
    "    print(list_values)\n",
    "    return\n",
    "\n",
    "head = make_linked_list([1, 2, 3])\n",
    "print_linked_list(head)"
   ]
  },
  {
   "cell_type": "code",
   "execution_count": 77,
   "metadata": {},
   "outputs": [
    {
     "data": {
      "text/plain": [
       "3"
      ]
     },
     "execution_count": 77,
     "metadata": {},
     "output_type": "execute_result"
    }
   ],
   "source": [
    "def get_list_middle(head: ListNode) -> ListNode:\n",
    "    if not head:\n",
    "        return\n",
    "    \n",
    "    list_hash = {}\n",
    "    list_length = 1\n",
    "    \n",
    "    while True:\n",
    "        list_hash[list_length-1] = head\n",
    "        head = head.next\n",
    "        \n",
    "        if not head:\n",
    "            break\n",
    "    \n",
    "        list_length += 1\n",
    "    \n",
    "    return list_hash[list_length // 2]\n",
    "\n",
    "head = make_linked_list([1, 2, 3, 4])\n",
    "get_list_middle(head).val"
   ]
  },
  {
   "cell_type": "markdown",
   "metadata": {},
   "source": [
    "# 142. Linked List Cycle II\n",
    "Given a linked list, examine to see if there are any cycles in the list.\n",
    "\n",
    "If a cycle exists, return the node where the cycle begins.\n",
    "\n",
    "If there is no cycle, return \"None\"\n",
    "\n",
    "Do not modify the nodes of the linked list."
   ]
  },
  {
   "cell_type": "markdown",
   "metadata": {},
   "source": [
    "**Start: 23:56 h**\n",
    "\n",
    "**End: 00:19h**\n",
    "\n",
    "## Initial Thoughts\n",
    "We will have to iterate through the entire list once to see if there ever is a connection.\n",
    "\n",
    "We will also have to create some type of external representation of the linked list.\n",
    "\n",
    "I don't think that the nodes of the list will have unique numbers, so we can't use those\n",
    "to keep track of previously visited nodes.\n",
    "\n",
    "We could keep track of the memory address of each visited node. If a `.next` address\n",
    "matches a previously encountered address, return the `.next` node.\n",
    "\n",
    "This could be slow, as we would have to start comparing examining many addresses\n",
    "if the linked list gets to be very large.\n",
    "\n",
    "... 5 mins of thinking ...\n",
    "\n",
    "I will try the dict approach first. I'll get the address of each listnode and use it as\n",
    "a key that points to the node in our `list_nodes` dictionary. \n",
    "\n",
    "After each  `.next` node is called, I'll try to get an object from the dict with its\n",
    "address. If an object is returned, I'll return that node."
   ]
  },
  {
   "cell_type": "code",
   "execution_count": 78,
   "metadata": {},
   "outputs": [],
   "source": [
    "def make_cycled_list(head: ListNode, link_index=1) -> ListNode:\n",
    "    \"\"\"Create a cycle in a linked list with more than 1 nodes.\"\"\"\n",
    "    link_node = current = head\n",
    "    current_index = 0\n",
    "    while True:\n",
    "        if current_index == link_index:\n",
    "            link_node = current\n",
    "        if not current.next:\n",
    "            current.next = link_node\n",
    "            break\n",
    "        else:\n",
    "            current = current.next\n",
    "        current_index += 1\n",
    "            \n",
    "    return head\n",
    "\n",
    "head =  make_linked_list([0, 1, 2, 4])\n",
    "head = make_cycled_list(head)"
   ]
  },
  {
   "cell_type": "code",
   "execution_count": 79,
   "metadata": {},
   "outputs": [
    {
     "data": {
      "text/plain": [
       "2"
      ]
     },
     "execution_count": 79,
     "metadata": {},
     "output_type": "execute_result"
    }
   ],
   "source": [
    "def identify_cycled_list(head: ListNode) -> ListNode:\n",
    "    if not head or not head.next:\n",
    "        return None\n",
    "    \n",
    "    list_dict = {}\n",
    "    current = head\n",
    "    \n",
    "    while True:\n",
    "        # First store the current node in the dict\n",
    "        list_dict[id(current)] = current\n",
    "        \n",
    "        # Then check to see if the next node is in our dict\n",
    "        cycle_check = list_dict.get(id(current.next))\n",
    "        if cycle_check:\n",
    "            return cycle_check\n",
    "        \n",
    "        # Otherwise, continue the search\n",
    "        current = current.next\n",
    "        if not current:  # return None if the path ends\n",
    "            return\n",
    "        \n",
    "head = make_linked_list([3, 2, 0, -4])\n",
    "head = make_cycled_list(head, 1)\n",
    "\n",
    "identify_cycled_list(head).val"
   ]
  },
  {
   "cell_type": "markdown",
   "metadata": {},
   "source": [
    "An interesting idea with O(1) memory requirements is to set up \"fast\" and \"slow\" seekers.\n",
    "\n",
    "The \"fast\" seeker jumps two positions ahead each step. The \"slow\" seeker only jumps one\n",
    "position ahead. If they are ever identical, that means the list loops.\n",
    "\n",
    "Then, through a surprising feature, if you start head at one step/cycle and slow at\n",
    "one step/cycle from where it met fast, then slow will meet head at the start of the cycle.\n",
    "\n",
    "$NC$ is the length of a cycle. $x$ is the distance from the head to the cycle start.\n",
    "$y$ is the distance from the meeting point of fast and slow to the cycle start.\n",
    "\n",
    "$$2(x+y) - (x+y) = NC$$\n",
    "\n",
    "$$ dist_{fast} = 2(x+y) $$\n",
    "\n",
    "$$ dist_{short} = x + y $$\n",
    "\n",
    "$$ x + y = NC \\Rightarrow x = NC - y $$\n",
    "\n",
    "As I sit and consider this equation, I do wonder if I would've been able to derive it\n",
    "on my own. It is an interesting problem, but not one that I think that I should\n",
    "spend too much more time pondering. Seems like it would've taken me a while to arrive at."
   ]
  },
  {
   "cell_type": "code",
   "execution_count": 80,
   "metadata": {},
   "outputs": [
    {
     "data": {
      "text/plain": [
       "2"
      ]
     },
     "execution_count": 80,
     "metadata": {},
     "output_type": "execute_result"
    }
   ],
   "source": [
    "def identify_cyled_list_o1(head: ListNode) -> ListNode:\n",
    "    if not head or not head.next:\n",
    "        return\n",
    "    \n",
    "    slow = fast = head\n",
    "    \n",
    "    while fast and fast.next:\n",
    "        slow, fast = slow.next, fast.next.next\n",
    "        if slow == fast:\n",
    "            break\n",
    "    while slow != head:\n",
    "        slow, head = slow.next, head.next\n",
    "        if slow == head:\n",
    "            return slow\n",
    "        \n",
    "head = make_linked_list([1, 2, 3])\n",
    "head = make_cycled_list(head, 1)\n",
    "identify_cycled_list(head).val"
   ]
  }
 ],
 "metadata": {
  "kernelspec": {
   "display_name": "Python 3.10.2 64-bit ('learning')",
   "language": "python",
   "name": "python3"
  },
  "language_info": {
   "codemirror_mode": {
    "name": "ipython",
    "version": 3
   },
   "file_extension": ".py",
   "mimetype": "text/x-python",
   "name": "python",
   "nbconvert_exporter": "python",
   "pygments_lexer": "ipython3",
   "version": "3.10.2"
  },
  "orig_nbformat": 4,
  "vscode": {
   "interpreter": {
    "hash": "083c3123b4ad7f25f53c003e80272d3d1894a33e093a79f10823ee80b0414ebd"
   }
  }
 },
 "nbformat": 4,
 "nbformat_minor": 2
}
