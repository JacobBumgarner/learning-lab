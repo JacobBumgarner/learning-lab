{
 "cells": [
  {
   "cell_type": "markdown",
   "metadata": {},
   "source": [
    "# 121. Best Time to Buy and Sell Stock\n",
    "\n",
    "Given an array of prices, find the maximum profit that can be acquired from inter-day\n",
    "trading of this stock.\n",
    "\n",
    "Return the highest profit that can be achieved. If not profit can be achieved, return 0."
   ]
  },
  {
   "cell_type": "markdown",
   "metadata": {},
   "source": [
    "**Start: 15:09**\n",
    "\n",
    "**End: 15:38**"
   ]
  },
  {
   "cell_type": "markdown",
   "metadata": {},
   "source": [
    "### Thoughts\n",
    "---\n",
    "I could solve this inefficiently by computing the difference between the value of every\n",
    "day and each of the values behind it in the array. This could generate a 2D array.\n",
    "\n",
    "The maximum value of the array could then be found and returned. \n",
    "\n",
    "This seems greedy and slow.\n",
    "\n",
    "---\n",
    "\n",
    "I think I'll step through the array one time and step through the elements after the\n",
    "current index several times.\n",
    "\n",
    "I'll have a max profit variable that keeps track of the max profit we can make.\n",
    "\n",
    "Start at beginning of array, take current value.\n",
    "\n",
    "1. Find the maximum value in the elements after that, record that max value.\n",
    "\n",
    "2. Check the current profit and replace max profit if its greater.\n",
    "\n",
    "3. Step to next element. Check to see if the element matches the max value.\n",
    "If it does, return to one. Otherwise, return to 2. Repeat through to the second-to-last element."
   ]
  },
  {
   "cell_type": "code",
   "execution_count": 9,
   "metadata": {},
   "outputs": [
    {
     "data": {
      "text/plain": [
       "5"
      ]
     },
     "execution_count": 9,
     "metadata": {},
     "output_type": "execute_result"
    }
   ],
   "source": [
    "prices = [7, 1, 5, 3, 6, 4]\n",
    "\n",
    "def find_max_profit(prices: list) -> int:\n",
    "    if len(prices) == 1:\n",
    "        return 0\n",
    "    max_profit = 0\n",
    "    max_future_price = max(prices[1:])\n",
    "    \n",
    "    for i in range(len(prices) - 1):\n",
    "        current_price = prices[i]\n",
    "        \n",
    "        if current_price and current_price == max_future_price:\n",
    "            max_future_price = max(prices[i+1:])\n",
    "        \n",
    "        current_profit = max_future_price - current_price\n",
    "        \n",
    "        if current_profit > max_profit:\n",
    "            max_profit = current_profit\n",
    "    \n",
    "    return max_profit\n",
    "\n",
    "find_max_profit(prices)"
   ]
  },
  {
   "cell_type": "markdown",
   "metadata": {},
   "source": [
    "The above approach is too slow, particularly when the profit decreases each day.\n",
    "\n",
    "Instead, I'll take an approach where we instead keep track of the historical low and\n",
    "only update that variable."
   ]
  },
  {
   "cell_type": "code",
   "execution_count": 12,
   "metadata": {},
   "outputs": [
    {
     "data": {
      "text/plain": [
       "5"
      ]
     },
     "execution_count": 12,
     "metadata": {},
     "output_type": "execute_result"
    }
   ],
   "source": [
    "prices = [7,1,5,3,6,4]\n",
    "\n",
    "def find_max_profit(prices: list) -> int:\n",
    "    if len(prices) == 1:\n",
    "        return 0\n",
    "    \n",
    "    max_profit = 0\n",
    "    historical_low = prices[0]\n",
    "    \n",
    "    for i in range(1, len(prices)):\n",
    "        current_price = prices[i]\n",
    "        day_profit = current_price - historical_low\n",
    "        \n",
    "        max_profit = max(day_profit, max_profit)\n",
    "        \n",
    "        historical_low = min(current_price, historical_low)\n",
    "        \n",
    "    return max_profit\n",
    "\n",
    "find_max_profit(prices)"
   ]
  },
  {
   "cell_type": "markdown",
   "metadata": {},
   "source": [
    "# Longest Palindrome\n",
    "Given a string `s` that contains a list of lowercase and uppercase letters, return \n",
    "the length of the longest palindrome that can be build with those letters."
   ]
  },
  {
   "cell_type": "markdown",
   "metadata": {},
   "source": [
    "**Start: 16:32**\n",
    "\n",
    "**End: 16:44**"
   ]
  },
  {
   "cell_type": "markdown",
   "metadata": {},
   "source": [
    "I think rather than actually trying to create new words, I'll just consider the number\n",
    "of letters in each sequence.\n",
    "\n",
    "Based on the prompt, I believe that we are supposed to treat lower & uppercase letters\n",
    "separately.\n",
    "\n",
    "---\n",
    "\n",
    "To start, find the occurrence of each letter.\n",
    "\n",
    "Find the number of times each letter can go into the operator by floor dividing by 2.\n",
    "\n",
    "Do this for all letters.\n",
    "\n",
    "Additionally, if there are any singly occurring letters or any floor divisors with\n",
    "remainders, we can add 1 to the palindrome length, as these letters could go in the middle."
   ]
  },
  {
   "cell_type": "code",
   "execution_count": 21,
   "metadata": {},
   "outputs": [
    {
     "data": {
      "text/plain": [
       "7"
      ]
     },
     "execution_count": 21,
     "metadata": {},
     "output_type": "execute_result"
    }
   ],
   "source": [
    "s = \"abcccccdd\"\n",
    "\n",
    "def find_palindrome_length(s: str) -> int:\n",
    "    if len(s) == 1:\n",
    "        return 1\n",
    "    \n",
    "    middle_char = False\n",
    "    \n",
    "    \n",
    "    # First get the occurrence of all of the letters\n",
    "    s_set = set(s)\n",
    "    letter_counts = {letter: s.count(letter) for letter in s_set}\n",
    "\n",
    "    # Now get the length of the palindrome\n",
    "    palindrome_length = 0\n",
    "    for letter in letter_counts.keys():\n",
    "        count = letter_counts[letter]\n",
    "\n",
    "        if not middle_char:  # see if we should add the middle character to the length\n",
    "            middle_char = count % 2 != 0\n",
    "        \n",
    "        palindrome_length += (count // 2) * 2\n",
    "        \n",
    "    return palindrome_length + middle_char\n",
    "\n",
    "find_palindrome_length(s)"
   ]
  }
 ],
 "metadata": {
  "kernelspec": {
   "display_name": "Python 3.10.2 64-bit ('learning')",
   "language": "python",
   "name": "python3"
  },
  "language_info": {
   "codemirror_mode": {
    "name": "ipython",
    "version": 3
   },
   "file_extension": ".py",
   "mimetype": "text/x-python",
   "name": "python",
   "nbconvert_exporter": "python",
   "pygments_lexer": "ipython3",
   "version": "3.10.2"
  },
  "orig_nbformat": 4,
  "vscode": {
   "interpreter": {
    "hash": "083c3123b4ad7f25f53c003e80272d3d1894a33e093a79f10823ee80b0414ebd"
   }
  }
 },
 "nbformat": 4,
 "nbformat_minor": 2
}
