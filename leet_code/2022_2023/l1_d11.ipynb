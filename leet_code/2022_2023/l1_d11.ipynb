{
 "cells": [
  {
   "cell_type": "markdown",
   "metadata": {},
   "source": [
    "# 746. Min Cost Climbing Stairs\n",
    "\n",
    "Given a list of costs, find the minimum cost to reach the end of the list. \n",
    "\n",
    "Rules:\n",
    "1. You can either start at index 0 or 1 in the array\n",
    "2. You an take one or two steps at a time.\n"
   ]
  },
  {
   "cell_type": "markdown",
   "metadata": {},
   "source": [
    "**Start: 16:10**\n",
    "\n",
    "**End: 16:22**"
   ]
  },
  {
   "cell_type": "markdown",
   "metadata": {},
   "source": [
    "### Planning\n",
    "This problem is similar to the climbing stairs problem from yesterday, but I don't think\n",
    "that the solution is quite as simple. \n",
    "\n",
    "Can we find the cheapest cost in a single sweep up the stairs?\n",
    "\n",
    "I wonder if we can find the solution to this problem by taking 1 or two steps up the\n",
    "array and create a running tally of the array.\n",
    "\n",
    "Steps:\n",
    "1. Create a path_cost array of length n + 1\n",
    "2. Set path_cost[[0, 1]] = cost[[0, 1]]\n",
    "3. Iterate over each step of the arrays. At each step, add whichever of the i-1 or i-2 is cheapest\n",
    "to the current cost."
   ]
  },
  {
   "cell_type": "code",
   "execution_count": 109,
   "metadata": {},
   "outputs": [
    {
     "data": {
      "text/plain": [
       "6"
      ]
     },
     "execution_count": 109,
     "metadata": {},
     "output_type": "execute_result"
    }
   ],
   "source": [
    "def find_min_cost(cost):\n",
    "    # Set up the prices array\n",
    "    prices = cost[:2] + [0] * (len(cost)-1)\n",
    "\n",
    "    # starting at the second step of the cost array, add the cheapest of the\n",
    "    # previous two steps and the current cost\n",
    "    for i in range(2, len(cost)+1):\n",
    "        prices[i] = min(prices[i-1], prices[i-2])\n",
    "        if i < len(cost):\n",
    "            prices[i] += cost[i]\n",
    "        \n",
    "    return prices[-1]\n",
    "\n",
    "cost = [1,100,1,1,1,100,1,1,100,1]\n",
    "find_min_cost(cost)"
   ]
  },
  {
   "cell_type": "markdown",
   "metadata": {},
   "source": [
    "### Afterthoughts\n",
    "**Stats**\n",
    "Runtime\n",
    "36 ms\n",
    "Beats\n",
    "95.90%\n",
    "Memory\n",
    "13.5 MB\n",
    "Beats\n",
    "54.7%\n",
    "\n",
    "I'm very happy with this implementation. For fun, I want to try to re-implement it\n",
    "with only three int variables rather than a list of variables."
   ]
  },
  {
   "cell_type": "code",
   "execution_count": 111,
   "metadata": {},
   "outputs": [
    {
     "data": {
      "text/plain": [
       "6"
      ]
     },
     "execution_count": 111,
     "metadata": {},
     "output_type": "execute_result"
    }
   ],
   "source": [
    "def find_min_cost_mem(cost):\n",
    "    prev_cost, prev2_cost = cost[1], cost[0]\n",
    "    \n",
    "    for i in range(2, len(cost)):\n",
    "        price = min(prev_cost, prev2_cost) + cost[i]\n",
    "        prev2_cost = prev_cost\n",
    "        prev_cost = price\n",
    "        \n",
    "    return min(prev_cost, prev2_cost)\n",
    "\n",
    "cost = [1,100,1,1,1,100,1,1,100,1]\n",
    "find_min_cost(cost)"
   ]
  },
  {
   "cell_type": "markdown",
   "metadata": {},
   "source": [
    "# 62. Unique Paths\n",
    "Given a top-left starting point on an `m x n` grid (`m = rows`, `n = columns`), find the number\n",
    "of unique paths that you can take to get to the bottom-right corner.\n",
    "\n",
    "One can only move one tile down or right at any given iteration."
   ]
  },
  {
   "cell_type": "markdown",
   "metadata": {},
   "source": [
    "**Start: 16:31**\n",
    "\n",
    "**End: 17:08**"
   ]
  },
  {
   "cell_type": "markdown",
   "metadata": {},
   "source": [
    "### Planning\n",
    "This problem can be tackled in a brute force manner using recursion. \n",
    "\n",
    "Using recursion, we would start at the first tile and call the function with a row increment and then a column\n",
    "increment, if those increments remained in bounds. We would have a running \"paths\" tally\n",
    "that would keep track of how many different calls to the function reached the bottom-right corner\n",
    "of the grid.\n",
    "\n",
    "However, leetcode tags this problem with a dynamic approach, so I will try to solve it without using recursion.\n",
    "\n",
    "Ok - instead, here is my second line of thought. \n",
    "\n",
    "Can we instead take an iterative approach to measure the unique number of ways\n",
    "that individual tiles can be reached?\n",
    "\n",
    "The bottom-left and top-right cells can only be reached through one unique\n",
    "path. I'm not sure if this is leading me anywhere, though.\n",
    "\n",
    "Maybe we can take an approach where we start from the bottom right corner, and we add\n",
    "up the number of *options* that we have from that square that would lead us towards\n",
    "the bottom right corner. \n",
    "\n",
    "Steps:\n",
    "1. start at the bottom right corner in an empty array of size `m x n`, set that value to 1.\n",
    "2. Stepping from right to left, bottom to top, in the empty grid, add all values to the right and below to the current square.\n",
    "3. Return the value at the top left\n"
   ]
  },
  {
   "cell_type": "code",
   "execution_count": 141,
   "metadata": {},
   "outputs": [
    {
     "name": "stdout",
     "output_type": "stream",
     "text": [
      "[[3432 1716  792  330  120   36    8    1]\n",
      " [1716  924  462  210   84   28    7    1]\n",
      " [ 792  462  252  126   56   21    6    1]\n",
      " [ 330  210  126   70   35   15    5    1]\n",
      " [ 120   84   56   35   20   10    4    1]\n",
      " [  36   28   21   15   10    6    3    1]\n",
      " [   8    7    6    5    4    3    2    1]\n",
      " [   1    1    1    1    1    1    1    1]]\n"
     ]
    },
    {
     "data": {
      "text/plain": [
       "3432"
      ]
     },
     "execution_count": 141,
     "metadata": {},
     "output_type": "execute_result"
    }
   ],
   "source": [
    "import numpy as np\n",
    "def unique_paths(m, n):\n",
    "    # create the empty path grid, set bottom right as 1\n",
    "    path_grid = [[0] * n for _ in range(m)]\n",
    "    path_grid[-1][-1] = 1\n",
    "\n",
    "    # iterate over the entire grid from right to left, bottom, to top\n",
    "    # add the number of unique ways that the bottom right square can be reached\n",
    "    # by looking at the grids to the bottom and right. There is only one\n",
    "    # way to get to bottom right from the bottom right - 1, so start there.\n",
    "    for r in range(m-1, -1, -1):\n",
    "        for c in range(n-1, -1, -1):\n",
    "            if r + 1 < m:\n",
    "                path_grid[r][c] += path_grid[r+1][c]\n",
    "            if c + 1 < n:\n",
    "                path_grid[r][c] += path_grid[r][c+1]\n",
    "    \n",
    "    print(np.array(path_grid))\n",
    "    return path_grid[0][0]\n",
    "\n",
    "m, n = 8, 8\n",
    "unique_paths(m, n)"
   ]
  },
  {
   "cell_type": "markdown",
   "metadata": {},
   "source": [
    "### Afterthoughts:\n",
    "**Stats:**\n",
    "Runtime\n",
    "36 ms\n",
    "Beats\n",
    "36.12%\n",
    "Memory\n",
    "13.5 MB\n",
    "\n",
    "My approach worked well, but it didn't seem to *perform* well in comparison to other approaches.\n",
    "\n",
    "I wonder if rather than creating an entire array for this whether we could use fewer variables?\n",
    "\n",
    "Instead, try an approach where only one row is used at a time."
   ]
  },
  {
   "cell_type": "code",
   "execution_count": 161,
   "metadata": {},
   "outputs": [
    {
     "name": "stdout",
     "output_type": "stream",
     "text": [
      "[1, 2, 3, 4, 5, 6, 7]\n",
      "[1, 3, 6, 10, 15, 21, 28]\n"
     ]
    },
    {
     "data": {
      "text/plain": [
       "28"
      ]
     },
     "execution_count": 161,
     "metadata": {},
     "output_type": "execute_result"
    }
   ],
   "source": [
    "def unique_paths_mem(m, n):\n",
    "    paths = [1] * n\n",
    "    for _ in range(1, m):\n",
    "        for r in range(1, n):\n",
    "            paths[r] += paths[r-1]\n",
    "        print(paths)\n",
    "    \n",
    "    return paths[-1]\n",
    "\n",
    "m, n = 3, 7\n",
    "unique_paths_mem(m, n)"
   ]
  },
  {
   "cell_type": "markdown",
   "metadata": {},
   "source": [
    "**Stats:**\n",
    "Runtime\n",
    "35 ms\n",
    "Beats\n",
    "39.60%\n",
    "Memory\n",
    "13.2 MB\n",
    "Beats\n",
    "*88.53%* \n",
    "\n",
    "Much better with memory. Not sure about the runtime?\n",
    "\n",
    "Seems like the faster solutions are solving the problem with a pure equation."
   ]
  },
  {
   "cell_type": "markdown",
   "metadata": {},
   "source": [
    "`"
   ]
  }
 ],
 "metadata": {
  "kernelspec": {
   "display_name": "Python 3.10.2 64-bit ('learning')",
   "language": "python",
   "name": "python3"
  },
  "language_info": {
   "codemirror_mode": {
    "name": "ipython",
    "version": 3
   },
   "file_extension": ".py",
   "mimetype": "text/x-python",
   "name": "python",
   "nbconvert_exporter": "python",
   "pygments_lexer": "ipython3",
   "version": "3.10.2"
  },
  "orig_nbformat": 4,
  "vscode": {
   "interpreter": {
    "hash": "083c3123b4ad7f25f53c003e80272d3d1894a33e093a79f10823ee80b0414ebd"
   }
  }
 },
 "nbformat": 4,
 "nbformat_minor": 2
}
