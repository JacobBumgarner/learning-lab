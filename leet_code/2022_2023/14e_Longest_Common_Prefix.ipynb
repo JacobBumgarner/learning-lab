{
 "cells": [
  {
   "cell_type": "markdown",
   "metadata": {},
   "source": [
    "# 14. Longest Common Prefix\n",
    "Write a function to find the longest common prefix string amongst an array of strings.\n",
    "\n",
    "If there is no common prefix, return an empty string `\"\"`."
   ]
  },
  {
   "cell_type": "markdown",
   "metadata": {},
   "source": [
    "**Timing** \\\n",
    "**Start: 14:54** \\\n",
    "**End: 15:21**"
   ]
  },
  {
   "cell_type": "markdown",
   "metadata": {},
   "source": [
    "### Planning\n",
    "The question seems a bit unclear based on the example cases they gave. It doesn't seem\n",
    "like it wants us to find the longest repeating prefix, it wants us to find the\n",
    "prefix that all of the words in the array share, if they share one.\n",
    "\n",
    "If they don't share one, return \"\".\n",
    "\n",
    "---\n",
    "\n",
    "It seems like I could start by instantiating the common prefix to be the entire first word.\n",
    "\n",
    "I would then iterate over the entire list of words once.\n",
    "\n",
    "At each iteration, I would iterate through the letters of the current word to see\n",
    "if they match the common prefix. If I get to a letter that doesn't match the prefix,\n",
    "I will slice the common prefix, stopping at the current letter index.\n",
    "\n",
    "At the end of each loop, I will check to see if the common prefix has a length greater\n",
    "than one. if it doesn't, I will break the loop."
   ]
  },
  {
   "cell_type": "code",
   "execution_count": 40,
   "metadata": {},
   "outputs": [
    {
     "data": {
      "text/plain": [
       "'fl'"
      ]
     },
     "execution_count": 40,
     "metadata": {},
     "output_type": "execute_result"
    }
   ],
   "source": [
    "# Attempt 2\n",
    "def longest_common_prefix(strs) -> str:\n",
    "    if len(strs) == 0:\n",
    "        return \"\"\n",
    "    if len(strs) == 1:\n",
    "        return strs[0]\n",
    "    \n",
    "    # get the shortest word first\n",
    "    common_prefix = min(strs, key=len)\n",
    "    if not common_prefix:\n",
    "        return \"\"\n",
    "    \n",
    "    # iterate over the rest of the words\n",
    "    for word in strs:\n",
    "        if len(word) < len(common_prefix):\n",
    "            common_prefix = common_prefix[:len(word)]\n",
    "         \n",
    "        if len(word):   \n",
    "            for i, letter in enumerate(common_prefix):\n",
    "                if letter != word[i]:\n",
    "                    common_prefix = common_prefix[:i]\n",
    "                \n",
    "        if not common_prefix:\n",
    "            break\n",
    "        \n",
    "    return common_prefix\n",
    "\n",
    "strs = [\"flower\",\"flow\",\"flight\"]\n",
    "longest_common_prefix(strs)"
   ]
  },
  {
   "cell_type": "markdown",
   "metadata": {},
   "source": [
    "### Afterthoughts\n",
    "**Stats:**\n",
    "Runtime\n",
    "33 ms\n",
    "Beats\n",
    "70.96%\n",
    "Memory\n",
    "13.5 MB\n",
    "Beats\n",
    "82.41%\n",
    "\n",
    "Awesome - I'm very proud of my performance improvement for this problem. "
   ]
  },
  {
   "cell_type": "code",
   "execution_count": 41,
   "metadata": {},
   "outputs": [
    {
     "data": {
      "text/plain": [
       "''"
      ]
     },
     "execution_count": 41,
     "metadata": {},
     "output_type": "execute_result"
    }
   ],
   "source": [
    "# Attempt 1\n",
    "def longest_common_prefix(strs) -> str:\n",
    "    if len(strs) == 0:\n",
    "        return \"\"\n",
    "    elif len(strs) == 1:\n",
    "        return strs[0]\n",
    "    \n",
    "    common_prefix = strs[0]\n",
    "    for i in range(1, len(strs)):\n",
    "        word = strs[i]\n",
    "        \n",
    "        if len(word) < len(common_prefix):\n",
    "            common_prefix = common_prefix[:len(word)]\n",
    "\n",
    "        for j, letter in enumerate(word):\n",
    "            if j < len(common_prefix) and letter != common_prefix[j]:\n",
    "                common_prefix = common_prefix[:j]\n",
    "                break        \n",
    "        \n",
    "        if not common_prefix:\n",
    "            break\n",
    "    \n",
    "    return common_prefix\n",
    "\n",
    "strs = [\"\",\"b\"]\n",
    "longest_common_prefix(strs)"
   ]
  },
  {
   "cell_type": "markdown",
   "metadata": {},
   "source": [
    "### Afterthoughts\n",
    "**Stats:**\n",
    "Runtime\n",
    "69 ms\n",
    "Beats\n",
    "7.10%\n",
    "Memory\n",
    "13.5 MB\n",
    "Beats\n",
    "96.31%\n",
    "\n",
    "As usual, my approach is highly memory efficient but is terribly slow. I'm curious to \n",
    "see what others have done.\n",
    "\n",
    "It might make sense to find the shortest word in the list first and then compare this\n",
    "shortest word to the others in the list."
   ]
  }
 ],
 "metadata": {
  "kernelspec": {
   "display_name": "Python 3.10.2 64-bit ('learning')",
   "language": "python",
   "name": "python3"
  },
  "language_info": {
   "codemirror_mode": {
    "name": "ipython",
    "version": 3
   },
   "file_extension": ".py",
   "mimetype": "text/x-python",
   "name": "python",
   "nbconvert_exporter": "python",
   "pygments_lexer": "ipython3",
   "version": "3.10.2 (main, Jun 16 2022, 17:27:48) [Clang 13.0.0 (clang-1300.0.29.30)]"
  },
  "orig_nbformat": 4,
  "vscode": {
   "interpreter": {
    "hash": "083c3123b4ad7f25f53c003e80272d3d1894a33e093a79f10823ee80b0414ebd"
   }
  }
 },
 "nbformat": 4,
 "nbformat_minor": 2
}
