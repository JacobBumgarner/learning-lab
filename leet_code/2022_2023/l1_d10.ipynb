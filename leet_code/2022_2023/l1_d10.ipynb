{
 "cells": [
  {
   "cell_type": "markdown",
   "metadata": {},
   "source": [
    "# 509. Fibonnaci Number\n",
    "\n",
    "The fibonacci numbers `F(n)` form a sequence such that each number is the sum of the two\n",
    "preceding numbers, starting from 0 and 1.\n",
    "\n",
    "Given `n`, calculate `F(n)`.\n",
    "\n",
    "The aim of this problem is to solve the algorithm using dynamic rather than recursive\n",
    "programming."
   ]
  },
  {
   "cell_type": "markdown",
   "metadata": {},
   "source": [
    "**Start: 17:08**\n",
    "\n",
    "**End: 17:13**"
   ]
  },
  {
   "cell_type": "markdown",
   "metadata": {},
   "source": [
    "### Planning.\n",
    "\n",
    "I will solve this problem using a single list and a `for` loop.\n",
    "\n",
    "In each loop, I'll add the `i`th number to the fibnoacci sequence until `i == n`."
   ]
  },
  {
   "cell_type": "code",
   "execution_count": 5,
   "metadata": {},
   "outputs": [
    {
     "data": {
      "text/plain": [
       "3"
      ]
     },
     "execution_count": 5,
     "metadata": {},
     "output_type": "execute_result"
    }
   ],
   "source": [
    "def fibonacci_number(n):\n",
    "    if n == 0 or n == 1:\n",
    "        return n\n",
    "    \n",
    "    fib_seq = [0, 1]\n",
    "    \n",
    "    for i in range(2, n+1):\n",
    "        new_fib = fib_seq[i-1] + fib_seq[i - 2]\n",
    "        fib_seq.append(new_fib)\n",
    "        \n",
    "    return fib_seq[-1]\n",
    "\n",
    "n = 4\n",
    "fibonacci_number(n)"
   ]
  },
  {
   "cell_type": "markdown",
   "metadata": {},
   "source": [
    "### Afterthoughts:\n",
    "**Stats:**\n",
    "Runtime\n",
    "12 ms\n",
    "Beats\n",
    "97.76%\n",
    "Memory\n",
    "13.3 MB\n",
    "Beats\n",
    "61.29%\n",
    "\n",
    "Easy problem!"
   ]
  },
  {
   "cell_type": "markdown",
   "metadata": {},
   "source": [
    "# 70. Climbing Stairs\n",
    "You are climbing a staircase. It takes `n` steps to reach the top.\n",
    "\n",
    "Each step you climb, you can either climb 1 or 2 steps. In how many distinct ways can\n",
    "you climb to the top?\n"
   ]
  },
  {
   "cell_type": "markdown",
   "metadata": {},
   "source": [
    "**Start: 17:15**\n",
    "\n",
    "**End: 18:53**"
   ]
  },
  {
   "cell_type": "markdown",
   "metadata": {},
   "source": [
    "### Planning\n",
    "Side-thought: this reminds me of a problem that I was considering the other day on a walk.\n",
    "\n",
    "When walking, find a target on the ground around 10 paces ahead of you, and pick a foot\n",
    "that you want to step on that target. It is mind-boggling how intuitive it is for your brain\n",
    "to gauge the distance of steps and number of steps that are needed in order to get the correct\n",
    "foot to land on that spot. This problem reminded me of that.\n",
    "\n",
    "---\n",
    "Ok - I'm sure there is some equation that can be used to find the number of optimal steps,\n",
    "but instead I'll just focus on finding the solution algorithmically. Again, I'll try to\n",
    "solve the problem dynamically rather than recursively.\n",
    "\n",
    "The first thing to do will be consider the number of steps. If the number of steps is\n",
    "1 or 2, just return the the number of steps.\n",
    "\n",
    "My next idea is to create a list that keeps track of each path that has\n",
    "been taken on the climb. However, this seems like it would cost a lot of memory.\n",
    "\n",
    "To cut down on memory, rather than store the all steps for each path, maybe we could\n",
    "create a branching tree structure?\n",
    "\n",
    "I am having a hard time moving past a recursive solution to this problem...\n",
    "\n",
    "Ok - maybe rather than having a keymap, I could have a single list of values that grow\n",
    "dynamically at each step.\n",
    "\n",
    "1. Create a path list with a single value of 0.\n",
    "2. Iterate over each stair. In each iteration, create a new temp path list.\n",
    "3. At each stair, examine each element in the list. Individual elements in the list represent\n",
    "paths. If the element value is lt the number of stairs, pop this value + 1 to the new list.\n",
    "If you can add 2 without going over stair count, pop the value + 2 to the new list.\n",
    "4. Repeat 2.\n",
    "\n",
    "Return the length of the list."
   ]
  },
  {
   "cell_type": "code",
   "execution_count": 68,
   "metadata": {},
   "outputs": [
    {
     "data": {
      "text/plain": [
       "1346269"
      ]
     },
     "execution_count": 68,
     "metadata": {},
     "output_type": "execute_result"
    }
   ],
   "source": [
    "def climb_stairs(n):\n",
    "    if n == 1 or n == 2:\n",
    "        return n\n",
    "    \n",
    "    path_list = [0]  # create th path list\n",
    "    for i in range(0, n+1):  # iterate over each path step\n",
    "        temp_path_list = []\n",
    "        for path in path_list:\n",
    "            if path == n:  # add to the new list if the climb is over\n",
    "                temp_path_list.append(path)\n",
    "                continue\n",
    "            if not path + 1 > n:  # add one step if possible\n",
    "                temp_path_list.append(path+1)\n",
    "            if not path + 2 > n:  # add two steps if possible\n",
    "                temp_path_list.append(path+2)\n",
    "        \n",
    "        path_list = temp_path_list\n",
    "            \n",
    "    return len(path_list)\n",
    "\n",
    "n = 30\n",
    "climb_stairs(n)"
   ]
  },
  {
   "cell_type": "markdown",
   "metadata": {},
   "source": [
    "Ok - the solution above works, but it is extremely slow and exceeds the time limit on\n",
    "leet code (4.4s on my computer for `n=30`).\n",
    "\n",
    "This doesn't really change the nature of my solution, but I wonder if it would instead\n",
    "be faster to use a dictionary rather than a list. Iterate through the keys and values\n",
    "rather than pulling values and appending them from a list?"
   ]
  },
  {
   "cell_type": "code",
   "execution_count": 73,
   "metadata": {},
   "outputs": [
    {
     "data": {
      "text/plain": [
       "6280650"
      ]
     },
     "execution_count": 73,
     "metadata": {},
     "output_type": "execute_result"
    }
   ],
   "source": [
    "def climb_stairs(n):\n",
    "    if n == 1 or n == 2:\n",
    "        return n\n",
    "    \n",
    "    paths = {0:0}\n",
    "    for i in range(n+1):\n",
    "        for j in range(len(paths.keys())):\n",
    "            if paths[j] == n:\n",
    "                continue\n",
    "            \n",
    "            if paths[j] + 1 <= n:\n",
    "                paths[len(paths.keys())] = paths[j] + 1\n",
    "            if paths[j] + 2 <= n:\n",
    "                paths[len(paths.keys())] = paths[j] + 2\n",
    "    \n",
    "    return len(paths.keys())\n",
    "\n",
    "n = 14\n",
    "climb_stairs(n)               "
   ]
  },
  {
   "cell_type": "markdown",
   "metadata": {},
   "source": [
    "Turns out... nope. This solution is in fact slower lol (4.7s for `n=14`...yikes).\n",
    "\n",
    "OK - I'm wondering if it would be possible to keep track of the number of paths without\n",
    "actually keeping track of each path individually. At this point, I'm wondering if I should've\n",
    "just tried to figure out the mathematical solution to this problem lol.\n",
    "\n",
    "---\n",
    "\n",
    "Ok - maybe instead we could create one list with a length of n and values of zero.\n",
    "\n",
    "Starting at zero, we could move to each step and 'create' new paths by adding the current\n",
    "number of paths to the step `i + 1` or `i + 2` indices away, as long as `i + x` <= n\n",
    "\n",
    "Then, count the number of paths at the end of the list.\n",
    "\n",
    "Ok - further, because we can only take steps with lengths 1 or 2,\n",
    " is there some way to do this without having to create a list with length n? \n",
    "\n",
    "Instead, we could do it with a list of length 3. At each iteration, list = [list[1], list[2], 0]\n",
    "\n",
    "Steps:\n",
    "1. Create a `step_list = [1, 0, 0]` where the step_list[1] represents the first step.\n",
    "2. Iterate over `range(n)`.\n",
    "3. At each iteration, add the number at `step_list[0]` to the 2nd step if `i + 1 <= n`.\n",
    "4. At each iteration, add the number at `step_list[0]` to the 3rd step if `i + 2 <= n`.\n",
    "5. Shift the list values one to the left, making the third step value 0."
   ]
  },
  {
   "cell_type": "code",
   "execution_count": 83,
   "metadata": {},
   "outputs": [
    {
     "data": {
      "text/plain": [
       "1346269"
      ]
     },
     "execution_count": 83,
     "metadata": {},
     "output_type": "execute_result"
    }
   ],
   "source": [
    "def climb_stairs(n):\n",
    "    step_list = [1, 0, 0]\n",
    "    \n",
    "    for i in range(n):\n",
    "        if i + 1 <= n:\n",
    "            step_list[1] += step_list[0]\n",
    "        if i + 2 <= n:\n",
    "            step_list[2] += step_list[0]\n",
    "        step_list = [*step_list[1:], 0]\n",
    "        \n",
    "    return step_list[0]\n",
    "\n",
    "n = 30\n",
    "climb_stairs(n)"
   ]
  },
  {
   "cell_type": "markdown",
   "metadata": {},
   "source": [
    "### Afterthoughts\n",
    "**Stats:**\n",
    "Runtime\n",
    "29 ms\n",
    "Beats\n",
    "48.75%\n",
    "Memory\n",
    "13.4 MB\n",
    "Beats\n",
    "62.5%\n",
    "\n",
    "Nice! I'm actually very proud of this solution. It took me way too long to figure out\n",
    "a dynamic solution to the problem that didn't require a ton of memory or require a ton\n",
    "of runtime, but I figured it out and I feel quite proud of my solution."
   ]
  }
 ],
 "metadata": {
  "kernelspec": {
   "display_name": "Python 3.10.2 64-bit ('learning')",
   "language": "python",
   "name": "python3"
  },
  "language_info": {
   "codemirror_mode": {
    "name": "ipython",
    "version": 3
   },
   "file_extension": ".py",
   "mimetype": "text/x-python",
   "name": "python",
   "nbconvert_exporter": "python",
   "pygments_lexer": "ipython3",
   "version": "3.10.2"
  },
  "orig_nbformat": 4,
  "vscode": {
   "interpreter": {
    "hash": "083c3123b4ad7f25f53c003e80272d3d1894a33e093a79f10823ee80b0414ebd"
   }
  }
 },
 "nbformat": 4,
 "nbformat_minor": 2
}
