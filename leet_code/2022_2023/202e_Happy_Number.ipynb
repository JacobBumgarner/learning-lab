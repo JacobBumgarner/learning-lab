{
 "cells": [
  {
   "cell_type": "markdown",
   "metadata": {},
   "source": [
    "# 202. Happy Number\n",
    "Write a number to determine if number `n` is happy.\n",
    "\n",
    "A happy number is defined by the following process:\n",
    "- Replace the number with the sum of the squares of its digits\n",
    "- Repeat this process until the number equals 1 or it loops endlessly in a cycle which\n",
    "does not include 1\n",
    "- Those numbers where this process ends in **1** are happy\n",
    "\n",
    "Return `True` if `n` is happy, `False` otherwise."
   ]
  },
  {
   "cell_type": "markdown",
   "metadata": {},
   "source": [
    "**Timing** \\\n",
    "**Start: 13:10** \\\n",
    "**End: 13:19**"
   ]
  },
  {
   "cell_type": "markdown",
   "metadata": {},
   "source": [
    "### Planning\n",
    "Ok - the first part of this will be keeping track of the new number and old number.\n",
    "\n",
    "The new number will be identified by adding the squared mod 10 of the old number then \n",
    "floor dividing the old number until it equals 0.\n",
    "\n",
    "The major thing for me to consider is a rule that will determine how to decide when to\n",
    "'cut off' the loop.\n",
    "\n",
    "Just from checking the output of a loop, it might make sense to record the numbers\n",
    "that have already been encountered. Break the loop if n have already been encountered.\n"
   ]
  },
  {
   "cell_type": "code",
   "execution_count": 8,
   "metadata": {},
   "outputs": [
    {
     "data": {
      "text/plain": [
       "False"
      ]
     },
     "execution_count": 8,
     "metadata": {},
     "output_type": "execute_result"
    }
   ],
   "source": [
    "def is_happy(n) -> bool:\n",
    "    from collections import defaultdict\n",
    "\n",
    "    encountered = defaultdict(bool)\n",
    "    new_number = 0\n",
    "    \n",
    "    while n != 1:\n",
    "        while n:\n",
    "            new_number += (n % 10)**2\n",
    "            n = n // 10\n",
    "\n",
    "        if encountered[new_number]: \n",
    "            break\n",
    "        encountered[new_number] = True\n",
    "        n = new_number\n",
    "        new_number = 0\n",
    "    \n",
    "    return n == 1\n",
    "\n",
    "n = 2\n",
    "is_happy(n)"
   ]
  },
  {
   "cell_type": "markdown",
   "metadata": {},
   "source": [
    "### Afterthoughts\n",
    "**Stats:**\n",
    "Runtime\n",
    "32 ms\n",
    "Beats\n",
    "72.69%\n",
    "Memory\n",
    "13.6 MB\n",
    "Beats\n",
    "13.73%\n",
    "\n",
    "Nice. I feel pretty happy about my efficiency to solving the problem and the algorithm speed.\n",
    "The major downfall of this approach is the memory. I'm curious to see how others might've\n",
    "implemented different approaches.\n",
    "\n",
    "----\n",
    "I did a good job identifying the 'cycle' component of this problem. \n",
    "\n",
    "Another approach that I could've taken would've been a 'fast' and 'slow' runner. If there\n",
    "was a cycle, the fast and slow runners would eventually find one another. This would save\n",
    "on memory but would increase the time complexity a little bit."
   ]
  }
 ],
 "metadata": {
  "kernelspec": {
   "display_name": "Python 3.10.2 64-bit ('learning')",
   "language": "python",
   "name": "python3"
  },
  "language_info": {
   "codemirror_mode": {
    "name": "ipython",
    "version": 3
   },
   "file_extension": ".py",
   "mimetype": "text/x-python",
   "name": "python",
   "nbconvert_exporter": "python",
   "pygments_lexer": "ipython3",
   "version": "3.10.2"
  },
  "orig_nbformat": 4,
  "vscode": {
   "interpreter": {
    "hash": "083c3123b4ad7f25f53c003e80272d3d1894a33e093a79f10823ee80b0414ebd"
   }
  }
 },
 "nbformat": 4,
 "nbformat_minor": 2
}
