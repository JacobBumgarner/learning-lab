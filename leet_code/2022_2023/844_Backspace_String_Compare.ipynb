{
 "cells": [
  {
   "cell_type": "markdown",
   "metadata": {},
   "source": [
    "# 844. Backspace String Compare\n",
    "Given two strings `s` and `t`, return `true` if they are equal when both are typed into empty text editors.\n",
    "\n",
    "`#` means a backspace character."
   ]
  },
  {
   "cell_type": "markdown",
   "metadata": {},
   "source": [
    "**Timing**\\\n",
    "**Start: 16:37**\\\n",
    "**End: 16:53**"
   ]
  },
  {
   "cell_type": "markdown",
   "metadata": {},
   "source": [
    "### Planning\n",
    "**16:37** \\\n",
    "My first thought is to just create two separate lists by iterating through these\n",
    "strings.\n",
    "\n",
    "If an `#` is encountered, then pop the last item from the list and move on.\n",
    "\n",
    "Then at the run run an `all` comparison between the lists and return whether they are\n",
    "equal or not.\n",
    "\n",
    "---\n",
    "**16:39**\\\n",
    "This seems like a simple problem with a simple solution, but is there an easier way\n",
    "to resolve it?\n",
    "\n",
    "We could also create lists and only add the item if the next item isn't a `#`?\n",
    "\n",
    "Might be faster than popping the previous item. I'll try this first."
   ]
  },
  {
   "cell_type": "code",
   "execution_count": 9,
   "metadata": {},
   "outputs": [
    {
     "data": {
      "text/plain": [
       "True"
      ]
     },
     "execution_count": 9,
     "metadata": {},
     "output_type": "execute_result"
    }
   ],
   "source": [
    "def backspace_compare(s, t) -> bool:\n",
    "    def type_string(o):\n",
    "        o_string = []\n",
    "        for i, letter in enumerate(o):\n",
    "            if letter == \"#\":  # don't add #\n",
    "                if len(o_string):\n",
    "                    o_string.pop(-1)\n",
    "            else:\n",
    "                o_string.append(letter)\n",
    "            \n",
    "        return o_string\n",
    "    \n",
    "    s_string = type_string(s)\n",
    "    t_string = type_string(t)\n",
    "    return s_string==t_string\n",
    "\n",
    "s = \"a##c\"\n",
    "t = \"#a#c\"\n",
    "backspace_compare(s, t)"
   ]
  },
  {
   "cell_type": "markdown",
   "metadata": {},
   "source": [
    "### Afterthoughts\n",
    "**Stats:**\n",
    "Runtime\n",
    "18 ms\n",
    "Beats\n",
    "92.26%\n",
    "Memory\n",
    "13.3 MB\n",
    "Beats\n",
    "81.63%\n",
    "\n",
    "I didn't think about a few of the different cases that might arise in a problem as this, such as backspacing without any letters present. As such, I ended up using my first idea. Simple enough!"
   ]
  }
 ],
 "metadata": {
  "kernelspec": {
   "display_name": "Python 3.10.2 64-bit ('learning')",
   "language": "python",
   "name": "python3"
  },
  "language_info": {
   "codemirror_mode": {
    "name": "ipython",
    "version": 3
   },
   "file_extension": ".py",
   "mimetype": "text/x-python",
   "name": "python",
   "nbconvert_exporter": "python",
   "pygments_lexer": "ipython3",
   "version": "3.10.2"
  },
  "orig_nbformat": 4,
  "vscode": {
   "interpreter": {
    "hash": "083c3123b4ad7f25f53c003e80272d3d1894a33e093a79f10823ee80b0414ebd"
   }
  }
 },
 "nbformat": 4,
 "nbformat_minor": 2
}
