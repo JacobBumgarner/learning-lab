{
 "cells": [
  {
   "cell_type": "markdown",
   "metadata": {},
   "source": [
    "# 438. Find All Anagrams in a String\n",
    "Given two strings, `s` and `p`, return an array of all of the start indices of `p`'s anagrams in `s`.\n",
    "Return the answer in any order.\n",
    "\n",
    "An anagram is a word of phrase formed by rearranging the letters of a different word\n",
    "or phrase, typically using all of the original letters exactly once."
   ]
  },
  {
   "cell_type": "markdown",
   "metadata": {},
   "source": [
    "**Start: 12:04**\n",
    "\n",
    "**End: NA**\n",
    "\n",
    "Thought about this problem on and off for the majority of the day inbetween microscopy sessions.\n",
    "\n",
    "Did not record a true end time, as I produced several solutions that were too slow and then dug into a more effective solution.\n"
   ]
  },
  {
   "cell_type": "markdown",
   "metadata": {},
   "source": [
    "### Planning\n",
    "Ok - I'm thinking that to do this I will iterate over `s` once. \n",
    "\n",
    "At each iteration step, I'll check to see if the current string is in the sublist.\n",
    "\n",
    "I'll also keep a running copy of `p`. When iterating over `s`, I'll check to see if the\n",
    "individual elements are in `p`. If they are, I'll remove them from `p` and subiterate to the\n",
    "next index of `s`. If an element is not in `p`, I'll break the subloop, recopy `p`, and\n",
    "continue on.\n",
    "\n",
    "My other line of thought is this:\n",
    "If when we get to a breaking point of `s` we find that that element is not in `p`:\n",
    "1. If that element is not in the original copy of `p`, then we start from that index.\n",
    "2. If that element is in the original copy of `p`, we should start from the parent iteration\n",
    "index."
   ]
  },
  {
   "cell_type": "code",
   "execution_count": 18,
   "metadata": {},
   "outputs": [
    {
     "data": {
      "text/plain": [
       "[0, 1, 2]"
      ]
     },
     "execution_count": 18,
     "metadata": {},
     "output_type": "execute_result"
    }
   ],
   "source": [
    "def find_anagrams(s, p):\n",
    "    anagram_starts = []\n",
    "    \n",
    "    p_copy = list(p)\n",
    "    i = 0\n",
    "    while i < len(s) - len(p) + 1:  # iterate over s until there is no more room for p\n",
    "        # make sure p_copy is the same as p\n",
    "        if len(p_copy) != len(p):\n",
    "            p_copy = list(p)\n",
    "\n",
    "        # check to see if the letter is in p_copy\n",
    "        j = i\n",
    "        while len(p_copy):\n",
    "            letter = s[j]\n",
    "            \n",
    "            # if the letter is in p_copy, remove it from the p_copy list\n",
    "            if letter in p_copy:  \n",
    "                p_copy.pop(p_copy.index(letter)) \n",
    "                j += 1\n",
    "                if not len(p_copy):\n",
    "                    anagram_starts.append(i)  # if p_copy is empty, anagram found\n",
    "                    break\n",
    "            # if the letter is not in p_copy, get out of the loop\n",
    "            else:  \n",
    "                # if the letter is in p, we need to keep checking at the next i index\n",
    "                # if it's not, we can skip past the previously examined positions\n",
    "                if letter not in p:  \n",
    "                    i = j\n",
    "                break\n",
    "            \n",
    "        i += 1\n",
    "        \n",
    "    return anagram_starts\n",
    "\n",
    "s = \"abab\"\n",
    "p = \"ab\"\n",
    "find_anagrams(s, p)"
   ]
  },
  {
   "cell_type": "markdown",
   "metadata": {},
   "source": [
    "I had a whole series of text typed out explaining my path of logical progression, but accidentally deleted it.\n",
    "\n",
    "Here is where I'm at currently:"
   ]
  },
  {
   "cell_type": "code",
   "execution_count": 24,
   "metadata": {},
   "outputs": [
    {
     "name": "stdout",
     "output_type": "stream",
     "text": [
      "[0, 25, 51] [51, 25, 0, 102, 25, 0, 25, 0, 51, 76]                          \r"
     ]
    },
    {
     "data": {
      "text/plain": [
       "[0, 6]"
      ]
     },
     "execution_count": 24,
     "metadata": {},
     "output_type": "execute_result"
    }
   ],
   "source": [
    "from random import random\n",
    "def find_anagrams(s, p):\n",
    "    anagram_indices = []\n",
    "    \n",
    "    # generate hashes\n",
    "    hash_map = {i: int(i * 102 / 4) for i in range(26)}\n",
    "    def hash_string(c):\n",
    "        # generate the hash map\n",
    "        hashed_string = [\n",
    "            hash_map[ord(letter) - 97] for letter in c\n",
    "        ]\n",
    "        return hashed_string\n",
    "    \n",
    "    # hash the lists\n",
    "    p, s = hash_string(p), hash_string(s)\n",
    "    print(p, s, \" \"* 25, end=\"\\r\")\n",
    "    p_hash = sum(p)\n",
    "    \n",
    "    # get the set of letters in p for rapid determination of whether we need to hash\n",
    "    p_set = set(p)\n",
    "    for i in range(len(s)-len(p)+1):\n",
    "        current_letter = s[i]\n",
    "        if current_letter in p_set:  # hash the letters if the current letter is in p\n",
    "            current_hash = sum(s[i:i+len(p)])\n",
    "            if current_hash == p_hash:\n",
    "                anagram_indices.append(i)\n",
    "    \n",
    "    return anagram_indices\n",
    "\n",
    "s = \"cbaebabacd\"\n",
    "p = \"abc\"\n",
    "\n",
    "find_anagrams(s, p)"
   ]
  },
  {
   "cell_type": "markdown",
   "metadata": {},
   "source": [
    "The solution above is not perfect. Sometimes the hashes aren't produced correctly\n",
    "and don't generate appropriate unique values.\n",
    "\n",
    "Because I've solved this problem with two different approaches, I decided to look to see\n",
    "how others solved it.\n",
    "\n",
    "I noticed that instead of truly hashing each value, some people create keymaps with\n",
    "that match to see how many values of each letter occur in `p` and then iterate through `s`\n",
    "to find anagrams."
   ]
  },
  {
   "cell_type": "markdown",
   "metadata": {},
   "source": [
    "Cool - I've found the ongoing and active algorithm that most people are using to solve this\n",
    "problem.\n",
    "\n",
    "Rather than creating a hash of each individual anagram, letter, or brute forcing, instead\n",
    "the solution is to use a sliding window that keeps track of the number of letters within each\n",
    "sliding window.\n",
    "\n",
    "By using this approach, at each stride, only the count of the letter that just entered the window\n",
    "and the count of the letter that just left the window need to be updated.\n",
    "\n",
    "I'm going to write it in a less efficient manner first so it's obvious how/why the solution works."
   ]
  },
  {
   "cell_type": "code",
   "execution_count": 72,
   "metadata": {},
   "outputs": [
    {
     "data": {
      "text/plain": [
       "[0, 6]"
      ]
     },
     "execution_count": 72,
     "metadata": {},
     "output_type": "execute_result"
    }
   ],
   "source": [
    "from collections import defaultdict\n",
    "\n",
    "\n",
    "def find_anagrams_window_slow(s, p):\n",
    "    anagram_indices = []\n",
    "    \n",
    "    # create the map of the number of letters in p\n",
    "    p_map = defaultdict(int)\n",
    "    for letter in p:\n",
    "        p_map[letter] += 1\n",
    "        \n",
    "    # now slide over each window of s with window size len(p) and stride of 1\n",
    "    for i in range(0, len(s)-len(p)+1):\n",
    "        window_counts = defaultdict(int)\n",
    "        for letter in s[i:i+len(p)]:\n",
    "            window_counts[letter] += 1\n",
    "        \n",
    "        # if the letter frequencies match, add the index\n",
    "        if window_counts == p_map:\n",
    "            anagram_indices.append(i)\n",
    "    \n",
    "    return anagram_indices\n",
    "\n",
    "s = \"cbaebabacd\"\n",
    "p = \"abc\"\n",
    "\n",
    "find_anagrams_window_slow(s, p)"
   ]
  },
  {
   "cell_type": "markdown",
   "metadata": {},
   "source": [
    "The approach above is accurate but very slow, as we have to create a new hash map\n",
    "for every single window.\n",
    "\n",
    "In the next approach, rather than creating a new map for each sliding window, we can\n",
    "have a single window_map. This map will only have the values that the p_map has.\n",
    "\n",
    "The window_map will only update letters that have just entered and then just left\n",
    "the map. It will start its stride with its right edge at the beginning of `s`.\n",
    "\n",
    "If the maps match one another at the end of an iteration, append the index of the beginning\n",
    "of the stride.\n",
    "\n",
    "We will iterate one value behind the window."
   ]
  },
  {
   "cell_type": "code",
   "execution_count": 73,
   "metadata": {},
   "outputs": [
    {
     "data": {
      "text/plain": [
       "[0, 6]"
      ]
     },
     "execution_count": 73,
     "metadata": {},
     "output_type": "execute_result"
    }
   ],
   "source": [
    "def find_anagrams_window_two_maps(s, p):\n",
    "    if len(s) < len(p):\n",
    "        return []\n",
    "    \n",
    "    anagram_indices = []\n",
    "    p_map = defaultdict(int)\n",
    "    for letter in p:\n",
    "        p_map[letter] += 1\n",
    "        \n",
    "    window_map = {letter: 0 for letter in p_map.keys()}\n",
    "    \n",
    "    # start right edge of window at 0\n",
    "    for i in range(-len(p), len(s)-len(p)):\n",
    "        if i > -1 and s[i] in p_map:  # remove old letters from the window_map\n",
    "            window_map[s[i]] -= 1\n",
    "            \n",
    "        if s[i+len(p)] in p_map:  # add new letters to he window map\n",
    "            window_map[s[i+len(p)]] += 1\n",
    "        \n",
    "        if window_map == p_map:  \n",
    "            anagram_indices.append(i + 1)\n",
    "    \n",
    "    return anagram_indices\n",
    "\n",
    "s = \"cbaebabacd\"\n",
    "p = \"abc\"\n",
    "\n",
    "find_anagrams_window_two_maps(s, p)"
   ]
  },
  {
   "cell_type": "markdown",
   "metadata": {},
   "source": [
    "Now finally, rather than using two maps to keep track of the window values and the\n",
    "p values, we can instead use a single map that acts as a difference of the two maps.\n",
    "\n",
    "This is because when we are checking if window_map == p_map, in reality we are just\n",
    "performing a subtraction to see if there is a zero sum difference between the two maps after the iteration's value updates.\n",
    "\n",
    "`p_map - window_map = difference`\n",
    "\n",
    "`p_map = {'a': 1, 'b': 1, 'c': 1}`\n",
    "\n",
    "`window_map = {'a': 0, 'b': 0, 'c': 1}`\n",
    "\n",
    "`difference = {'a': 1, 'b': 1, 'c': 0}`\n",
    "\n",
    "Therefore, we can just update the `difference` of these two, since the starting `difference == p_map`.\n",
    "\n",
    "As such, if we were to apply a subtraction update to the `window_map`, we would add it to the `difference`, aka `p_map`. Vice versa for addition updates. See below for an example.\n",
    "\n",
    "\n",
    "0:\n",
    "Window_right = c, window_left=NA --- `p_map = {'a': 1, 'b': 1, 'c': 0}` (subtract 1 from p_map['c'] aka add 1 to window_map['c'])\n",
    "1:\n",
    "Window_right = b, window_left=NA --- `p_map = {'a': 1, 'b': 0, 'c': 0}` (subtract 1 from p_map['b'] aka add 1 to window_map['b'])\n",
    "2:\n",
    "Window_right = a, window_left=NA --- `p_map = {'a': 0, 'b': 0, 'c': 0}` (subtract 1 from p_map['a'] aka add 1 to window_map['a'])\n",
    "3:\n",
    "Window_right = NA, window_left=c --- `p_map = {'a': 0, 'b': 0, 'c': 1}` (add 1 to p_map['c'] aka subtract 1 from window_map['c'])"
   ]
  },
  {
   "cell_type": "code",
   "execution_count": 76,
   "metadata": {},
   "outputs": [
    {
     "data": {
      "text/plain": [
       "[0, 6]"
      ]
     },
     "execution_count": 76,
     "metadata": {},
     "output_type": "execute_result"
    }
   ],
   "source": [
    "from collections import defaultdict\n",
    "\n",
    "\n",
    "def find_anagrams(s, p):\n",
    "    if len(s) < len(p):\n",
    "        return []\n",
    "    \n",
    "    anagram_indices = []\n",
    "    \n",
    "    # Create the keymap that contains the occurrence of each letter in p\n",
    "    p_map = defaultdict(int)\n",
    "    for letter in p:\n",
    "        p_map[letter] += 1\n",
    "    p_map_set = set(p_map.keys())\n",
    "    \n",
    "    for i in range(-len(p), len(s)-len(p)):\n",
    "        if i > -1 and s[i] in p_map_set:  \n",
    "            p_map[s[i]] += 1\n",
    "        \n",
    "        new_letter = s[i+len(p)]\n",
    "        if new_letter in p_map_set:\n",
    "            p_map[new_letter] -= 1\n",
    "            \n",
    "        if not any(p_map.values()):\n",
    "            anagram_indices.append(i+1)\n",
    "    \n",
    "    return anagram_indices\n",
    "\n",
    "\n",
    "s = \"cbaebabacd\"\n",
    "p = \"abc\"\n",
    "\n",
    "find_anagrams(s, p)"
   ]
  },
  {
   "cell_type": "markdown",
   "metadata": {},
   "source": [
    "### Afterthoughts\n",
    "**Stats:**\n",
    "Runtime\n",
    "262 ms\n",
    "Beats\n",
    "44.29%\n",
    "Memory\n",
    "15.1 MB\n",
    "Beats\n",
    "7.8%\n",
    "\n",
    "The stats aren't great, but I'm really happy with my ability to break down and understand the algorithmic\n",
    "approaches that others took. I like the sliding window approach quite a bit."
   ]
  },
  {
   "cell_type": "markdown",
   "metadata": {},
   "source": [
    "# 424. Longest Repeating Character Replacement\n",
    "Given a substring `s` and an integer `k`, choose any character of the string `s` and replace\n",
    "it with another uppercase character. This operation can be performed `k` times.\n",
    "\n",
    "Return the length of the longest substring with a sequence of a single value.\n",
    "\n",
    "E.g., \n",
    "\n",
    "`s = \"ABAB\"`\n",
    "\n",
    "`k = 2`\n",
    "\n",
    "`output = 4` since `\"AAAA\"` or `\"BBBB\"`"
   ]
  },
  {
   "cell_type": "markdown",
   "metadata": {},
   "source": [
    "**Start: 18:28**\n",
    "\n",
    "**End: 19:12**"
   ]
  },
  {
   "cell_type": "markdown",
   "metadata": {},
   "source": [
    "### Planning\n",
    "My first intuition was to perform a dif of `s[:1]-s[1:]` to find where the non-zero\n",
    "indices were. We could then replace `k` of those nonzero indices to find the longest\n",
    "sequences of zeros. \n",
    "\n",
    "This approach would end up being a bit cumbersome, because we'd have to\n",
    "iterate over the unique non-zero indices, replace those values with zeros (possibly multiple times), and then find the longest sequence of zeros within each iteration and possibly sub iteration.\n",
    "\n",
    "Instead, I will use a sliding window approach. \n",
    "\n",
    "This sliding window will increase in size at rate of 1 for each tick if the next value\n",
    "matches the left edge value. If it doesn't, it will change the new right edge value to the left edge value\n",
    "and grow by one. This will continue until there are no `k` left or until the right edge meets the string edge.\n",
    "\n",
    "The ongoing longest string will be recorded. \n",
    "\n",
    "`while right_edge < len(s)`:\n",
    "1. Create sliding window with left and right edges at [0]\n",
    "2. Increase the right edge index by 1.\n",
    "3. If the new value matches the left edge value, return to 2, else go to 4.\n",
    "4. If the new value doesn't match and we have any swaps left, swap the value, return to 2. Record the first occurrence of a non-left value.\n",
    "If no `k` are left, go to `5`.\n",
    "5. If the new value doesn't match and we have no `k` left, move left edge to the first non-left value, record the length of the string.\n"
   ]
  },
  {
   "cell_type": "code",
   "execution_count": 139,
   "metadata": {},
   "outputs": [
    {
     "data": {
      "text/plain": [
       "3"
      ]
     },
     "execution_count": 139,
     "metadata": {},
     "output_type": "execute_result"
    }
   ],
   "source": [
    "def character_replacement(s, k) -> int:\n",
    "    if len(s) == 1:\n",
    "        return 1\n",
    "    \n",
    "    left_edge, right_edge = 0, 0\n",
    "    left_letter = s[0]\n",
    "    max_length = 1\n",
    "    remaining_k = k\n",
    "    new_left = None\n",
    "    \n",
    "    while right_edge < len(s):\n",
    "        current_string = s[left_edge:right_edge]\n",
    "        if left_letter == s[right_edge]:  # check leading edge with trailing\n",
    "            right_edge += 1\n",
    "            \n",
    "        elif remaining_k > 0:\n",
    "            # we can change the trailing, but only once if a separation of 2 and the\n",
    "            # middle letter is the same as the right\n",
    "            if right_edge - left_edge == 2:\n",
    "                if s[right_edge-1] == s[right_edge]:\n",
    "                    left_letter = s[right_edge]\n",
    "                    if remaining_k != k:  # add one back to rem_k if this is the case\n",
    "                        remaining_k += 1\n",
    "            new_left = right_edge if not new_left else new_left\n",
    "            right_edge += 1\n",
    "            remaining_k -= 1\n",
    "            \n",
    "        else:\n",
    "            max_length = max(max_length, len(s[left_edge:right_edge]))\n",
    "            remaining_k = k\n",
    "            left_edge = new_left if new_left else right_edge\n",
    "            left_letter = s[left_edge]\n",
    "            right_edge = left_edge + 1\n",
    "            new_left = None\n",
    "            \n",
    "    # check the final cases\n",
    "    max_length = max(max_length, len(s[left_edge:right_edge]))\n",
    "    return max_length\n",
    "\n",
    "s = \"ABABA\"\n",
    "k = 1\n",
    "character_replacement(s, k)"
   ]
  },
  {
   "cell_type": "markdown",
   "metadata": {},
   "source": [
    "With my first implementation, I passed 26/37 of test cases.\n",
    "\n",
    "The issue with my algorithm arises with the following test case:\n",
    "\n",
    "`s = \"ABBB\"`\n",
    "\n",
    "`k = 2`\n",
    "\n",
    "The length here should be `4`, but instead my algorithm only finds `3`. An obvious and\n",
    "simple solution would be to simply run the algorithm once with a forward pass\n",
    "and then again with a backward pass, but this seems ineffective.\n",
    "\n",
    "For time's sake, I might try that first.\n",
    "\n",
    "Or maybe instead, I will try to make an implementation where either the left OR the right\n",
    "value can change, but only on the first step.\n",
    "\n",
    "With this approach, I'll have to keep track of the left value for comparison. This \n",
    "value can be swapped, but only when right_edge - left_edge = 1.\n",
    "\n",
    "--- \n",
    "Ok - my solution above works, but it is far too slow. It takes around 9 seconds to compute\n",
    "the max length of a sequence with length 10,000.\n",
    "\n",
    "I'm going to mark this as solved, but I want to find a faster solution.\n",
    "\n",
    "---\n",
    "Stepped away for a bit and realized that the obvious solution here is to use another\n",
    "hash table. It doesn't matter what *order* the letters in the current window are in.\n",
    "It just matters how many letters there are in the current sequence to find the max length,\n",
    "and it matters how many of the least recurring letters there are in relation to k.\n",
    "\n",
    "So we will have a running window_map that keeps track of all of the values in the current\n",
    "window. \n",
    "\n",
    "current_window_size, max_window_size = 1, 1\n",
    "1. The right edge and left edge start in the same position. \n",
    "2. step right edge over to right, update window_map with addition\n",
    "3. Check to see if the k rule is met\n",
    "    - K rule definition:\n",
    "        1. If there is one unique value in the window_map keys, rule met\n",
    "        2. If there are more than two unique values in the window_map keys, check that\n",
    "        the least commonly occurring values in k do not outnumber k. if they do, the rule\n",
    "        is not met.\n",
    "            - To check for least commonly occurring letter occurrences, we could just sort\n",
    "            the window_map by value and subtract the lowest values[:1] from k to make sure that k isn't negative.\n",
    "            We could do this by subtracting the max value of values from the current window size...?\n",
    "4. if it is not, step left edge over to right, update window_map with removal\n",
    "5. Update current window size and max window size"
   ]
  },
  {
   "cell_type": "code",
   "execution_count": 213,
   "metadata": {},
   "outputs": [
    {
     "data": {
      "text/plain": [
       "1"
      ]
     },
     "execution_count": 213,
     "metadata": {},
     "output_type": "execute_result"
    }
   ],
   "source": [
    "def character_replacement(s, k):\n",
    "    if len(s) == 1:\n",
    "        return 1\n",
    "    \n",
    "    window_map = {chr(num):0 for num in range(65, 91)}\n",
    "    left_edge = 0\n",
    "    max_window_size = 1\n",
    "    \n",
    "    for right_edge in range(len(s)):\n",
    "        # add current right edge to window map\n",
    "        window_map[s[right_edge]] += 1\n",
    "        # right_edge += 1\n",
    "        if not sum(sorted(window_map.values())[:-1]) <= k:\n",
    "            window_map[s[left_edge]] -= 1\n",
    "            left_edge += 1\n",
    "        \n",
    "        max_window_size = max(max_window_size, sum(window_map.values()))\n",
    "        \n",
    "    return max_window_size\n",
    "\n",
    "s = \"ABAB\"\n",
    "k = 0\n",
    "character_replacement(s, k)"
   ]
  },
  {
   "cell_type": "markdown",
   "metadata": {},
   "source": [
    "### Afterthought\n",
    "**Stats:**\n",
    "Runtime\n",
    "489 ms\n",
    "Beats\n",
    "8.97%\n",
    "Memory\n",
    "13.7 MB\n",
    "Beats\n",
    "86.29%\n",
    "\n",
    "So I think I didn't do well to converge on the best type of solution at the beginning of this\n",
    "problem. As usual, I should've realized that all of the features of the first problem\n",
    "would help me solve the second problem (i.e., should've immediately realized that I needed a hash table).\n",
    "\n",
    "Regardless, once the idea of the hash table popped into mind, I was able to get the problem solved\n",
    "pretty quickly."
   ]
  },
  {
   "cell_type": "markdown",
   "metadata": {},
   "source": []
  }
 ],
 "metadata": {
  "kernelspec": {
   "display_name": "Python 3.10.2 64-bit ('learning')",
   "language": "python",
   "name": "python3"
  },
  "language_info": {
   "codemirror_mode": {
    "name": "ipython",
    "version": 3
   },
   "file_extension": ".py",
   "mimetype": "text/x-python",
   "name": "python",
   "nbconvert_exporter": "python",
   "pygments_lexer": "ipython3",
   "version": "3.10.2"
  },
  "orig_nbformat": 4,
  "vscode": {
   "interpreter": {
    "hash": "083c3123b4ad7f25f53c003e80272d3d1894a33e093a79f10823ee80b0414ebd"
   }
  }
 },
 "nbformat": 4,
 "nbformat_minor": 2
}
