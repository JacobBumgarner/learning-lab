{
 "cells": [
  {
   "cell_type": "markdown",
   "metadata": {},
   "source": [
    "# 1046. Last Stone Weight\n",
    "Given an array of integers `stones` where `stones[i]` is the weight of the `i`th stone.\n",
    "\n",
    "At each iteration, take the two largest stones and 'smash' them together. If stone `x == y`, the stones are destroyed. Otherwise, the largest stone becomes `y - x` and is added back to stones.\n",
    "\n",
    "Iterate over all of the stones to find the weight of the last remaining stone."
   ]
  },
  {
   "cell_type": "markdown",
   "metadata": {},
   "source": [
    "**Timing** \\\n",
    "**Start: 13:26** \\\n",
    "**End: 13:31**"
   ]
  },
  {
   "cell_type": "markdown",
   "metadata": {},
   "source": [
    "### Planning\n",
    "I think at each iteration I will run through a series of steps:\n",
    "\n",
    "1. Check to see if the length of the list is < = 1\n",
    "    - if it is, break the loop, return the `0` index of the stones or `0` if there are no stones left\n",
    "2. Pop the two largest stones\n",
    "3. Run the 'smash'\n",
    "4. Add the resulting 'stone' if there is one"
   ]
  },
  {
   "cell_type": "code",
   "execution_count": 6,
   "metadata": {},
   "outputs": [
    {
     "data": {
      "text/plain": [
       "1"
      ]
     },
     "execution_count": 6,
     "metadata": {},
     "output_type": "execute_result"
    }
   ],
   "source": [
    "def last_stone_weight(stones):\n",
    "    # iterate over the stones\n",
    "    while len(stones) > 1:\n",
    "        stone_1 = stones.pop(stones.index(max(stones)))\n",
    "        stone_2 = stones.pop(stones.index(max(stones)))\n",
    "        \n",
    "        smashed = abs(stone_1 - stone_2)\n",
    "        \n",
    "        if smashed:\n",
    "            stones.append(smashed)\n",
    "    \n",
    "    return stones[0] if len(stones) else 0\n",
    "\n",
    "stones = [1]\n",
    "last_stone_weight(stones)"
   ]
  },
  {
   "cell_type": "markdown",
   "metadata": {},
   "source": [
    "### Afterthoughts:\n",
    "**Stats:**\n",
    "Runtime\n",
    "30 ms\n",
    "Beats\n",
    "64.5%\n",
    "Memory\n",
    "13.6 MB\n",
    "Beats\n",
    "9.27%\n",
    "\n",
    "Nice. I'm going to spend a few more minutes to see if I can optimize the timing.\n",
    "\n",
    "It seems like an optimized approach would be pre-sorting the list and then inserting the new stone weight into the correct position. This would cut down on the time needed to run two `max` calls at each iteration and instead would take one insertion."
   ]
  },
  {
   "cell_type": "code",
   "execution_count": 9,
   "metadata": {},
   "outputs": [
    {
     "data": {
      "text/plain": [
       "1"
      ]
     },
     "execution_count": 9,
     "metadata": {},
     "output_type": "execute_result"
    }
   ],
   "source": [
    "def last_stone_weight(stones):\n",
    "    import bisect\n",
    "    # sort the stones\n",
    "    stones.sort()\n",
    "\n",
    "    while len(stones) > 1:\n",
    "        smashed = abs(stones.pop() - stones.pop())\n",
    "        if smashed:\n",
    "            bisect.insort(stones, smashed)\n",
    "    \n",
    "    return stones[0] if len(stones) else 0\n",
    "\n",
    "stones = [2,7,4,1,8,1]\n",
    "last_stone_weight(stones)"
   ]
  },
  {
   "cell_type": "markdown",
   "metadata": {},
   "source": [
    "**Stats:**\n",
    "Runtime\n",
    "32 ms\n",
    "Beats\n",
    "57.7%\n",
    "Memory\n",
    "13.5 MB\n",
    "Beats\n",
    "52.29"
   ]
  }
 ],
 "metadata": {
  "kernelspec": {
   "display_name": "Python 3.10.2 64-bit ('learning')",
   "language": "python",
   "name": "python3"
  },
  "language_info": {
   "codemirror_mode": {
    "name": "ipython",
    "version": 3
   },
   "file_extension": ".py",
   "mimetype": "text/x-python",
   "name": "python",
   "nbconvert_exporter": "python",
   "pygments_lexer": "ipython3",
   "version": "3.10.2"
  },
  "orig_nbformat": 4,
  "vscode": {
   "interpreter": {
    "hash": "083c3123b4ad7f25f53c003e80272d3d1894a33e093a79f10823ee80b0414ebd"
   }
  }
 },
 "nbformat": 4,
 "nbformat_minor": 2
}
