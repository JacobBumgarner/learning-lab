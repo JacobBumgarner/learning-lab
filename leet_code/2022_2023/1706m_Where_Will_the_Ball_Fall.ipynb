{
 "cells": [
  {
   "cell_type": "markdown",
   "metadata": {},
   "source": [
    "# 1706. Where Will the Ball Fall\n",
    "Given a 2D grid of size `m x n` representing a box and `n` balls.\n",
    "\n",
    "The box is open on the 'top' and 'bottom'.\n",
    "\n",
    "Each cell in the ox has a diagonal board spanning two corners that can redirect the ball\n",
    "either to the right or two the left\n",
    "- Left redirection is represented as a `-1`\n",
    "- Right redirection is represented as a `1`\n",
    "\n",
    "Return an array `answer` that indicates where ball `i` falls out at the 'bottom' of the\n",
    "box. Return a `-1` if the ball got 'stuck."
   ]
  },
  {
   "cell_type": "markdown",
   "metadata": {},
   "source": [
    "**Timing** \\\n",
    "**Start: 1359** \\\n",
    "**End: 1447**"
   ]
  },
  {
   "cell_type": "markdown",
   "metadata": {},
   "source": [
    "### Planning\n",
    "I will plan to update the entire set of balls at once and will only iterate over\n",
    "the rows of the box once.\n",
    "\n",
    "I will start by creating a list of lists of length `n`. At the start, each main list will have one element: the number of the ball. \n",
    "\n",
    "I will now need to figure out how to interpret the input grid. I think when examining\n",
    "each column, I will need to check to see if the values to the left and right of the\n",
    "current column match (left for -1, right for +1). If they don't match or if `-1` on the left edge or `1` on the right edge, move the balls to the 'stuck' position.\n",
    "\n",
    "Create a helper function for this?\n",
    "\n",
    "---\n",
    "Steps:\n",
    "- Create list of lists (`positions`) of length `n` where `0 -> n-1` list are appended a single value\n",
    "of their index.\n",
    "- Iterate over each row of the grid. Update the position of each of the balls. Pop the balls if they are trapped.\n",
    "- At the end up of the update, create a `final_positions` list that keeps track of where each ball ended up.\n",
    "    - Iterate over the `positions` list and update `final_positions[ball] = i`\n",
    "\n",
    "---\n",
    "To simplify things, I've decided to insert a column of `1` on the left and `-1` on the right."
   ]
  },
  {
   "cell_type": "code",
   "execution_count": 41,
   "metadata": {},
   "outputs": [
    {
     "data": {
      "text/plain": [
       "[1, -1, -1, -1, -1]"
      ]
     },
     "execution_count": 41,
     "metadata": {},
     "output_type": "execute_result"
    }
   ],
   "source": [
    "def find_ball(grid):\n",
    "    if len(grid[0]) == 1:\n",
    "        return [-1]\n",
    "    \n",
    "    # Add 1 to left column and -1 to right column\n",
    "    for row in grid:\n",
    "        row.insert(0, 1)\n",
    "        row.append(-1)\n",
    "\n",
    "    # create the positions array\n",
    "    positions = [[i] for i in range(len(grid[0])-2)]\n",
    "    \n",
    "    # drop the balls\n",
    "    for row in range(len(grid)):\n",
    "        new_positions = [[] for _ in range(len(positions))]\n",
    "        \n",
    "        for column in range(1, len(grid[0])-1):\n",
    "            drop_direction = grid[row][column]\n",
    "            trap_direction = -1 * (grid[row][column+drop_direction])\n",
    "            \n",
    "            if drop_direction != trap_direction:\n",
    "                new_positions[column-1+drop_direction].extend(positions[column-1])\n",
    "        \n",
    "        positions = new_positions\n",
    "        \n",
    "    final_positions = [-1 for _ in range(len(positions))]\n",
    "    for i in range(len(positions)):\n",
    "        for ball in positions[i]:\n",
    "            final_positions[ball] = i\n",
    "                \n",
    "    return final_positions\n",
    "\n",
    "\n",
    "grid = [[1,1,1,-1,-1],[1,1,1,-1,-1],[-1,-1,-1,1,1],[1,1,1,1,-1],[-1,-1,-1,-1,-1]]\n",
    "\n",
    "find_ball(grid)"
   ]
  },
  {
   "cell_type": "markdown",
   "metadata": {},
   "source": [
    "### Afterthoughts\n",
    "**Stats:**\n",
    "Runtime\n",
    "451 ms\n",
    "Beats\n",
    "21.50%\n",
    "Memory\n",
    "13.8 MB\n",
    "Beats\n",
    "52.20%\n",
    "\n",
    "This solution is relatively effective in the context of memory, but it is quite slow.\n",
    "\n",
    "It seems like a faster approach would've been to actually iterate over each ball one at a time!"
   ]
  },
  {
   "cell_type": "markdown",
   "metadata": {},
   "source": [
    "### Attempt 1\n",
    "Failed testcase 41/64 because I did not check for the right of left edges or left of right edges. Going to go for a simpler case now."
   ]
  },
  {
   "cell_type": "code",
   "execution_count": 29,
   "metadata": {},
   "outputs": [
    {
     "data": {
      "text/plain": [
       "[-1]"
      ]
     },
     "execution_count": 29,
     "metadata": {},
     "output_type": "execute_result"
    }
   ],
   "source": [
    "def find_ball(grid):\n",
    "    if len(grid[0]) == 1:\n",
    "        return [-1]\n",
    "    \n",
    "    def drop_edges(grid, positions, new_positions, row, index):\n",
    "        drop_direction = grid[row][index]\n",
    "        trapped_direction = -1 if index == 0 else 1\n",
    "        \n",
    "        # only drop the balls if they are not 'trapped'\n",
    "        if drop_direction != trapped_direction:  # check for 'trapped' balls\n",
    "            new_positions[index+drop_direction].extend(positions[index])\n",
    "        \n",
    "        return\n",
    "    \n",
    "    # create the positions array\n",
    "    positions = [[] for _ in range(len(grid[0]))]\n",
    "    for i in range(len(grid[0])):\n",
    "        positions[i].append(i)\n",
    "    \n",
    "    # drop the balls down the grid\n",
    "    for row in range(len(grid)):\n",
    "        new_positions = [[] for _ in range(len(grid[0]))]\n",
    "        # drop the left and right columns\n",
    "        drop_edges(grid, positions, new_positions, row, 0)\n",
    "        \n",
    "        # drop the middle columns\n",
    "        for i in range(1, len(grid[0])-1):\n",
    "            # get the value of the left or right boxes, respectively\n",
    "            drop_direction = grid[row][i]\n",
    "            trapped_direction = -1 * (grid[row][i + drop_direction])\n",
    "            \n",
    "            if drop_direction != trapped_direction:\n",
    "                new_positions[i+drop_direction].extend(positions[i])\n",
    "        drop_edges(grid, positions, new_positions, row, -1)\n",
    "        \n",
    "        # update the positions\n",
    "        positions = new_positions\n",
    "    \n",
    "    # retrieve the final positions of the balls\n",
    "    final_positions = [-1 for _ in range(len(grid[0]))]\n",
    "    for i in range(len(positions)-1):\n",
    "        for ball in positions[i]:\n",
    "            final_positions[ball] = i\n",
    "            \n",
    "    return final_positions\n",
    "\n",
    "grid = [[-1]]\n",
    "\n",
    "find_ball(grid)"
   ]
  }
 ],
 "metadata": {
  "kernelspec": {
   "display_name": "Python 3.10.2 64-bit ('learning')",
   "language": "python",
   "name": "python3"
  },
  "language_info": {
   "codemirror_mode": {
    "name": "ipython",
    "version": 3
   },
   "file_extension": ".py",
   "mimetype": "text/x-python",
   "name": "python",
   "nbconvert_exporter": "python",
   "pygments_lexer": "ipython3",
   "version": "3.10.2"
  },
  "orig_nbformat": 4,
  "vscode": {
   "interpreter": {
    "hash": "083c3123b4ad7f25f53c003e80272d3d1894a33e093a79f10823ee80b0414ebd"
   }
  }
 },
 "nbformat": 4,
 "nbformat_minor": 2
}
