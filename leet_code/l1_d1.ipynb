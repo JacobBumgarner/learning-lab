{
 "cells": [
  {
   "cell_type": "code",
   "execution_count": 1,
   "metadata": {},
   "outputs": [],
   "source": [
    "import numpy as np"
   ]
  },
  {
   "cell_type": "code",
   "execution_count": 4,
   "metadata": {},
   "outputs": [
    {
     "name": "stdout",
     "output_type": "stream",
     "text": [
      "[1, 3, 6, 10]\n"
     ]
    }
   ],
   "source": [
    "# 1480 Running Sum of 1d array.\n",
    "def running_sum(input_arr): \n",
    "    for i in range(1, len(input_arr)):\n",
    "        input_arr[i] += input_arr[i-1]\n",
    "    return input_arr\n",
    "\n",
    "input_arr = [1,2,3,4]\n",
    "print(running_sum(input_arr))"
   ]
  },
  {
   "cell_type": "code",
   "execution_count": 11,
   "metadata": {},
   "outputs": [
    {
     "data": {
      "text/plain": [
       "3"
      ]
     },
     "execution_count": 11,
     "metadata": {},
     "output_type": "execute_result"
    }
   ],
   "source": [
    "# 724. Find Pivot Index\n",
    "# find the index where sum(nums[0:i]) == sum(nums[i+1:])\n",
    "nums = [1, 7, 3, 6, 5, 6]\n",
    "\n",
    "def find_pivot(nums):\n",
    "    pivot_index = -1\n",
    "    for i in range(0, len(nums)):\n",
    "        left_sum = sum(nums[0:i])\n",
    "        right_sum = sum(nums[i+1:])\n",
    "        if left_sum == right_sum:\n",
    "            pivot_index = i\n",
    "            break\n",
    "    return pivot_index\n",
    "find_pivot(nums)"
   ]
  },
  {
   "cell_type": "code",
   "execution_count": null,
   "metadata": {},
   "outputs": [],
   "source": []
  },
  {
   "cell_type": "markdown",
   "metadata": {},
   "source": []
  }
 ],
 "metadata": {
  "kernelspec": {
   "display_name": "Python 3.10.2 64-bit ('learning')",
   "language": "python",
   "name": "python3"
  },
  "language_info": {
   "codemirror_mode": {
    "name": "ipython",
    "version": 3
   },
   "file_extension": ".py",
   "mimetype": "text/x-python",
   "name": "python",
   "nbconvert_exporter": "python",
   "pygments_lexer": "ipython3",
   "version": "3.10.2"
  },
  "orig_nbformat": 4,
  "vscode": {
   "interpreter": {
    "hash": "083c3123b4ad7f25f53c003e80272d3d1894a33e093a79f10823ee80b0414ebd"
   }
  }
 },
 "nbformat": 4,
 "nbformat_minor": 2
}
