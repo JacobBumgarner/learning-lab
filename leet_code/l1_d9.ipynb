{
 "cells": [
  {
   "cell_type": "markdown",
   "metadata": {},
   "source": [
    "# 733. Flood Fill\n",
    "Given a 2D image array and the coordinate for a single pixel, flood fill the image.\n",
    "\n",
    "Flood fill rules:\n",
    "\n",
    "- Only flood fill pixels that have the same value as the input pixel\n",
    "- Only flood fill 4-connected pixels"
   ]
  },
  {
   "cell_type": "markdown",
   "metadata": {},
   "source": [
    "**Start: 21:50**\n",
    "\n",
    "**End: 22:10**"
   ]
  },
  {
   "cell_type": "markdown",
   "metadata": {},
   "source": [
    "### Planning\n",
    "I will use recursion to solve this problem. So much recursion recently to solve these\n",
    "problems.\n",
    "\n",
    "Steps:\n",
    "1. Get the value of the input pixel\n",
    "2. Get the boundaries of the image\n",
    "3. Send target pixels to our recursive function.\n",
    "4. Only continue with pixels that are the parent color or that are inside the image"
   ]
  },
  {
   "cell_type": "code",
   "execution_count": 20,
   "metadata": {},
   "outputs": [
    {
     "data": {
      "text/plain": [
       "[[0, 0, 0], [0, 0, 0]]"
      ]
     },
     "execution_count": 20,
     "metadata": {},
     "output_type": "execute_result"
    }
   ],
   "source": [
    "def flood_fill(image, p_x, p_y, fill_color):\n",
    "    def fill_neighbors(t_x, t_y):\n",
    "        # Check the pixel for criteria\n",
    "        if not -1 < t_x < image_size[0] or not -1 < t_y < image_size[1]:\n",
    "            return\n",
    "        elif image[t_x][t_y] != parent_color or image[t_x][t_y] == fill_color:\n",
    "            return\n",
    "        \n",
    "        # Fill the pixel\n",
    "        image[t_x][t_y] = fill_color\n",
    "        \n",
    "        # Get the pixel neighbors\n",
    "        neighbors = [[t_x + n[0], t_y + n[1]] for n in neighbor_indices]\n",
    "        for neighbor in neighbors:\n",
    "            fill_neighbors(neighbor[0], neighbor[1])\n",
    "        \n",
    "        return\n",
    "    \n",
    "    image_size = [len(image), len(image[0])]\n",
    "    neighbor_indices = [[0, 1], [0, -1], [1, 0], [-1, 0]]\n",
    "    parent_color = image[p_x][p_y]\n",
    "    fill_neighbors(p_x, p_y)\n",
    "    \n",
    "    return image\n",
    "\n",
    "image = [[0,0,0],[0,0,0]]\n",
    "flood_fill(image, 0, 0, 0)"
   ]
  },
  {
   "cell_type": "markdown",
   "metadata": {},
   "source": [
    "### Afterthought\n",
    "\n",
    "My solution worked, but it was quite slow. I'm curious to see what other solutions existed.\n",
    "\n",
    "The top voted solution with Javascript used my same approach! A recursive search.\n",
    "\n",
    "I did see one simple difference. Rather than running the flood fill with a temporary \n",
    "negative number, I can simply check to see if the current pixel is *either* the parent\n",
    "value *or* the fill value. That would stop premature filling of islands that match the \n",
    "fill color."
   ]
  },
  {
   "cell_type": "markdown",
   "metadata": {},
   "source": [
    "# 200. Number of Islands\n",
    "Given a 2D image of 0's and 1's, find the number of \"1's\" islands.\n",
    "\n",
    "Islands are 4-connected."
   ]
  },
  {
   "cell_type": "markdown",
   "metadata": {},
   "source": [
    "**Start: 22:18**\n",
    "\n",
    "**End: 22:29**"
   ]
  },
  {
   "cell_type": "markdown",
   "metadata": {},
   "source": [
    "### Planning\n",
    "\n",
    "This problem is a simple development of the flood fill.\n",
    "\n",
    "The plan:\n",
    "Keep track of the number of islands. `island_index = 0`. `++` this var with each new\n",
    "island.\n",
    "\n",
    "1. Iterate through image pixel-by-pixel\n",
    "2. For each pixel, if the pixel is a \"1\", increase island_counter, and flood fill\n",
    "the island with \"0\" values."
   ]
  },
  {
   "cell_type": "code",
   "execution_count": 24,
   "metadata": {},
   "outputs": [
    {
     "data": {
      "text/plain": [
       "4"
      ]
     },
     "execution_count": 24,
     "metadata": {},
     "output_type": "execute_result"
    }
   ],
   "source": [
    "def count_islands(grid):\n",
    "    def flood_island(t_x, t_y):\n",
    "        if not -1 < t_x < grid_size[0] or not -1 < t_y < grid_size[1]:\n",
    "            return\n",
    "        if grid[t_x][t_y] != \"1\":\n",
    "            return\n",
    "        \n",
    "        grid[t_x][t_y] = \"0\"\n",
    "        \n",
    "        neighbors = [[t_x + n[0], t_y + n[1]] for n in neighbor_indices]\n",
    "        for n in neighbors:\n",
    "            flood_island(n[0], n[1])\n",
    "        \n",
    "        return\n",
    "    \n",
    "    island_count = 0\n",
    "    neighbor_indices = [[0, 1], [0, -1], [1, 0], [-1, 0]]\n",
    "    grid_size = [len(grid), len(grid[0])]\n",
    "    \n",
    "    for x in range(grid_size[0]):\n",
    "        for y in range(grid_size[1]):\n",
    "            if grid[x][y] == \"1\":\n",
    "                flood_island(x, y)\n",
    "                island_count += 1\n",
    "    \n",
    "    return island_count\n",
    "\n",
    "grid = [[\"0\",\"1\",\"0\"],[\"1\",\"0\",\"1\"],[\"0\",\"1\",\"0\"]]\n",
    "count_islands(grid)"
   ]
  },
  {
   "cell_type": "markdown",
   "metadata": {},
   "source": [
    "### Afterthought\n",
    "Runtime\n",
    "888 ms\n",
    "Beats\n",
    "23.79%\n",
    "Memory\n",
    "28.8 MB\n",
    "Beats\n",
    "75.29%\n",
    "\n",
    "Decent memory stats. I'm not sure why the runtime is slow - let's check other solutions.\n",
    "\n",
    "Seems like others used a very similar approach but their solutions were faster.\n",
    "\n",
    "E.g., a C++ approach \n"
   ]
  },
  {
   "cell_type": "markdown",
   "metadata": {},
   "source": []
  }
 ],
 "metadata": {
  "kernelspec": {
   "display_name": "Python 3.10.2 64-bit ('learning')",
   "language": "python",
   "name": "python3"
  },
  "language_info": {
   "codemirror_mode": {
    "name": "ipython",
    "version": 3
   },
   "file_extension": ".py",
   "mimetype": "text/x-python",
   "name": "python",
   "nbconvert_exporter": "python",
   "pygments_lexer": "ipython3",
   "version": "3.10.2"
  },
  "orig_nbformat": 4,
  "vscode": {
   "interpreter": {
    "hash": "083c3123b4ad7f25f53c003e80272d3d1894a33e093a79f10823ee80b0414ebd"
   }
  }
 },
 "nbformat": 4,
 "nbformat_minor": 2
}
