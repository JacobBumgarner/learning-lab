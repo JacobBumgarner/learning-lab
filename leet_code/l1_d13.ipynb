{
 "cells": [
  {
   "cell_type": "markdown",
   "metadata": {},
   "source": [
    "# 1. Two Sum\n",
    "Given an array of integers `nums` and an integer `target`, return the two indices of the\n",
    "values in `nums` that sum to the target.\n",
    "\n",
    "There can only be one solution.\n",
    "\n",
    "The same number cannot be used twice."
   ]
  },
  {
   "cell_type": "markdown",
   "metadata": {},
   "source": [
    "**Start: 12:16**\n",
    "\n",
    "**End: 12:24**"
   ]
  },
  {
   "cell_type": "markdown",
   "metadata": {},
   "source": [
    "### Planning\n",
    "I think that I will use a hash map similarly to yesterday. \n",
    "\n",
    "I will try to solve this approach by scanning over the table twice.\n",
    "\n",
    "In the first scan, I will create a hash map of the values and their indices. If a value\n",
    "is encountered twice, it's largest index will be recorded.\n",
    "\n",
    "Then, I will iterate over the array a second time.\n",
    "\n",
    "1. At each iteration, take the current value, subtract it from `target` to see\n",
    "what value it would need to be added to in order to find the target.\n",
    "2. Then, take this value and try to retrieve an object from our hash map. If an object\n",
    "returns, that means the necessary value exists. Record the index of the current value\n",
    "and the retrieved value, break the loop.\n",
    "3. If not, continue\n"
   ]
  },
  {
   "cell_type": "code",
   "execution_count": 3,
   "metadata": {},
   "outputs": [
    {
     "data": {
      "text/plain": [
       "[0, 1]"
      ]
     },
     "execution_count": 3,
     "metadata": {},
     "output_type": "execute_result"
    }
   ],
   "source": [
    "from collections import defaultdict\n",
    "\n",
    "def two_sum(nums, target):\n",
    "    num_map = defaultdict(int)\n",
    "    for i, num in enumerate(nums):\n",
    "        num_map[num] = i\n",
    "    \n",
    "    for i in range(len(nums)):\n",
    "        current_value = nums[i]\n",
    "        needed_value = target - current_value\n",
    "        \n",
    "        potential_index = num_map.get(needed_value)\n",
    "        if potential_index and potential_index != i:\n",
    "            target_indices = [i, potential_index]\n",
    "            break\n",
    "    \n",
    "    return target_indices\n",
    "\n",
    "nums = [3,3]\n",
    "target = 6\n",
    "two_sum(nums, target)"
   ]
  },
  {
   "cell_type": "markdown",
   "metadata": {},
   "source": [
    "### Afterthoughts:\n",
    "**Stats:**\n",
    "Runtime\n",
    "49 ms\n",
    "Beats\n",
    "92.76%\n",
    "Memory\n",
    "14.4 MB\n",
    "Beats\n",
    "44.33%\n",
    "\n",
    "Nice. Happy with my approach and solution to this problem.\n",
    "\n",
    "I can definitely feel that my ability to quickly identify approaches is improving as I\n",
    "continue to practice these problems."
   ]
  },
  {
   "cell_type": "markdown",
   "metadata": {},
   "source": [
    "# 299. Bulls and Cows\n",
    "We are playing the [Bulls and Cows](https://en.wikipedia.org/wiki/Bulls_and_Cows) game.\n",
    "\n",
    "Given the `secret` and a `guess`, return the hint to that guess.\n",
    "\n",
    "The hint should be formatted as `\"xAyB\"` where `x` is the number of bulls (correct guess correct position) and `y` is the number of cows (correct guess wrong position).\n",
    "\n",
    "This version of the game can contain duplicate digits."
   ]
  },
  {
   "cell_type": "markdown",
   "metadata": {},
   "source": [
    "**Start: 15:19**\n",
    "\n",
    "**End: 15:39**"
   ]
  },
  {
   "cell_type": "markdown",
   "metadata": {},
   "source": [
    "### Planning\n",
    "I will solve this problem in two steps. \n",
    "\n",
    "In the first step, I will get the set of the `secret` and I will count the number of\n",
    "correct occurrences of the `guess` in the set. The sum of the occurrences will default to `cows`.\n",
    "\n",
    "In the second step, I will iterate over the `guess` and check to see if the value matches\n",
    "the `secret` at the same index. If it does, convert one of the cows to a bull.\n",
    "\n",
    "At the end, simply format the bulls and cows into the correct string.\n",
    "\n",
    "---\n",
    "I could also do an in-place modification of the secret.\n",
    "\n",
    "First iterate over the secret to find bulls, then iterate over the secret to find cows.\n",
    "\n",
    "I'll try this instead!"
   ]
  },
  {
   "cell_type": "code",
   "execution_count": 30,
   "metadata": {},
   "outputs": [
    {
     "data": {
      "text/plain": [
       "'1A2B'"
      ]
     },
     "execution_count": 30,
     "metadata": {},
     "output_type": "execute_result"
    }
   ],
   "source": [
    "def get_hint(secret, guess):\n",
    "    bulls, cows = 0, 0\n",
    "    secret, guess = list(secret), list(guess)\n",
    "    for i, num in enumerate(guess):\n",
    "        if num not in secret:\n",
    "            continue\n",
    "        if num == secret[i]:\n",
    "            bulls += 1\n",
    "            secret[i] = \"_\"\n",
    "            guess[i] = \"_\"\n",
    "\n",
    "    for i, num in enumerate(guess):\n",
    "        if num == \"_\" or num not in secret:\n",
    "            continue\n",
    "        else:\n",
    "            cows += 1\n",
    "            secret[secret.index(num)] = \"_\"\n",
    "    \n",
    "    hint = \"{a}A{b}B\".format(a=bulls, b=cows)\n",
    "    return hint\n",
    "\n",
    "secret = \"011\"\n",
    "guess = \"110\"\n",
    "get_hint(secret, guess)"
   ]
  },
  {
   "cell_type": "markdown",
   "metadata": {},
   "source": [
    "### Afterthoughts:\n",
    "**Stats:**\n",
    "Runtime\n",
    "1200 ms\n",
    "Beats\n",
    "5.13%\n",
    "Memory\n",
    "13.4 MB\n",
    "Beats\n",
    "91.93%\n",
    "\n",
    "Ok - this approach is extremely effective in the context of memory, but it's VERY slow\n",
    "in comparison to the other approaches. How might I make this faster? Will consider\n",
    "this for a few minutes before I look at other approaches.\n",
    "\n",
    "I think I could revisit my first idea.\n",
    "\n",
    "1. Get the counts of the numbers in both arrays. \n",
    "2. Iterate over the number counts in the guesses. \n",
    "3. If the number in the guess is in the secret, take the minimum counts of the two arrays.\n",
    "    - The logic for this: If there are three 1's in the secrets and two 1's in the guess,\n",
    "    at the most there can only be two cows. And vice versa.\n",
    "4. Iterate over the list once, tally up the number of elements that match. Add this tally to the\n",
    "bulls, subtract it from the cows."
   ]
  },
  {
   "cell_type": "code",
   "execution_count": 34,
   "metadata": {},
   "outputs": [
    {
     "data": {
      "text/plain": [
       "'1A2B'"
      ]
     },
     "execution_count": 34,
     "metadata": {},
     "output_type": "execute_result"
    }
   ],
   "source": [
    "def get_hint(secret, guess):\n",
    "    cows = 0\n",
    "    for num in set(guess):\n",
    "        if num in secret:\n",
    "            cows += min(secret.count(num), guess.count(num))\n",
    "    \n",
    "    bulls = 0\n",
    "    for i, num in enumerate(guess):\n",
    "        if guess[i] == secret[i]:\n",
    "            bulls += 1\n",
    "            cows -= 1\n",
    "\n",
    "    hint = \"{a}A{b}B\".format(a=bulls, b=cows)\n",
    "    return hint\n",
    "\n",
    "secret = \"011\"\n",
    "guess = \"110\"\n",
    "get_hint(secret, guess)"
   ]
  },
  {
   "cell_type": "markdown",
   "metadata": {},
   "source": [
    "### Afterthoughts\n",
    "**Stats:**\n",
    "Runtime\n",
    "49 ms\n",
    "Beats\n",
    "70.2%\n",
    "Memory\n",
    "13.4 MB\n",
    "Beats\n",
    "\n",
    "Very nice... much happier with that approach!"
   ]
  }
 ],
 "metadata": {
  "kernelspec": {
   "display_name": "Python 3.10.2 64-bit ('learning')",
   "language": "python",
   "name": "python3"
  },
  "language_info": {
   "codemirror_mode": {
    "name": "ipython",
    "version": 3
   },
   "file_extension": ".py",
   "mimetype": "text/x-python",
   "name": "python",
   "nbconvert_exporter": "python",
   "pygments_lexer": "ipython3",
   "version": "3.10.2"
  },
  "orig_nbformat": 4,
  "vscode": {
   "interpreter": {
    "hash": "083c3123b4ad7f25f53c003e80272d3d1894a33e093a79f10823ee80b0414ebd"
   }
  }
 },
 "nbformat": 4,
 "nbformat_minor": 2
}
