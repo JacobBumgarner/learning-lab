{
 "cells": [
  {
   "cell_type": "markdown",
   "metadata": {},
   "source": [
    "# 704. Binary Search\n",
    "\n",
    "Given a sorted array of numbers, find the index of a target number.\n",
    "\n",
    "If the number does not exist, return -1.\n",
    "\n",
    "The algorithm must have O(log n) runtime complexity, i.e., no iteration."
   ]
  },
  {
   "cell_type": "markdown",
   "metadata": {},
   "source": [
    "**Start: 0:17**\n",
    "\n",
    "**End: 00:49**\n",
    "\n",
    "Took some time to relearn the algorithm. Was nice to recover this rudimentary but\n",
    "fundamental alg."
   ]
  },
  {
   "cell_type": "markdown",
   "metadata": {},
   "source": [
    "### Planning\n",
    "\n",
    "I'll just plan on implementing the binary search algo."
   ]
  },
  {
   "cell_type": "code",
   "execution_count": 37,
   "metadata": {},
   "outputs": [
    {
     "data": {
      "text/plain": [
       "-1"
      ]
     },
     "execution_count": 37,
     "metadata": {},
     "output_type": "execute_result"
    }
   ],
   "source": [
    "from operator import index\n",
    "\n",
    "\n",
    "def binary_search(nums, target):\n",
    "    # simple search cases\n",
    "    if len(nums) == 1:\n",
    "        return 0 if nums[0] == target else -1\n",
    "\n",
    "    left_index = 0\n",
    "    right_index = len(nums) - 1\n",
    "    current_index = len(nums) // 2\n",
    "    \n",
    "    while left_index <= right_index:\n",
    "        if nums[current_index] == target:\n",
    "            return current_index\n",
    "        elif nums[current_index] < target:\n",
    "            left_index = current_index + 1\n",
    "        else:\n",
    "            right_index = current_index - 1\n",
    "        current_index = int((left_index + right_index) / 2)\n",
    "    return -1\n",
    "\n",
    "nums = [-1,0,3,5,9,12]\n",
    "target = 4\n",
    "binary_search(nums, target)"
   ]
  },
  {
   "cell_type": "markdown",
   "metadata": {},
   "source": [
    "# 278. First Bad Version\n",
    "\n",
    "Given a int of software versions, the goal is to find the border in the numbers where the\n",
    "numbers return True and False. \n",
    "\n",
    "We are looking to find the first version of a software release that caused a permanent bug.\n",
    "\n",
    "Use `isBadVersion(version)` to determine whether the current version is bad."
   ]
  },
  {
   "cell_type": "markdown",
   "metadata": {},
   "source": [
    "**Start: 00:52**\n",
    "\n",
    "**End: NA - Laptop died and I didn't end up catching the time that I finished the code.**\n",
    "\n",
    "### Afterthoughts:\n",
    "This is effectively just a binary search with a twist.\n"
   ]
  },
  {
   "cell_type": "markdown",
   "metadata": {},
   "source": [
    "### Planning\n",
    "\n",
    "This problem is fundamentally similar to the binary search algorithm.\n",
    "\n",
    "I will have a left and right index that iteratively step up/down to the current index\n",
    "based on whether the current version is bad.\n",
    "\n",
    "At each iteration, I will check to see if the current version is bad, and if it is\n",
    "and the left version is good, return the current index.\n",
    "\n",
    "I don't think that there would be a reason to stop the search... if from the beginning\n",
    "the first version is bad, just return 0."
   ]
  },
  {
   "cell_type": "code",
   "execution_count": 43,
   "metadata": {},
   "outputs": [
    {
     "name": "stdout",
     "output_type": "stream",
     "text": [
      "Current Version: 2\n",
      "Current Version: 4\n"
     ]
    },
    {
     "data": {
      "text/plain": [
       "4"
      ]
     },
     "execution_count": 43,
     "metadata": {},
     "output_type": "execute_result"
    }
   ],
   "source": [
    "def isBadVersion(version):\n",
    "    return version >= BAD_VERSION\n",
    "\n",
    "def first_bad_version(n) -> int:\n",
    "    if isBadVersion(0):\n",
    "        return 0\n",
    "    \n",
    "    left_index = 1\n",
    "    right_index = n\n",
    "    current_index = n // 2\n",
    "    \n",
    "    i = 0\n",
    "    while i < 100:\n",
    "        print(f\"Current Version: {current_index}\")\n",
    "        bad = isBadVersion(current_index)\n",
    "        if bad and not isBadVersion(current_index-1):\n",
    "            return current_index\n",
    "        elif bad:\n",
    "            right_index = current_index - 1\n",
    "        else:\n",
    "            left_index = current_index + 1\n",
    "            \n",
    "        current_index = int((left_index + right_index) / 2)\n",
    "        i += 1\n",
    "    return\n",
    "\n",
    "BAD_VERSION = 4\n",
    "n = 5\n",
    "first_bad_version(n)"
   ]
  }
 ],
 "metadata": {
  "kernelspec": {
   "display_name": "Python 3.10.2 64-bit ('learning')",
   "language": "python",
   "name": "python3"
  },
  "language_info": {
   "codemirror_mode": {
    "name": "ipython",
    "version": 3
   },
   "file_extension": ".py",
   "mimetype": "text/x-python",
   "name": "python",
   "nbconvert_exporter": "python",
   "pygments_lexer": "ipython3",
   "version": "3.10.2"
  },
  "orig_nbformat": 4,
  "vscode": {
   "interpreter": {
    "hash": "083c3123b4ad7f25f53c003e80272d3d1894a33e093a79f10823ee80b0414ebd"
   }
  }
 },
 "nbformat": 4,
 "nbformat_minor": 2
}
