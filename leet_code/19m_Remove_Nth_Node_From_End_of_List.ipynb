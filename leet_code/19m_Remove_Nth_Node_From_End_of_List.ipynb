{
 "cells": [
  {
   "attachments": {},
   "cell_type": "markdown",
   "metadata": {},
   "source": [
    "# 19. Remove Nth Node from End of List\n",
    "\n",
    "Given the head of a linked list, remove the nth node from the end of the list and \n",
    "return its head."
   ]
  },
  {
   "attachments": {},
   "cell_type": "markdown",
   "metadata": {},
   "source": [
    "My thought is to first step a pointer to the end of the linked list in order\n",
    "to identify how long the list is (l). Then, I step down the list a second time n-l\n",
    "times while keeping track of the previous pointer. I then will remove the n-l node and\n",
    "relink the n-1 and n+1 nodes.\n",
    "\n",
    "I could also iterate through the linked list and store pointers to the nodes as values\n",
    "in a dictionary. I would then call n-1 and n+1 from the dict and link them."
   ]
  },
  {
   "attachments": {},
   "cell_type": "markdown",
   "metadata": {},
   "source": [
    "**Timing:** \\\n",
    "**Start: 14:02** \\\n",
    "**End: **"
   ]
  },
  {
   "cell_type": "code",
   "execution_count": 2,
   "metadata": {},
   "outputs": [],
   "source": [
    "from collections import defaultdict\n",
    "\n",
    "def remove_nth_node(head, n):\n",
    "    node_dict = {}\n",
    "    \n",
    "    node = head\n",
    "    list_length = 0\n",
    "    while node:\n",
    "        node_dict[list_length] = node\n",
    "        node = node.next\n",
    "        list_length += 1\n",
    "    \n",
    "    if list_length - n - 1 >= 0:\n",
    "        before = node_dict[list_length - n - 1]\n",
    "        \n",
    "        if list_length - n + 1 < list_length:\n",
    "            after = node_dict[list_length - n + 1]\n",
    "        else:\n",
    "            after = None\n",
    "            \n",
    "        before.next = after\n",
    "    \n",
    "    head = node_dict[0]\n",
    "    node_dict[list_length - n] = None\n",
    "    if not head and list_length > 1:\n",
    "        head = node_dict[1]\n",
    "        \n",
    "    return head"
   ]
  },
  {
   "attachments": {},
   "cell_type": "markdown",
   "metadata": {},
   "source": [
    "### Afterthought\n",
    "**Stats: \n",
    "Runtime\n",
    "16 ms\n",
    "Beats\n",
    "87.7%\n",
    "Memory\n",
    "13.4 MB\n",
    "Beats\n",
    "48.24%**\n",
    "\n",
    "I am quite happy with this solution. It solved the problem in a single pass and didn't\n",
    "require a dramatic amount of memory.\n",
    "\n",
    "Just for the sake of clarity and experience, I am also going to solve the problem\n",
    "using the two-pointer method."
   ]
  },
  {
   "cell_type": "code",
   "execution_count": 4,
   "metadata": {},
   "outputs": [],
   "source": [
    "def remove_nth_node(head, n):\n",
    "    list_length = 0\n",
    "    \n",
    "    fast = slow = head\n",
    "    \n",
    "    for i in range(n):\n",
    "        fast = fast.next\n",
    "\n",
    "    if not fast:\n",
    "        return head.next\n",
    "            \n",
    "    while fast.next:\n",
    "        fast = fast.next\n",
    "        slow = slow.next\n",
    "    \n",
    "    slow.next = slow.next.next\n",
    "    \n",
    "    return head"
   ]
  },
  {
   "attachments": {},
   "cell_type": "markdown",
   "metadata": {},
   "source": [
    "### Afterthought\n",
    "**Stats:\n",
    "Runtime\n",
    "22 ms\n",
    "Beats\n",
    "63.44%\n",
    "Memory\n",
    "13.8 MB\n",
    "Beats\n",
    "5.50%**\n",
    "\n",
    "I like the simplicity of this approach. It requires less logic to understand than my \n",
    "case above."
   ]
  }
 ],
 "metadata": {
  "kernelspec": {
   "display_name": "learning",
   "language": "python",
   "name": "python3"
  },
  "language_info": {
   "codemirror_mode": {
    "name": "ipython",
    "version": 3
   },
   "file_extension": ".py",
   "mimetype": "text/x-python",
   "name": "python",
   "nbconvert_exporter": "python",
   "pygments_lexer": "ipython3",
   "version": "3.10.2"
  },
  "orig_nbformat": 4,
  "vscode": {
   "interpreter": {
    "hash": "083c3123b4ad7f25f53c003e80272d3d1894a33e093a79f10823ee80b0414ebd"
   }
  }
 },
 "nbformat": 4,
 "nbformat_minor": 2
}
