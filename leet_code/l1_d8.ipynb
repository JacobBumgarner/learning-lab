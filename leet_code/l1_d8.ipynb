{
 "cells": [
  {
   "cell_type": "markdown",
   "metadata": {},
   "source": [
    "# 98. Validate Binary Search Tree\n",
    "Given the root of a binary tree, determine if the tree is a valid binary search tree.\n",
    "\n",
    "Criteria for a valid tree:\n",
    "1. The left child of a node must have a value less than the current node's value\n",
    "2. The right child of a node must have a value that is greater than the current node's value.\n",
    "3. The left and right children of the tree must also be valid binary search trees."
   ]
  },
  {
   "cell_type": "markdown",
   "metadata": {},
   "source": [
    "**Start: 12:16**\n",
    "\n",
    "**End: 13:32**\n",
    "\n",
    "### Afterthoughts\n",
    "Some distractions, but I had some real trouble with this one. The major issue was that\n",
    "I fundamentally misunderstood the problem, and it took me quite a while to realize exactly\n",
    "what the problem meant.\n",
    "\n",
    "The word 'subtree' in rules #1 and #2 is what I missed. I should've understood that \n",
    "ALL of the values on the right sides had to be greater than the root node, and vice\n",
    "versa for the left.\n",
    "\n",
    "To reiterate my solution to make sure I understand it:\n",
    "\n",
    "Generally, I solved this problem recursively.\n",
    "\n",
    "All of the values on left subtrees must be less than the current node's value,\n",
    "and all of the values on the right subtrees must be greater than the current node's value.\n",
    "\n",
    "To make sure the gt/lt rules of the subtrees are kept, we need to keep track of the max and min values\n",
    "for the current search.\n",
    "\n",
    "To start, we set the max/min values as values outside of the min and max problem values.\n",
    "\n",
    "Then, we check to see that the node exists. If it doesn't, we've met the criteria, so return True.\n",
    "\n",
    "Next, we check to see that the node's value is gt/lt the max/min values.\n",
    "\n",
    "Then, we check the validity of the left and right subtrees of the node.\n",
    "\n",
    "When checking the left subtree, we keep the min value the same, and we update the max\n",
    "value to be the current node's value. This makes sure that all of the subsequent left searches \n",
    "are lt the current node's values.\n",
    "\n",
    "When checking the right subtree, we keep the max value the same, and instead we update\n",
    "the min value to make sure that all of the subsequent right searches are greater than\n",
    "the current node's value. "
   ]
  },
  {
   "cell_type": "markdown",
   "metadata": {},
   "source": [
    "### Planning\n",
    "I am going to type the code for this problem on the notebook, but I'm not going to waste\n",
    "my time setting up a graph class/constructor function.\n",
    "\n",
    "--- \n",
    "This problem can be solved recursively. \n",
    "\n",
    "I can create a function that checks each node. If the rules are not met, it returns\n",
    "False. If they the rules are met, it recursively calls it self with each child node and\n",
    "returns the value from the calls down.\n",
    "\n",
    "The checking part is easy, I think that the return values are tripping me up a bit here.\n",
    "\n",
    "I believe that we will just return the value from the subsequent calls?\n",
    "\n",
    "I think that the only time the function should return something is if a rule is broken\n",
    "or if there are no more children for the node. Return True if there are no more children.\n",
    "\n",
    "---\n",
    "There should be a way to iteratively tackle this problem, rather than just a recursive one.\n",
    "\n",
    "I think the recursive solution is much easier, but an iterative solution could work.\n",
    "\n",
    "We could traverse down the tree along the left side first, keep a list of the right\n",
    "nodes that are encountered. Once the bottom of a left search is found, just examine\n",
    "the last-added right node, and step down the left, adding right nodes. Once a right node\n",
    "is examined, pop it from the list.\n",
    "\n",
    "This could be repeated until the all nodes are checked or a bad node is encountered.\n",
    "\n",
    "\n",
    "---\n",
    "Ok - I am realizing that I've misunderstood this problem. The left and right node\n",
    "of the children have to meet the value rules for all of the preceding nodes too,\n",
    "not just the current ones."
   ]
  },
  {
   "cell_type": "code",
   "execution_count": 4,
   "metadata": {},
   "outputs": [],
   "source": [
    "def validate_binary_tree(node):\n",
    "    def check_node(node, min_value, max_value):\n",
    "        if not node:  # return true if we've gotten to a null node w/ no broken rules\n",
    "            return True\n",
    "        \n",
    "        if not node.val < min_value and node.val > max_value:\n",
    "            return False\n",
    "        \n",
    "        left_check = check_node(node.left, min_value, node.val)\n",
    "        right_check = check_node(node.right, node.val, max_value)\n",
    "        return left_check and right_check\n",
    "        \n",
    "        \n",
    "    valid_tree = check_node(node, -(2**31)+1, 2**31+1)\n",
    "    return valid_tree"
   ]
  },
  {
   "cell_type": "markdown",
   "metadata": {},
   "source": [
    "# 235. Lowest Common Ancestor of a Binary Search Tree\n",
    "\n",
    "Given a valid binary search tree, find the lowest common ancestor of two nodes \n",
    "in the tree.\n",
    "\n",
    "In other words, find the closest branch point that sits above the two current nodes.\n",
    "\n",
    "Nodes can be parents to themselves."
   ]
  },
  {
   "cell_type": "markdown",
   "metadata": {},
   "source": [
    "**Start: 13:53**\n",
    "\n",
    "**End: 14:10**\n",
    "\n",
    "### Afterthoughts:\n",
    "\n",
    "I felt good about solving this problem! I didn't run into any issues and got it solved\n",
    "on my first try. I think understanding exactly what a BST made the solve easier than\n",
    "#98."
   ]
  },
  {
   "cell_type": "markdown",
   "metadata": {},
   "source": [
    "### Planning\n",
    "We need to return the tree node that is the closest common ancestor of the two given nodes, `p` and `q`.\n",
    "\n",
    "Make `small_node` and `big_node` from the input nodes.\n",
    "\n",
    "Unfortunately, there is no easy way to step 'up' the tree...\n",
    "\n",
    "I think I will try to solve this problem iteratively.\n",
    "\n",
    "The easiest least common ancestor to find is the root. This will be the default.\n",
    "\n",
    "If with the current_LCA, `small_node.val < current_LCA.val < big_node.val`, then return the \n",
    "current_LCA.\n",
    "\n",
    "Otherwise, if both of the values are bigger, make the `current_LCA = current_LCA.right`,\n",
    "and vice versa.\n",
    "\n",
    "Now we also need to consider what to do if the current_LCA is either of the nodes.\n",
    "\n",
    "If it is, return the respective node?"
   ]
  },
  {
   "cell_type": "code",
   "execution_count": null,
   "metadata": {},
   "outputs": [],
   "source": [
    "def find_BST_LCA(root, p, q):\n",
    "    small_node = p if p.val < q.val else q\n",
    "    big_node = p if p.val > q.val else p\n",
    "    \n",
    "    current_LCA = root\n",
    "    \n",
    "    while True:\n",
    "        if current_LCA == small_node or current_LCA == big_node:\n",
    "            return current_LCA\n",
    "        \n",
    "        if small_node.val < current_LCA.val < big_node.val:  # only true if LCA\n",
    "            return current_LCA\n",
    "        elif small_node.val < current_LCA.val:\n",
    "            current_LCA = current_LCA.left\n",
    "        elif small_node.val > current_LCA.val:\n",
    "            current_LCA = current_LCA.right\n",
    "    "
   ]
  },
  {
   "cell_type": "markdown",
   "metadata": {},
   "source": [
    "### Reiteration:\n",
    "Iteratively solve the problem.\n",
    "\n",
    "Denote the small and large nodes of the two given nodes.\n",
    "\n",
    "Make the root the current least common ancestor.\n",
    "\n",
    "1. Check to see if either the small or big are the same as the cLCA. If so, return the cLCA.\n",
    "\n",
    "2. If the small < cLCA < big, \n",
    "that means we have found the LCA.\n",
    "\n",
    "3. If not, check to see which direction the LCA is. If the small is smaller, that means\n",
    "the LCA is on the left side of the BST, so make the cLCA the left child. Repeat to 1.\n",
    "\n",
    "4. If the small is greater, that means the LCA is on the right side of the BST, so make the \n",
    "cLCA the right child. Repeat to 1."
   ]
  },
  {
   "cell_type": "markdown",
   "metadata": {},
   "source": []
  }
 ],
 "metadata": {
  "kernelspec": {
   "display_name": "Python 3.10.2 64-bit ('learning')",
   "language": "python",
   "name": "python3"
  },
  "language_info": {
   "codemirror_mode": {
    "name": "ipython",
    "version": 3
   },
   "file_extension": ".py",
   "mimetype": "text/x-python",
   "name": "python",
   "nbconvert_exporter": "python",
   "pygments_lexer": "ipython3",
   "version": "3.10.2"
  },
  "orig_nbformat": 4,
  "vscode": {
   "interpreter": {
    "hash": "083c3123b4ad7f25f53c003e80272d3d1894a33e093a79f10823ee80b0414ebd"
   }
  }
 },
 "nbformat": 4,
 "nbformat_minor": 2
}
