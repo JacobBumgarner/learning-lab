{
 "cells": [
  {
   "cell_type": "code",
   "execution_count": 2,
   "metadata": {},
   "outputs": [],
   "source": [
    "import numpy as np"
   ]
  },
  {
   "cell_type": "code",
   "execution_count": 62,
   "metadata": {},
   "outputs": [
    {
     "data": {
      "text/plain": [
       "True"
      ]
     },
     "execution_count": 62,
     "metadata": {},
     "output_type": "execute_result"
    }
   ],
   "source": [
    "# 205. Isomorphic Strings\n",
    "s, t = \"3\", \"1\"\n",
    "\n",
    "\n",
    "def check_isomorphic(s: str, t: str) -> bool:\n",
    "    # convert the strings into mapped int lists\n",
    "    def convert_to_int(word: str):\n",
    "        word = list(word)\n",
    "        unique_char = []\n",
    "        for c in word:\n",
    "            if c not in unique_char:\n",
    "                unique_char.append(c)\n",
    "        unique_char = {c: i for i, c in enumerate(unique_char)}\n",
    "        \n",
    "        for i, c in enumerate(word):\n",
    "            word[i] = unique_char[c]\n",
    "                 \n",
    "        return word\n",
    "    s, t = convert_to_int(s), convert_to_int(t)\n",
    "    \n",
    "    return s == t  # compare the int lists to one another\n",
    "\n",
    "check_isomorphic(s, t)"
   ]
  },
  {
   "cell_type": "code",
   "execution_count": 74,
   "metadata": {},
   "outputs": [
    {
     "data": {
      "text/plain": [
       "True"
      ]
     },
     "execution_count": 74,
     "metadata": {},
     "output_type": "execute_result"
    }
   ],
   "source": [
    "# 392. Is Subsequence\n",
    "\n",
    "# given two strings s and t\n",
    "# return True if s exists in t in ascending order, not necessarily consecutively\n",
    "# e.g., s = \"abc\" t = \"axbxc\" is True\n",
    "# e.g., s = \"abc\" t = \"acb\" is False\n",
    "\n",
    "s, t = \"abc\", \"ahbgdc\"\n",
    "\n",
    "def check_subsequence(s: str, t: str) -> bool:\n",
    "    # check to make sure s or t don't have len(0)\n",
    "    if len(s) == 0:\n",
    "        return True \n",
    "    elif len(t) < len(s):\n",
    "        return False\n",
    "    \n",
    "    substring_counter = 0\n",
    "    for c in t:  \n",
    "        if c == s[substring_counter]:  # check if c matches our current s char\n",
    "            substring_counter += 1\n",
    "        \n",
    "        if substring_counter == len(s):  # substring present if counter == len(s)\n",
    "            return True\n",
    "    \n",
    "    return False\n",
    "\n",
    "check_subsequence(s, t)"
   ]
  },
  {
   "cell_type": "code",
   "execution_count": null,
   "metadata": {},
   "outputs": [],
   "source": []
  }
 ],
 "metadata": {
  "kernelspec": {
   "display_name": "Python 3.10.2 64-bit ('learning')",
   "language": "python",
   "name": "python3"
  },
  "language_info": {
   "codemirror_mode": {
    "name": "ipython",
    "version": 3
   },
   "file_extension": ".py",
   "mimetype": "text/x-python",
   "name": "python",
   "nbconvert_exporter": "python",
   "pygments_lexer": "ipython3",
   "version": "3.10.2"
  },
  "orig_nbformat": 4,
  "vscode": {
   "interpreter": {
    "hash": "083c3123b4ad7f25f53c003e80272d3d1894a33e093a79f10823ee80b0414ebd"
   }
  }
 },
 "nbformat": 4,
 "nbformat_minor": 2
}
