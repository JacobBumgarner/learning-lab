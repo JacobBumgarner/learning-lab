{
 "cells": [
  {
   "cell_type": "code",
   "execution_count": 1,
   "metadata": {},
   "outputs": [],
   "source": [
    "import cv2\n",
    "import numpy "
   ]
  },
  {
   "cell_type": "code",
   "execution_count": 2,
   "metadata": {},
   "outputs": [],
   "source": [
    "indices = [ 649,  773, 1728,  159,  393, 1391, 1902,  688]\n",
    "indices.sort()\n",
    "video = \"/Users/jacobbumgarner/Desktop/learning-repo/k_means/label_videos/bees_edges.mp4\""
   ]
  },
  {
   "cell_type": "code",
   "execution_count": 3,
   "metadata": {},
   "outputs": [
    {
     "name": "stdout",
     "output_type": "stream",
     "text": [
      "Reading frame: 2000\r"
     ]
    }
   ],
   "source": [
    "reader = cv2.VideoCapture(video)\n",
    "\n",
    "images = []\n",
    "i = 0\n",
    "while True:\n",
    "    print(f\"Reading frame: {i}\", end=\"\\r\")\n",
    "    ret, frame = reader.read()\n",
    "    if not ret:\n",
    "        break\n",
    "    if i in indices:\n",
    "        images.append(frame)\n",
    "\n",
    "    i += 1"
   ]
  },
  {
   "cell_type": "code",
   "execution_count": 11,
   "metadata": {},
   "outputs": [
    {
     "name": "stdout",
     "output_type": "stream",
     "text": [
      "Saving image: 1902\r"
     ]
    }
   ],
   "source": [
    "save_path = \"/Users/jacobbumgarner/Desktop/learning-repo/local_files/k_means/labeled_bee_images/\"\n",
    "for i, image in enumerate(images):\n",
    "    print(f\"Saving image: {indices[i]}\", end=\"\\r\")\n",
    "    save_name = \"%04d\" % indices[i] + \".png\"\n",
    "    filename = save_path + save_name\n",
    "    \n",
    "    cv2.imwrite(filename, image)\n",
    "    "
   ]
  },
  {
   "cell_type": "code",
   "execution_count": 9,
   "metadata": {},
   "outputs": [
    {
     "name": "stdout",
     "output_type": "stream",
     "text": [
      "Reading frame: 2000\r"
     ]
    }
   ],
   "source": [
    "# write the video with black frames to keep compatibility with SlEAP and allow for an\n",
    "# easy creation of a label video with labels only.\n",
    "\n",
    "from imageio import get_writer\n",
    "reader = cv2.VideoCapture(video)\n",
    "path = \"/Users/jacobbumgarner/Desktop/black_edges.mp4\"\n",
    "writer = get_writer(path, fps=25)\n",
    "images = []\n",
    "i = 0\n",
    "while True:\n",
    "    print(f\"Reading frame: {i}\", end=\"\\r\")\n",
    "    ret, frame = reader.read()\n",
    "    if not ret:\n",
    "        break\n",
    "    frame *= 0\n",
    "    writer.append_data(frame)\n",
    "    \n",
    "    i += 1\n"
   ]
  },
  {
   "cell_type": "code",
   "execution_count": 10,
   "metadata": {},
   "outputs": [],
   "source": [
    "writer.close()"
   ]
  }
 ],
 "metadata": {
  "kernelspec": {
   "display_name": "Python 3.10.2 64-bit ('learning')",
   "language": "python",
   "name": "python3"
  },
  "language_info": {
   "codemirror_mode": {
    "name": "ipython",
    "version": 3
   },
   "file_extension": ".py",
   "mimetype": "text/x-python",
   "name": "python",
   "nbconvert_exporter": "python",
   "pygments_lexer": "ipython3",
   "version": "3.10.2"
  },
  "orig_nbformat": 4,
  "vscode": {
   "interpreter": {
    "hash": "083c3123b4ad7f25f53c003e80272d3d1894a33e093a79f10823ee80b0414ebd"
   }
  }
 },
 "nbformat": 4,
 "nbformat_minor": 2
}
