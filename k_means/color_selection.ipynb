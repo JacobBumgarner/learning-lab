{
 "cells": [
  {
   "cell_type": "markdown",
   "metadata": {},
   "source": [
    "# Color Selection for the K-Means algorithm video"
   ]
  },
  {
   "cell_type": "code",
   "execution_count": 2,
   "metadata": {},
   "outputs": [],
   "source": [
    "import numpy as np\n",
    "import matplotlib.pyplot as plt"
   ]
  },
  {
   "cell_type": "code",
   "execution_count": 3,
   "metadata": {},
   "outputs": [
    {
     "data": {
      "text/plain": [
       "<BarContainer object of 8 artists>"
      ]
     },
     "execution_count": 3,
     "metadata": {},
     "output_type": "execute_result"
    },
    {
     "data": {
      "image/png": "[encoded data removed]",
      "text/plain": [
       "<Figure size 432x288 with 1 Axes>"
      ]
     },
     "metadata": {
      "needs_background": "light"
     },
     "output_type": "display_data"
    }
   ],
   "source": [
    "# Dot colors\n",
    "C1_COLOR = \"#00b4eb\"\n",
    "C2_COLOR = \"#40ff9f\"\n",
    "C3_COLOR = \"#ffa256\"\n",
    "C4_COLOR = \"#ff4d27\"\n",
    "\n",
    "D1_COLOR = \"#75cfeb\"\n",
    "D2_COLOR = \"#bfffdf\"\n",
    "D3_COLOR = \"#ffbe8a\"\n",
    "D4_COLOR = \"#ff8266\"\n",
    "colors = [C1_COLOR, C2_COLOR, C3_COLOR, C4_COLOR, D1_COLOR, D2_COLOR, D3_COLOR, D4_COLOR]\n",
    "\n",
    "plt.bar(np.arange(8), 1, color=colors)"
   ]
  },
  {
   "cell_type": "code",
   "execution_count": null,
   "metadata": {},
   "outputs": [],
   "source": []
  }
 ],
 "metadata": {
  "kernelspec": {
   "display_name": "Python 3.10.2 64-bit ('learning')",
   "language": "python",
   "name": "python3"
  },
  "language_info": {
   "codemirror_mode": {
    "name": "ipython",
    "version": 3
   },
   "file_extension": ".py",
   "mimetype": "text/x-python",
   "name": "python",
   "nbconvert_exporter": "python",
   "pygments_lexer": "ipython3",
   "version": "3.10.2"
  },
  "orig_nbformat": 4,
  "vscode": {
   "interpreter": {
    "hash": "083c3123b4ad7f25f53c003e80272d3d1894a33e093a79f10823ee80b0414ebd"
   }
  }
 },
 "nbformat": 4,
 "nbformat_minor": 2
}
