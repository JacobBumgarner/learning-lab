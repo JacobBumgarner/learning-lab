{
    "cells": [
        {
            "cell_type": "code",
            "execution_count": 3,
            "metadata": {},
            "outputs": [],
            "source": [
                "import matplotlib.pyplot as plt\n",
                "from scipy.spatial import Voronoi\n",
                "import numpy as np",
            ],
        },
        {
            "cell_type": "code",
            "execution_count": 36,
            "metadata": {},
            "outputs": [],
            "source": [
                'colors = ["red", "orange", "blue"]\n',
                "points = np.random.randint(0, 5, (5, 2))\n",
                "\n",
                "edge_points = np.array([[-5, -5], [-5, 5], [5, 5], [5, -5]])\n",
                "points = np.append(points, edge_points, axis=0)\n",
                "vor = Voronoi(points)",
            ],
        },
        {
            "cell_type": "code",
            "execution_count": 48,
            "metadata": {},
            "outputs": [
                {
                    "name": "stdout",
                    "output_type": "stream",
                    "text": [
                        "[[], [1, 0, 2], [1, -1, 0], [0, -1, 2], [1, -1, 2], [-1, 2]]\n"
                    ],
                },
                {
                    "data": {
                        "text/plain": [
                            "<matplotlib.collections.PathCollection at 0x134753820>"
                        ]
                    },
                    "execution_count": 48,
                    "metadata": {},
                    "output_type": "execute_result",
                },
                {
                    "data": {
                        "image/png": "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",
                        "text/plain": ["<Figure size 432x288 with 1 Axes>"],
                    },
                    "metadata": {"needs_background": "light"},
                    "output_type": "display_data",
                },
            ],
            "source": [
                "regions = vor.regions\n",
                "print(regions)\n",
                'plt.scatter(points[:, 0], points[:, 1], c="orange", s=100)\n',
                'plt.scatter(vor.vertices[:, 0], vor.vertices[:, 1], c="blue")\n',
                '# plt.plot(vor.vertices[regions[0], 0], vor.vertices[regions[0], 1], c="b")',
            ],
        },
        {
            "cell_type": "code",
            "execution_count": null,
            "metadata": {},
            "outputs": [],
            "source": [],
        },
    ],
    "metadata": {
        "kernelspec": {
            "display_name": "Python 3.10.2 64-bit ('learning')",
            "language": "python",
            "name": "python3",
        },
        "language_info": {
            "codemirror_mode": {"name": "ipython", "version": 3},
            "file_extension": ".py",
            "mimetype": "text/x-python",
            "name": "python",
            "nbconvert_exporter": "python",
            "pygments_lexer": "ipython3",
            "version": "3.10.2",
        },
        "orig_nbformat": 4,
        "vscode": {
            "interpreter": {
                "hash": "083c3123b4ad7f25f53c003e80272d3d1894a33e093a79f10823ee80b0414ebd"
            }
        },
    },
    "nbformat": 4,
    "nbformat_minor": 2,
}
