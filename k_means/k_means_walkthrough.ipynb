{
 "cells": [
  {
   "cell_type": "code",
   "execution_count": 2,
   "metadata": {},
   "outputs": [],
   "source": [
    "# Dance to import our kmeans model\n",
    "import os\n",
    "import sys\n",
    "module_path = os.path.abspath(os.path.join('.'))\n",
    "sys.path.append(module_path)\n",
    "from k_means import KMeans\n",
    "from voronoi_processing import get_polygons, interpolate_centroid_history"
   ]
  },
  {
   "cell_type": "code",
   "execution_count": 3,
   "metadata": {},
   "outputs": [],
   "source": [
    "import numpy as np\n",
    "import matplotlib.pyplot as plt\n",
    "from celluloid import Camera\n",
    "from scipy.spatial.distance import cdist\n",
    "from sklearn.datasets import make_blobs"
   ]
  },
  {
   "cell_type": "code",
   "execution_count": 9,
   "metadata": {},
   "outputs": [
    {
     "data": {
      "text/plain": [
       "<matplotlib.collections.PathCollection at 0x13aef8a30>"
      ]
     },
     "execution_count": 9,
     "metadata": {},
     "output_type": "execute_result"
    },
    {
     "data": {
      "image/png": "[encoded data removed]",
      "text/plain": [
       "<Figure size 432x288 with 1 Axes>"
      ]
     },
     "metadata": {
      "needs_background": "light"
     },
     "output_type": "display_data"
    }
   ],
   "source": [
    "# data, _ = make_blobs(60, cluster_std=[0.3, 0.4, 0.4, 0.3], center_box=[0.5, 4.5], \n",
    "#                      centers=[[1.3, 1.2], [1.8, 3.4], [3.4, 4], [3.8, 1.8]])\n",
    "data = np.load(\"data/synth_data.npy\")\n",
    "\n",
    "plt.xlim(0, 5)\n",
    "plt.ylim(0, 5)\n",
    "plt.scatter(data[:, 0], data[:, 1])"
   ]
  },
  {
   "cell_type": "code",
   "execution_count": 10,
   "metadata": {},
   "outputs": [],
   "source": [
    "# centroid_original = KMeans(4, centroid_init=\"kmeans++\", verbose=True)\n",
    "# centroid_original.fit(data)\n",
    "# centroid_history = interpolate_centroid_history(centroid_original.centroid_history, 70, 2)\n",
    "\n",
    "centroid_history = np.load(\"data/centroid_history1.npy\")"
   ]
  },
  {
   "cell_type": "code",
   "execution_count": null,
   "metadata": {},
   "outputs": [],
   "source": [
    "cmap = plt.get_cmap(\"jet\")\n",
    "colors = [\n",
    "    cmap(0.25),\n",
    "    cmap(0.45),\n",
    "    cmap(0.75),\n",
    "    cmap(0.9),\n",
    "]\n",
    "\n",
    "fig = plt.figure()\n",
    "plt.xlim(0, 5)\n",
    "plt.ylim(0, 5)\n",
    "camera = Camera(fig)\n",
    "for i in range(len(centroid_history)):\n",
    "# for i in range(1):\n",
    "    polygons = get_polygons(centroid_history[i], [0, 5], [0, 5])\n",
    "    labels = centroid_original._get_labels(data, centroid_history[i])\n",
    "    for j, p in enumerate(polygons):\n",
    "        \n",
    "        color = colors[j]\n",
    "        \n",
    "        plt.scatter(data[labels==j, 0], data[labels==j, 1], color=color, s=15)\n",
    "        plt.fill(p[:, 0], p[:, 1], c=color, alpha=0.5, edgecolor=\"black\")\n",
    "        plt.scatter(centroid_history[i][j, 0], centroid_history[i][j, 1], s=60, color=color, edgecolor=\"black\")\n",
    "        \n",
    "    camera.snap()\n",
    "\n",
    "animation = camera.animate()\n",
    "animation.save(\"/Users/jacobbumgarner/Desktop/b.mp4\", fps=30, dpi=150,\n",
    "               progress_callback=lambda x, _: print(f\"`Frame: {x}/{len(centroid_history)}\", end=\"\\r\"))"
   ]
  },
  {
   "cell_type": "code",
   "execution_count": null,
   "metadata": {},
   "outputs": [],
   "source": [
    "np.save(\"data/synth_data.npy\", data)\n",
    "np.save(\"data/centroid_history2.npy\", centroid_history)"
   ]
  },
  {
   "cell_type": "markdown",
   "metadata": {},
   "source": [
    "### Cumulative Distribution Function\n",
    "In the cells below, I visualize the random selection of a value from a probability\n",
    "distribution using the cumulative distribution function.\n",
    "\n",
    "This a highly simply yet beautiful function!"
   ]
  },
  {
   "cell_type": "code",
   "execution_count": 11,
   "metadata": {},
   "outputs": [
    {
     "data": {
      "text/plain": [
       "<BarContainer object of 60 artists>"
      ]
     },
     "execution_count": 11,
     "metadata": {},
     "output_type": "execute_result"
    },
    {
     "data": {
      "image/png": "[encoded data removed]",
      "text/plain": [
       "<Figure size 432x288 with 1 Axes>"
      ]
     },
     "metadata": {
      "needs_background": "light"
     },
     "output_type": "display_data"
    }
   ],
   "source": [
    "\n",
    "lengths = cdist([centroid_history[0, 0]], data)[0]\n",
    "lengths /= lengths.sum()\n",
    "plt.bar(np.arange(lengths.shape[0]), lengths)"
   ]
  },
  {
   "cell_type": "code",
   "execution_count": 12,
   "metadata": {},
   "outputs": [
    {
     "name": "stdout",
     "output_type": "stream",
     "text": [
      "0.20947541670770375\n"
     ]
    },
    {
     "data": {
      "text/plain": [
       "<BarContainer object of 1 artists>"
      ]
     },
     "execution_count": 12,
     "metadata": {},
     "output_type": "execute_result"
    },
    {
     "data": {
      "image/png": "[encoded data removed]",
      "text/plain": [
       "<Figure size 432x288 with 1 Axes>"
      ]
     },
     "metadata": {
      "needs_background": "light"
     },
     "output_type": "display_data"
    }
   ],
   "source": [
    "selection = lengths.cumsum()\n",
    "selection /= selection[-1]\n",
    "plt.bar(np.arange(selection.shape[0]), selection)\n",
    "sample = np.random.random_sample()\n",
    "print(sample)\n",
    "idx = selection.searchsorted(sample, side=\"right\")\n",
    "plt.bar(idx, selection[idx])"
   ]
  },
  {
   "cell_type": "code",
   "execution_count": 13,
   "metadata": {},
   "outputs": [
    {
     "data": {
      "text/plain": [
       "<BarContainer object of 1 artists>"
      ]
     },
     "execution_count": 13,
     "metadata": {},
     "output_type": "execute_result"
    },
    {
     "data": {
      "image/png": "[encoded data removed]",
      "text/plain": [
       "<Figure size 432x288 with 1 Axes>"
      ]
     },
     "metadata": {
      "needs_background": "light"
     },
     "output_type": "display_data"
    }
   ],
   "source": [
    "lengths = cdist([centroid_history[0, 0]], data)[0]\n",
    "lengths /= lengths.sum()\n",
    "plt.bar(np.arange(lengths.shape[0]), lengths)\n",
    "plt.bar(idx, lengths[idx])"
   ]
  },
  {
   "cell_type": "markdown",
   "metadata": {},
   "source": [
    "### Bee K-Means centroid history interpolation for manim"
   ]
  },
  {
   "cell_type": "code",
   "execution_count": 20,
   "metadata": {},
   "outputs": [],
   "source": [
    "bee_history = np.load(\"label_videos/centroid_history.npy\")\n",
    "interpolated_history = interpolate_centroid_history(bee_history, 9*30)  # 1s per step\n",
    "np.save(\"label_videos/interpolated_centroid_history.npy\", interpolated_history)"
   ]
  },
  {
   "cell_type": "code",
   "execution_count": 22,
   "metadata": {},
   "outputs": [
    {
     "name": "stdout",
     "output_type": "stream",
     "text": [
      "8\n"
     ]
    }
   ],
   "source": [
    "print(interpolated_history.shape[1])"
   ]
  }
 ],
 "metadata": {
  "kernelspec": {
   "display_name": "Python 3.10.2 64-bit ('learning')",
   "language": "python",
   "name": "python3"
  },
  "language_info": {
   "codemirror_mode": {
    "name": "ipython",
    "version": 3
   },
   "file_extension": ".py",
   "mimetype": "text/x-python",
   "name": "python",
   "nbconvert_exporter": "python",
   "pygments_lexer": "ipython3",
   "version": "3.10.2"
  },
  "orig_nbformat": 4,
  "vscode": {
   "interpreter": {
    "hash": "083c3123b4ad7f25f53c003e80272d3d1894a33e093a79f10823ee80b0414ebd"
   }
  }
 },
 "nbformat": 4,
 "nbformat_minor": 2
}
