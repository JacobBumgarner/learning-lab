{
 "cells": [
  {
   "cell_type": "code",
   "execution_count": 1,
   "metadata": {},
   "outputs": [],
   "source": [
    "# Dance to import our logit model\n",
    "import os\n",
    "import sys\n",
    "module_path = os.path.abspath(os.path.join('.'))\n",
    "sys.path.append(module_path)\n",
    "from k_means import k_means, get_labels\n",
    "from voronoi_processing import get_polygons, interpolate_centroid_history"
   ]
  },
  {
   "cell_type": "code",
   "execution_count": 2,
   "metadata": {},
   "outputs": [],
   "source": [
    "import numpy as np\n",
    "import matplotlib.pyplot as plt\n",
    "from celluloid import Camera"
   ]
  },
  {
   "cell_type": "code",
   "execution_count": 3,
   "metadata": {},
   "outputs": [],
   "source": [
    "def generate_data(\n",
    "    n_clusters=3, \n",
    "    cluster_spread=1.0, \n",
    "    cluster_size=15,\n",
    "    cluster_size_spread=5,\n",
    "    x_range=[0, 5], \n",
    "    y_range=[0, 5]\n",
    "):\n",
    "    data = []\n",
    "    \n",
    "    axes_ranges = np.array([x_range, y_range])\n",
    "    ranges = np.abs(np.diff(axes_ranges, axis=1)).reshape(2,)\n",
    "\n",
    "    cluster_centers = np.random.rand(n_clusters, 2)\n",
    "    cluster_centers = (cluster_centers * ranges) + axes_ranges[:, 0].reshape(2,)\n",
    "    \n",
    "    choice_array =  np.arange(-cluster_size_spread, cluster_size_spread+1, 1)\n",
    "    cluster_sizes = [\n",
    "        cluster_size + np.random.choice(choice_array)\n",
    "        for i in range(n_clusters)\n",
    "    ]\n",
    "    \n",
    "    for i in range(len(cluster_sizes)):\n",
    "        cluster = np.random.uniform(-cluster_spread, cluster_spread, (cluster_sizes[i], 2))\n",
    "        \n",
    "        cluster += cluster_centers[i, :]\n",
    "        data.append(cluster)\n",
    "        \n",
    "    data = np.vstack(data)\n",
    "    return data"
   ]
  },
  {
   "cell_type": "code",
   "execution_count": 4,
   "metadata": {},
   "outputs": [],
   "source": [
    "# data = generate_data(4, cluster_spread=0.5, cluster_size=15, x_range=[0.5, 4.5], y_range=[0.5, 4.5])\n",
    "data = np.load(\"data/synth_data.npy\")"
   ]
  },
  {
   "cell_type": "code",
   "execution_count": 5,
   "metadata": {},
   "outputs": [
    {
     "data": {
      "text/plain": [
       "<matplotlib.collections.PathCollection at 0x1146088e0>"
      ]
     },
     "execution_count": 5,
     "metadata": {},
     "output_type": "execute_result"
    },
    {
     "data": {
      "image/png": "[encoded data removed]",
      "text/plain": [
       "<Figure size 432x288 with 1 Axes>"
      ]
     },
     "metadata": {
      "needs_background": "light"
     },
     "output_type": "display_data"
    }
   ],
   "source": [
    "plt.xlim(0, 5)\n",
    "plt.ylim(0,5)\n",
    "plt.scatter(data[:, 0], data[:, 1])"
   ]
  },
  {
   "cell_type": "code",
   "execution_count": 10,
   "metadata": {},
   "outputs": [
    {
     "name": "stdout",
     "output_type": "stream",
     "text": [
      "Iteration: 0\n",
      "Iteration: 1\n",
      "Iteration: 2\n",
      "Iteration: 3\n",
      "Iteration: 4\n"
     ]
    }
   ],
   "source": [
    "centroid_original = k_means(data, 4, verbose=True)"
   ]
  },
  {
   "cell_type": "code",
   "execution_count": 13,
   "metadata": {},
   "outputs": [],
   "source": [
    "centroid_history = interpolate_centroid_history(centroid_original, 150, 2)"
   ]
  },
  {
   "cell_type": "code",
   "execution_count": 14,
   "metadata": {},
   "outputs": [
    {
     "name": "stdout",
     "output_type": "stream",
     "text": [
      "Frame: 159/160\r"
     ]
    },
    {
     "data": {
      "image/png": "[encoded data removed]",
      "text/plain": [
       "<Figure size 432x288 with 1 Axes>"
      ]
     },
     "metadata": {
      "needs_background": "light"
     },
     "output_type": "display_data"
    }
   ],
   "source": [
    "color_palette = plt.get_cmap(\"jet\")\n",
    "\n",
    "fig = plt.figure()\n",
    "plt.xlim(0, 5)\n",
    "plt.ylim(0, 5)\n",
    "camera = Camera(fig)\n",
    "for i in range(len(centroid_history)):\n",
    "# for i in range(1):\n",
    "    polygons = get_polygons(centroid_history[i], [0, 5], [0, 5])\n",
    "    labels = get_labels(data, centroid_history[i])\n",
    "    for j, p in enumerate(polygons):\n",
    "        \n",
    "        \n",
    "        color = color_palette(j/centroid_history[i].shape[0])\n",
    "        \n",
    "        plt.scatter(data[labels==j, 0], data[labels==j, 1], color=color, s=15)\n",
    "        plt.fill(p[:, 0], p[:, 1], c=color, alpha=0.5, edgecolor=\"black\")\n",
    "        plt.scatter(centroid_history[i][j, 0], centroid_history[i][j, 1], s=50, color=color, edgecolor=\"black\")\n",
    "        \n",
    "    camera.snap()\n",
    "\n",
    "animation = camera.animate()\n",
    "animation.save(\"/Users/jacobbumgarner/Desktop/b.mp4\", fps=30, dpi=150,\n",
    "               progress_callback=lambda x, _: print(f\"Frame: {x}/{len(centroid_history)}\", end=\"\\r\"))"
   ]
  }
 ],
 "metadata": {
  "kernelspec": {
   "display_name": "Python 3.10.2 64-bit ('learning')",
   "language": "python",
   "name": "python3"
  },
  "language_info": {
   "codemirror_mode": {
    "name": "ipython",
    "version": 3
   },
   "file_extension": ".py",
   "mimetype": "text/x-python",
   "name": "python",
   "nbconvert_exporter": "python",
   "pygments_lexer": "ipython3",
   "version": "3.10.2"
  },
  "orig_nbformat": 4,
  "vscode": {
   "interpreter": {
    "hash": "083c3123b4ad7f25f53c003e80272d3d1894a33e093a79f10823ee80b0414ebd"
   }
  }
 },
 "nbformat": 4,
 "nbformat_minor": 2
}
