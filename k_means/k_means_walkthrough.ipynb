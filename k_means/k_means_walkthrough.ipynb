{
 "cells": [
  {
   "cell_type": "code",
   "execution_count": 72,
   "metadata": {},
   "outputs": [],
   "source": [
    "# Dance to import our logit model\n",
    "import os\n",
    "import sys\n",
    "module_path = os.path.abspath(os.path.join('.'))\n",
    "sys.path.append(module_path)\n",
    "from k_means import k_means, get_labels\n",
    "from voronoi_processing import get_polygons, interpolate_centroid_history"
   ]
  },
  {
   "cell_type": "code",
   "execution_count": 73,
   "metadata": {},
   "outputs": [],
   "source": [
    "import numpy as np\n",
    "import matplotlib.pyplot as plt\n",
    "from celluloid import Camera\n",
    "from scipy.spatial.distance import cdist\n",
    "from sklearn.datasets import make_blobs"
   ]
  },
  {
   "cell_type": "code",
   "execution_count": 3,
   "metadata": {},
   "outputs": [],
   "source": [
    "def generate_data(\n",
    "    n_clusters=3, \n",
    "    cluster_spread=1.0, \n",
    "    cluster_size=15,\n",
    "    cluster_size_spread=5,\n",
    "    x_range=[0, 5], \n",
    "    y_range=[0, 5]\n",
    "):\n",
    "    data = []\n",
    "    \n",
    "    axes_ranges = np.array([x_range, y_range])\n",
    "    ranges = np.abs(np.diff(axes_ranges, axis=1)).reshape(2,)\n",
    "\n",
    "    cluster_centers = np.random.rand(n_clusters, 2)\n",
    "    cluster_centers = (cluster_centers * ranges) + axes_ranges[:, 0].reshape(2,)\n",
    "    \n",
    "    choice_array =  np.arange(-cluster_size_spread, cluster_size_spread+1, 1)\n",
    "    cluster_sizes = [\n",
    "        cluster_size + np.random.choice(choice_array)\n",
    "        for i in range(n_clusters)\n",
    "    ]\n",
    "    \n",
    "    for i in range(len(cluster_sizes)):\n",
    "        cluster = np.random.uniform(-cluster_spread, cluster_spread, (cluster_sizes[i], 2))\n",
    "        \n",
    "        cluster += cluster_centers[i, :]\n",
    "        data.append(cluster)\n",
    "        \n",
    "    data = np.vstack(data)\n",
    "    return data"
   ]
  },
  {
   "cell_type": "code",
   "execution_count": 4,
   "metadata": {},
   "outputs": [],
   "source": [
    "# data = generate_data(4, cluster_spread=0.5, cluster_size=15, x_range=[0.5, 4.5], y_range=[0.5, 4.5])\n",
    "data = np.load(\"data/synth_data.npy\")"
   ]
  },
  {
   "cell_type": "code",
   "execution_count": 5,
   "metadata": {},
   "outputs": [
    {
     "data": {
      "text/plain": [
       "<matplotlib.collections.PathCollection at 0x1146088e0>"
      ]
     },
     "execution_count": 5,
     "metadata": {},
     "output_type": "execute_result"
    },
    {
     "data": {
      "image/png": "[encoded data removed]",
      "text/plain": [
       "<Figure size 432x288 with 1 Axes>"
      ]
     },
     "metadata": {
      "needs_background": "light"
     },
     "output_type": "display_data"
    }
   ],
   "source": [
    "plt.xlim(0, 5)\n",
    "plt.ylim(0,5)\n",
    "plt.scatter(data[:, 0], data[:, 1])"
   ]
  },
  {
   "cell_type": "code",
   "execution_count": 16,
   "metadata": {},
   "outputs": [
    {
     "name": "stdout",
     "output_type": "stream",
     "text": [
      "Iteration: 0\n",
      "Iteration: 1\n",
      "Iteration: 2\n",
      "Iteration: 3\n",
      "Iteration: 4\n",
      "Iteration: 5\n",
      "Iteration: 6\n",
      "Iteration: 7\n"
     ]
    }
   ],
   "source": [
    "centroid_original = k_means(data, 4, verbose=True)"
   ]
  },
  {
   "cell_type": "code",
   "execution_count": 17,
   "metadata": {},
   "outputs": [],
   "source": [
    "centroid_history = interpolate_centroid_history(centroid_original, 150, 2)"
   ]
  },
  {
   "cell_type": "code",
   "execution_count": 18,
   "metadata": {},
   "outputs": [
    {
     "name": "stdout",
     "output_type": "stream",
     "text": [
      "Frame: 165/166\r"
     ]
    },
    {
     "data": {
      "image/png": "[encoded data removed]",
      "text/plain": [
       "<Figure size 432x288 with 1 Axes>"
      ]
     },
     "metadata": {
      "needs_background": "light"
     },
     "output_type": "display_data"
    }
   ],
   "source": [
    "color_palette = plt.get_cmap(\"jet\")\n",
    "\n",
    "fig = plt.figure()\n",
    "plt.xlim(0, 5)\n",
    "plt.ylim(0, 5)\n",
    "camera = Camera(fig)\n",
    "for i in range(len(centroid_history)):\n",
    "# for i in range(1):\n",
    "    polygons = get_polygons(centroid_history[i], [0, 5], [0, 5])\n",
    "    labels = get_labels(data, centroid_history[i])\n",
    "    for j, p in enumerate(polygons):\n",
    "        \n",
    "        \n",
    "        color = color_palette(j/centroid_history[i].shape[0])\n",
    "        \n",
    "        plt.scatter(data[labels==j, 0], data[labels==j, 1], color=color, s=15)\n",
    "        plt.fill(p[:, 0], p[:, 1], c=color, alpha=0.5, edgecolor=\"black\")\n",
    "        plt.scatter(centroid_history[i][j, 0], centroid_history[i][j, 1], s=60, color=color, edgecolor=\"black\")\n",
    "        \n",
    "    camera.snap()\n",
    "\n",
    "animation = camera.animate()\n",
    "animation.save(\"/Users/jacobbumgarner/Desktop/b.mp4\", fps=30, dpi=150,\n",
    "               progress_callback=lambda x, _: print(f\"`Frame: {x}/{len(centroid_history)}\", end=\"\\r\"))"
   ]
  },
  {
   "cell_type": "code",
   "execution_count": 22,
   "metadata": {},
   "outputs": [],
   "source": [
    "np.save(\"centroid_history.npy\", centroid_history)"
   ]
  },
  {
   "cell_type": "code",
   "execution_count": 29,
   "metadata": {},
   "outputs": [
    {
     "data": {
      "text/plain": [
       "(10, 3)"
      ]
     },
     "execution_count": 29,
     "metadata": {},
     "output_type": "execute_result"
    }
   ],
   "source": [
    "x = np.ones((10, 2))\n",
    "y = np.ones((3, 2))\n",
    "\n",
    "a = x.dot(y.T) - np.einsum(\"ij, ij->i\", y, y)"
   ]
  },
  {
   "cell_type": "code",
   "execution_count": 230,
   "metadata": {},
   "outputs": [
    {
     "data": {
      "text/plain": [
       "<matplotlib.collections.PathCollection at 0x138eb22c0>"
      ]
     },
     "execution_count": 230,
     "metadata": {},
     "output_type": "execute_result"
    },
    {
     "data": {
      "image/png": "[encoded data removed]",
      "text/plain": [
       "<Figure size 432x288 with 1 Axes>"
      ]
     },
     "metadata": {
      "needs_background": "light"
     },
     "output_type": "display_data"
    }
   ],
   "source": [
    "def plusplus_centroid_init(input_data, n_clusters):\n",
    "    centroids = []\n",
    "    centroid_rows = []\n",
    "    \n",
    "    # randomly select first centroid\n",
    "    centroid_rows.append(np.random.choice(input_data.shape[0]))\n",
    "    centroids.append(input_data[centroid_rows[0]])\n",
    "    \n",
    "    # Select other centroids\n",
    "    for i in range(1, n_clusters):\n",
    "        # compute squared l2 of input_data to all centroids\n",
    "        distances = cdist(input_data, np.asarray(centroids), 'sqeuclidean')\n",
    "        \n",
    "        # get min distance for the centroids\n",
    "        distances = distances.min(axis=1)\n",
    "\n",
    "        # create probability distribution\n",
    "        prob_distribution = distances / distances.sum()\n",
    "        while True:\n",
    "            # select a new centroid randomly based on the generated prob dist.\n",
    "            row = np.random.choice(input_data.shape[0], p=prob_distribution)\n",
    "            if row not in centroid_rows:  # don't reuse centroids\n",
    "                centroids.append(input_data[row])\n",
    "                centroid_rows.append(row)\n",
    "            break\n",
    "\n",
    "    return np.asarray(centroids)\n",
    "    \n",
    "test_data, _ = make_blobs(50, n_features=2, centers=4, cluster_std=0.3, center_box=[0.5, 4.5])\n",
    "test_plus = plusplus_centroid_init(test_data, 4)\n",
    "\n",
    "plt.scatter(test_data[:, 0], test_data[:, 1])\n",
    "plt.scatter(test_plus[:, 0], test_plus[:, 1], color=\"red\")"
   ]
  }
 ],
 "metadata": {
  "kernelspec": {
   "display_name": "Python 3.10.2 64-bit ('learning')",
   "language": "python",
   "name": "python3"
  },
  "language_info": {
   "codemirror_mode": {
    "name": "ipython",
    "version": 3
   },
   "file_extension": ".py",
   "mimetype": "text/x-python",
   "name": "python",
   "nbconvert_exporter": "python",
   "pygments_lexer": "ipython3",
   "version": "3.10.2"
  },
  "orig_nbformat": 4,
  "vscode": {
   "interpreter": {
    "hash": "083c3123b4ad7f25f53c003e80272d3d1894a33e093a79f10823ee80b0414ebd"
   }
  }
 },
 "nbformat": 4,
 "nbformat_minor": 2
}
