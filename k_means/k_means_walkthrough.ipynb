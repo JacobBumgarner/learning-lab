{
 "cells": [
  {
   "cell_type": "code",
   "execution_count": 1,
   "metadata": {},
   "outputs": [],
   "source": [
    "# Dance to import our logit model\n",
    "import os\n",
    "import sys\n",
    "module_path = os.path.abspath(os.path.join('.'))\n",
    "sys.path.append(module_path)\n",
    "from k_means import k_means, get_labels"
   ]
  },
  {
   "cell_type": "code",
   "execution_count": 2,
   "metadata": {},
   "outputs": [],
   "source": [
    "import numpy as np\n",
    "import matplotlib.pyplot as plt"
   ]
  },
  {
   "cell_type": "code",
   "execution_count": 68,
   "metadata": {},
   "outputs": [],
   "source": [
    "n_clusters = 3\n",
    "# input_data = np.random.rand(200, 2) * 10\n",
    "\n",
    "seeds = 3\n",
    "max_cluster_points = 25\n",
    "seed_points = np.random.rand(seeds, 2) * 10\n",
    "input_data = []\n",
    "for i in range(seeds):\n",
    "    data = np.random.uniform(-1, 1, (max_cluster_points, 2)) + seed_points[i]\n",
    "    input_data.append(data)\n",
    "\n",
    "input_data = np.vstack(input_data)\n",
    "\n"
   ]
  },
  {
   "cell_type": "code",
   "execution_count": 85,
   "metadata": {},
   "outputs": [
    {
     "data": {
      "image/png": "[encoded data removed]",
      "text/plain": [
       "<Figure size 432x288 with 1 Axes>"
      ]
     },
     "metadata": {
      "needs_background": "light"
     },
     "output_type": "display_data"
    }
   ],
   "source": [
    "centroids = k_means(input_data, n_clusters)\n",
    "cluster_colors = [\"red\", \"orange\", \"blue\"]\n",
    "cluster_family = get_labels(input_data, centroids)\n",
    "\n",
    "for i in range(n_clusters):\n",
    "    plt.plot(centroids[i, 0], centroids[i, 1], marker=\"o\", c=cluster_colors[i], markeredgecolor=\"black\", markersize=8)\n",
    "    plt.scatter(input_data[cluster_family==i, 0], input_data[cluster_family==i, 1], marker=\"o\", c=cluster_colors[i], s=8)"
   ]
  },
  {
   "cell_type": "markdown",
   "metadata": {},
   "source": [
    "Resources:\n",
    "https://stanford.edu/~cpiech/cs221/handouts/kmeans.html"
   ]
  }
 ],
 "metadata": {
  "kernelspec": {
   "display_name": "Python 3.10.2 64-bit ('learning')",
   "language": "python",
   "name": "python3"
  },
  "language_info": {
   "codemirror_mode": {
    "name": "ipython",
    "version": 3
   },
   "file_extension": ".py",
   "mimetype": "text/x-python",
   "name": "python",
   "nbconvert_exporter": "python",
   "pygments_lexer": "ipython3",
   "version": "3.10.2"
  },
  "orig_nbformat": 4,
  "vscode": {
   "interpreter": {
    "hash": "083c3123b4ad7f25f53c003e80272d3d1894a33e093a79f10823ee80b0414ebd"
   }
  }
 },
 "nbformat": 4,
 "nbformat_minor": 2
}
