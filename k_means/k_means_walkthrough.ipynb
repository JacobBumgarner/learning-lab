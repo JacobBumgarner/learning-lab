{
 "cells": [
  {
   "cell_type": "code",
   "execution_count": 1,
   "metadata": {},
   "outputs": [],
   "source": [
    "# Dance to import our logit model\n",
    "import os\n",
    "import sys\n",
    "module_path = os.path.abspath(os.path.join('.'))\n",
    "sys.path.append(module_path)\n",
    "from k_means import KMeans\n",
    "from voronoi_processing import get_polygons, interpolate_centroid_history"
   ]
  },
  {
   "cell_type": "code",
   "execution_count": 2,
   "metadata": {},
   "outputs": [],
   "source": [
    "import numpy as np\n",
    "import matplotlib.pyplot as plt\n",
    "from celluloid import Camera\n",
    "from scipy.spatial.distance import cdist\n",
    "from sklearn.datasets import make_blobs"
   ]
  },
  {
   "cell_type": "code",
   "execution_count": 4,
   "metadata": {},
   "outputs": [
    {
     "data": {
      "text/plain": [
       "<matplotlib.collections.PathCollection at 0x13205a4a0>"
      ]
     },
     "execution_count": 4,
     "metadata": {},
     "output_type": "execute_result"
    },
    {
     "data": {
      "image/png": "[encoded data removed]",
      "text/plain": [
       "<Figure size 432x288 with 1 Axes>"
      ]
     },
     "metadata": {
      "needs_background": "light"
     },
     "output_type": "display_data"
    }
   ],
   "source": [
    "# data, _ = make_blobs(60, cluster_std=[0.3, 0.4, 0.4, 0.3], center_box=[0.5, 4.5], \n",
    "#                      centers=[[1.3, 1.2], [1.8, 3.4], [3.4, 4], [3.8, 1.8]])\n",
    "data = np.load(\"data/synth_data.npy\")\n",
    "\n",
    "plt.xlim(0, 5)\n",
    "plt.ylim(0, 5)\n",
    "plt.scatter(data[:, 0], data[:, 1])"
   ]
  },
  {
   "cell_type": "code",
   "execution_count": 6,
   "metadata": {},
   "outputs": [
    {
     "name": "stdout",
     "output_type": "stream",
     "text": [
      "Iteration: 0\n",
      "Iteration: 1\n",
      "Iteration: 2\n"
     ]
    }
   ],
   "source": [
    "centroid_original = KMeans(4, centroid_init=\"kmeans++\", verbose=True)\n",
    "centroid_original.fit(data)\n",
    "centroid_history = interpolate_centroid_history(centroid_original.centroid_history, 70, 2)"
   ]
  },
  {
   "cell_type": "code",
   "execution_count": 5,
   "metadata": {},
   "outputs": [],
   "source": [
    "\n",
    "centroid_history = np.load(\"data/centroid_history1.npy\")\n"
   ]
  },
  {
   "cell_type": "code",
   "execution_count": null,
   "metadata": {},
   "outputs": [],
   "source": [
    "cmap = plt.get_cmap(\"jet\")\n",
    "colors = [\n",
    "    cmap(0.25),\n",
    "    cmap(0.45),\n",
    "    cmap(0.75),\n",
    "    cmap(0.9),\n",
    "]\n",
    "\n",
    "fig = plt.figure()\n",
    "plt.xlim(0, 5)\n",
    "plt.ylim(0, 5)\n",
    "camera = Camera(fig)\n",
    "for i in range(len(centroid_history)):\n",
    "# for i in range(1):\n",
    "    polygons = get_polygons(centroid_history[i], [0, 5], [0, 5])\n",
    "    labels = centroid_original._get_labels(data, centroid_history[i])\n",
    "    for j, p in enumerate(polygons):\n",
    "        \n",
    "        color = colors[j]\n",
    "        \n",
    "        plt.scatter(data[labels==j, 0], data[labels==j, 1], color=color, s=15)\n",
    "        plt.fill(p[:, 0], p[:, 1], c=color, alpha=0.5, edgecolor=\"black\")\n",
    "        plt.scatter(centroid_history[i][j, 0], centroid_history[i][j, 1], s=60, color=color, edgecolor=\"black\")\n",
    "        \n",
    "    camera.snap()\n",
    "\n",
    "animation = camera.animate()\n",
    "animation.save(\"/Users/jacobbumgarner/Desktop/b.mp4\", fps=30, dpi=150,\n",
    "               progress_callback=lambda x, _: print(f\"`Frame: {x}/{len(centroid_history)}\", end=\"\\r\"))"
   ]
  },
  {
   "cell_type": "code",
   "execution_count": null,
   "metadata": {},
   "outputs": [],
   "source": [
    "np.save(\"data/synth_data.npy\", data)\n",
    "np.save(\"data/centroid_history2.npy\", centroid_history)"
   ]
  },
  {
   "cell_type": "code",
   "execution_count": null,
   "metadata": {},
   "outputs": [],
   "source": [
    "cmap = plt.get_cmap(\"rainbow\")\n",
    "colors = [\n",
    "    cmap(0.25),\n",
    "    cmap(0.48),\n",
    "    cmap(0.78),\n",
    "    cmap(0.9),\n",
    "]\n",
    "\n",
    "for c in colors:\n",
    "    color = (np.array(c[:3]) * 255).astype(np.uint8)\n",
    "    color = tuple(color)\n",
    "    print(\"#%02x%02x%02x\" % color)\n",
    "\n",
    "plt.bar(np.arange(4), np.ones(4), color=colors)"
   ]
  },
  {
   "cell_type": "code",
   "execution_count": 191,
   "metadata": {},
   "outputs": [
    {
     "data": {
      "text/plain": [
       "<BarContainer object of 60 artists>"
      ]
     },
     "execution_count": 191,
     "metadata": {},
     "output_type": "execute_result"
    },
    {
     "data": {
      "image/png": "[encoded data removed]",
      "text/plain": [
       "<Figure size 432x288 with 1 Axes>"
      ]
     },
     "metadata": {
      "needs_background": "light"
     },
     "output_type": "display_data"
    }
   ],
   "source": [
    "\n",
    "lengths = cdist([centroid_history[0, 0]], data)[0]\n",
    "lengths /= lengths.sum()\n",
    "plt.bar(np.arange(lengths.shape[0]), lengths)"
   ]
  },
  {
   "cell_type": "code",
   "execution_count": 237,
   "metadata": {},
   "outputs": [
    {
     "name": "stdout",
     "output_type": "stream",
     "text": [
      "0.980681939468089\n"
     ]
    },
    {
     "data": {
      "text/plain": [
       "<BarContainer object of 1 artists>"
      ]
     },
     "execution_count": 237,
     "metadata": {},
     "output_type": "execute_result"
    },
    {
     "data": {
      "image/png": "[encoded data removed]",
      "text/plain": [
       "<Figure size 432x288 with 1 Axes>"
      ]
     },
     "metadata": {
      "needs_background": "light"
     },
     "output_type": "display_data"
    }
   ],
   "source": [
    "selection = lengths.cumsum()\n",
    "selection /= selection[-1]\n",
    "plt.bar(np.arange(selection.shape[0]), selection)\n",
    "sample = np.random.random_sample()\n",
    "print(sample)\n",
    "idx = selection.searchsorted(sample, side=\"right\")\n",
    "plt.bar(idx, selection[idx])"
   ]
  },
  {
   "cell_type": "code",
   "execution_count": 238,
   "metadata": {},
   "outputs": [
    {
     "data": {
      "text/plain": [
       "<BarContainer object of 1 artists>"
      ]
     },
     "execution_count": 238,
     "metadata": {},
     "output_type": "execute_result"
    },
    {
     "data": {
      "image/png": "[encoded data removed]",
      "text/plain": [
       "<Figure size 432x288 with 1 Axes>"
      ]
     },
     "metadata": {
      "needs_background": "light"
     },
     "output_type": "display_data"
    }
   ],
   "source": [
    "lengths = cdist([centroid_history[0, 0]], data)[0]\n",
    "lengths /= lengths.sum()\n",
    "plt.bar(np.arange(lengths.shape[0]), lengths)\n",
    "plt.bar(idx, lengths[idx])"
   ]
  },
  {
   "cell_type": "code",
   "execution_count": 225,
   "metadata": {},
   "outputs": [],
   "source": [
    "combined = np.insert(lengths / lengths.max(), np.arange(selection.shape[0]), selection)"
   ]
  },
  {
   "cell_type": "code",
   "execution_count": 230,
   "metadata": {},
   "outputs": [
    {
     "data": {
      "text/plain": [
       "<BarContainer object of 120 artists>"
      ]
     },
     "execution_count": 230,
     "metadata": {},
     "output_type": "execute_result"
    },
    {
     "data": {
      "image/png": "[encoded data removed]",
      "text/plain": [
       "<Figure size 432x288 with 1 Axes>"
      ]
     },
     "metadata": {
      "needs_background": "light"
     },
     "output_type": "display_data"
    }
   ],
   "source": [
    "plt.bar(np.arange(combined.shape[0]), combined, width=0.5)"
   ]
  },
  {
   "cell_type": "code",
   "execution_count": 10,
   "metadata": {},
   "outputs": [
    {
     "data": {
      "text/plain": [
       "array([4.00194113, 1.70542621])"
      ]
     },
     "execution_count": 10,
     "metadata": {},
     "output_type": "execute_result"
    }
   ],
   "source": [
    "import numpy as np\n",
    "\n",
    "history = np.load(\"data/centroid_history2.npy\")\n",
    "history.shape\n",
    "\n",
    "# history = np.pad(history, ((0, 1), (0, 0)))\n",
    "history[0, 1]"
   ]
  },
  {
   "cell_type": "code",
   "execution_count": 13,
   "metadata": {},
   "outputs": [
    {
     "data": {
      "text/plain": [
       "<BarContainer object of 8 artists>"
      ]
     },
     "execution_count": 13,
     "metadata": {},
     "output_type": "execute_result"
    },
    {
     "data": {
      "image/png": "[encoded data removed]",
      "text/plain": [
       "<Figure size 432x288 with 1 Axes>"
      ]
     },
     "metadata": {
      "needs_background": "light"
     },
     "output_type": "display_data"
    }
   ],
   "source": [
    "# Dot colors\n",
    "C1_COLOR = \"#00b4eb\"\n",
    "C2_COLOR = \"#74feba\"\n",
    "C3_COLOR = \"#ffa256\"\n",
    "C4_COLOR = \"#ff4d27\"\n",
    "\n",
    "D1_COLOR = \"#75cfeb\"\n",
    "D2_COLOR = \"#bfffdf\"\n",
    "D3_COLOR = \"#ffbe8a\"\n",
    "D4_COLOR = \"#ff8266\"\n",
    "colors = [C1_COLOR, C2_COLOR, C3_COLOR, C4_COLOR, D1_COLOR, D2_COLOR, D3_COLOR, D4_COLOR]\n",
    "\n",
    "plt.bar(np.arange(8), 1, color=colors)"
   ]
  },
  {
   "cell_type": "code",
   "execution_count": 18,
   "metadata": {},
   "outputs": [
    {
     "data": {
      "text/plain": [
       "array([[4, 4],\n",
       "       [4, 4],\n",
       "       [0, 0],\n",
       "       [0, 0],\n",
       "       [0, 0],\n",
       "       [0, 0],\n",
       "       [0, 0],\n",
       "       [0, 0],\n",
       "       [0, 0],\n",
       "       [0, 0],\n",
       "       [0, 0],\n",
       "       [0, 0],\n",
       "       [0, 0],\n",
       "       [0, 0],\n",
       "       [0, 0],\n",
       "       [0, 0],\n",
       "       [0, 0],\n",
       "       [0, 0],\n",
       "       [0, 0],\n",
       "       [0, 0],\n",
       "       [0, 0],\n",
       "       [0, 0],\n",
       "       [0, 0],\n",
       "       [0, 0],\n",
       "       [0, 0],\n",
       "       [0, 0],\n",
       "       [0, 0],\n",
       "       [0, 0],\n",
       "       [0, 0],\n",
       "       [0, 0],\n",
       "       [0, 0],\n",
       "       [0, 0],\n",
       "       [0, 0],\n",
       "       [0, 0],\n",
       "       [0, 0],\n",
       "       [0, 0],\n",
       "       [0, 0],\n",
       "       [0, 0],\n",
       "       [0, 0],\n",
       "       [0, 0],\n",
       "       [0, 0],\n",
       "       [0, 0],\n",
       "       [0, 0],\n",
       "       [0, 0],\n",
       "       [0, 0],\n",
       "       [0, 0],\n",
       "       [0, 0],\n",
       "       [0, 0],\n",
       "       [0, 0],\n",
       "       [0, 0],\n",
       "       [0, 0],\n",
       "       [0, 0],\n",
       "       [0, 0],\n",
       "       [0, 0],\n",
       "       [0, 0],\n",
       "       [0, 0],\n",
       "       [0, 0],\n",
       "       [0, 0],\n",
       "       [0, 0],\n",
       "       [0, 0],\n",
       "       [0, 0],\n",
       "       [0, 0],\n",
       "       [0, 0],\n",
       "       [0, 0],\n",
       "       [0, 0],\n",
       "       [0, 0],\n",
       "       [0, 0],\n",
       "       [0, 0],\n",
       "       [0, 0],\n",
       "       [0, 0],\n",
       "       [0, 0],\n",
       "       [0, 0],\n",
       "       [0, 0],\n",
       "       [0, 0],\n",
       "       [0, 0],\n",
       "       [0, 0],\n",
       "       [0, 0]])"
      ]
     },
     "execution_count": 18,
     "metadata": {},
     "output_type": "execute_result"
    }
   ],
   "source": [
    "history = np.load(\"data/centroid_history2.npy\")\n",
    "history = np.equal(history[:1], history[1:])\n",
    "history"
   ]
  },
  {
   "cell_type": "code",
   "execution_count": null,
   "metadata": {},
   "outputs": [],
   "source": []
  }
 ],
 "metadata": {
  "kernelspec": {
   "display_name": "Python 3.10.2 64-bit ('learning')",
   "language": "python",
   "name": "python3"
  },
  "language_info": {
   "codemirror_mode": {
    "name": "ipython",
    "version": 3
   },
   "file_extension": ".py",
   "mimetype": "text/x-python",
   "name": "python",
   "nbconvert_exporter": "python",
   "pygments_lexer": "ipython3",
   "version": "3.10.2"
  },
  "orig_nbformat": 4,
  "vscode": {
   "interpreter": {
    "hash": "083c3123b4ad7f25f53c003e80272d3d1894a33e093a79f10823ee80b0414ebd"
   }
  }
 },
 "nbformat": 4,
 "nbformat_minor": 2
}
