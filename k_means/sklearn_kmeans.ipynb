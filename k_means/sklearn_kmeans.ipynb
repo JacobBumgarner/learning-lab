{
 "cells": [
  {
   "cell_type": "code",
   "execution_count": 2,
   "metadata": {},
   "outputs": [],
   "source": [
    "# Import KMeans and other necessary packages\n",
    "from sklearn.cluster import KMeans\n",
    "import numpy as np\n",
    "import matplotlib.pyplot as plt"
   ]
  },
  {
   "cell_type": "code",
   "execution_count": 4,
   "metadata": {},
   "outputs": [],
   "source": [
    "# Load the synthetic data used in the manim visualizations\n",
    "data = np.load(\"data/synth_data.npy\")"
   ]
  },
  {
   "cell_type": "code",
   "execution_count": 20,
   "metadata": {},
   "outputs": [],
   "source": [
    "# Initialize and fit the model\n",
    "k_means = KMeans(4)\n",
    "k_means = k_means.fit(data)"
   ]
  },
  {
   "cell_type": "code",
   "execution_count": 19,
   "metadata": {},
   "outputs": [
    {
     "data": {
      "image/png": "[encoded data removed]",
      "text/plain": [
       "<Figure size 432x288 with 1 Axes>"
      ]
     },
     "metadata": {
      "needs_background": "light"
     },
     "output_type": "display_data"
    }
   ],
   "source": [
    "# Plot the results\n",
    "labels = k_means.labels_\n",
    "centroids = k_means.cluster_centers_\n",
    "\n",
    "cmap = plt.get_cmap(\"viridis\")\n",
    "colors = cmap(np.linspace(0, 1, 4, endpoint=True))\n",
    "\n",
    "for i in range(len(centroids)):\n",
    "    # plot the data\n",
    "    plt.scatter(*data[labels==i].T, color=colors[i], s=15)\n",
    "    \n",
    "    # plot the centroids\n",
    "    plt.scatter(*centroids[i].T, edgecolor=\"black\", color=colors[i], s=60)"
   ]
  }
 ],
 "metadata": {
  "kernelspec": {
   "display_name": "Python 3.10.2 64-bit ('learning')",
   "language": "python",
   "name": "python3"
  },
  "language_info": {
   "codemirror_mode": {
    "name": "ipython",
    "version": 3
   },
   "file_extension": ".py",
   "mimetype": "text/x-python",
   "name": "python",
   "nbconvert_exporter": "python",
   "pygments_lexer": "ipython3",
   "version": "3.10.2"
  },
  "orig_nbformat": 4,
  "vscode": {
   "interpreter": {
    "hash": "083c3123b4ad7f25f53c003e80272d3d1894a33e093a79f10823ee80b0414ebd"
   }
  }
 },
 "nbformat": 4,
 "nbformat_minor": 2
}
