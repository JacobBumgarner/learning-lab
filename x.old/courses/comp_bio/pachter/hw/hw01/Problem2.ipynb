{
 "cells": [
  {
   "cell_type": "code",
   "execution_count": 1,
   "metadata": {
    "id": "qy_Is21USn3O"
   },
   "outputs": [],
   "source": [
    "#import packages\n",
    "import numpy as np"
   ]
  },
  {
   "cell_type": "code",
   "execution_count": 2,
   "metadata": {
    "id": "mrIBjeB1SzTs"
   },
   "outputs": [],
   "source": [
    "# gene expression matrix\n",
    "G = np.array([[1,2,3,3],[3,1,9,4],[1,4,3,5]])"
   ]
  },
  {
   "cell_type": "markdown",
   "metadata": {},
   "source": [
    "### A"
   ]
  },
  {
   "cell_type": "code",
   "execution_count": 3,
   "metadata": {},
   "outputs": [
    {
     "data": {
      "text/plain": [
       "3"
      ]
     },
     "execution_count": 3,
     "metadata": {},
     "output_type": "execute_result"
    }
   ],
   "source": [
    "# Find the cell with the largest expression of gene 2\n",
    "np.argmax(G[:,1]) + 1"
   ]
  },
  {
   "cell_type": "markdown",
   "metadata": {},
   "source": [
    "### B"
   ]
  },
  {
   "cell_type": "code",
   "execution_count": 4,
   "metadata": {},
   "outputs": [
    {
     "data": {
      "text/plain": [
       "3"
      ]
     },
     "execution_count": 4,
     "metadata": {},
     "output_type": "execute_result"
    }
   ],
   "source": [
    "# Which gene is the  most highly expressed in cell 2\n",
    "np.argmax(G[1,:]) + 1"
   ]
  },
  {
   "cell_type": "markdown",
   "metadata": {},
   "source": [
    "### C"
   ]
  },
  {
   "cell_type": "code",
   "execution_count": 5,
   "metadata": {},
   "outputs": [
    {
     "data": {
      "text/plain": [
       "2"
      ]
     },
     "execution_count": 5,
     "metadata": {},
     "output_type": "execute_result"
    }
   ],
   "source": [
    "# i. Find rank of G\n",
    "np.linalg.matrix_rank(G)"
   ]
  },
  {
   "cell_type": "markdown",
   "metadata": {},
   "source": [
    "ii. The rank of the matrix is an indication of the span of its dimensionality."
   ]
  },
  {
   "cell_type": "markdown",
   "metadata": {},
   "source": [
    "### D"
   ]
  },
  {
   "cell_type": "code",
   "execution_count": 6,
   "metadata": {},
   "outputs": [
    {
     "data": {
      "text/plain": [
       "array([1.66666667, 2.33333333, 5.        , 4.        ])"
      ]
     },
     "execution_count": 6,
     "metadata": {},
     "output_type": "execute_result"
    }
   ],
   "source": [
    "# i. & ii. Find average expression of the genes\n",
    "gene_avg = np.mean(G, axis=0)\n",
    "gene_avg"
   ]
  },
  {
   "cell_type": "code",
   "execution_count": 7,
   "metadata": {},
   "outputs": [
    {
     "data": {
      "text/plain": [
       "array([0, 1, 3, 2])"
      ]
     },
     "execution_count": 7,
     "metadata": {},
     "output_type": "execute_result"
    }
   ],
   "source": [
    "np.argsort(gene_avg)"
   ]
  },
  {
   "cell_type": "code",
   "execution_count": 8,
   "metadata": {},
   "outputs": [
    {
     "data": {
      "text/plain": [
       "array([1.66666667, 2.33333333, 5.        , 4.        ])"
      ]
     },
     "execution_count": 8,
     "metadata": {},
     "output_type": "execute_result"
    }
   ],
   "source": [
    "vT = np.array([1/3, 1/3, 1/3])  # i.\n",
    "np.matmul(vT, G)"
   ]
  },
  {
   "cell_type": "code",
   "execution_count": 9,
   "metadata": {},
   "outputs": [
    {
     "data": {
      "text/plain": [
       "array([[0, 0],\n",
       "       [0, 0],\n",
       "       [1, 0],\n",
       "       [0, 1]])"
      ]
     },
     "execution_count": 9,
     "metadata": {},
     "output_type": "execute_result"
    }
   ],
   "source": [
    "# iii. Get the two highest expressed genes\n",
    "P = np.array([[0, 0, 1, 0], [0, 0, 0, 1]])\n",
    "# P = np.array([[0, 0], [0, 0], [1, 0], [0, 1]])\n",
    "# np.matmul(G, P)\n",
    "P.T"
   ]
  },
  {
   "cell_type": "markdown",
   "metadata": {},
   "source": [
    "### E"
   ]
  },
  {
   "cell_type": "code",
   "execution_count": 10,
   "metadata": {},
   "outputs": [
    {
     "name": "stdout",
     "output_type": "stream",
     "text": [
      "L1:\n",
      " [[ 0. 10.  4.]\n",
      " [10.  0. 12.]\n",
      " [ 4. 12.  0.]]\n",
      "L2:\n",
      " [[0.         6.4807407  2.82842712]\n",
      " [6.4807407  0.         7.07106781]\n",
      " [2.82842712 7.07106781 0.        ]]\n",
      "Cos:\n",
      " [[0.00000000e+00 1.13054633e-01 3.64706819e-02]\n",
      " [1.13054633e-01 1.11022302e-16 2.69001000e-01]\n",
      " [3.64706819e-02 2.69001000e-01 1.11022302e-16]]\n"
     ]
    }
   ],
   "source": [
    "from scipy.spatial import distance\n",
    "\n",
    "# i. compute D for l1, l2, and cos distances\n",
    "D_l1 = distance.cdist(G, G, metric=\"cityblock\")\n",
    "print(\"L1:\\n\", D_l1)\n",
    "D_l2 = distance.cdist(G, G, metric=\"euclidean\")\n",
    "print(\"L2:\\n\", D_l2)\n",
    "D_cos = distance.cdist(G, G, metric=\"cosine\")\n",
    "print(\"Cos:\\n\", D_cos)"
   ]
  },
  {
   "cell_type": "code",
   "execution_count": 11,
   "metadata": {},
   "outputs": [
    {
     "data": {
      "text/plain": [
       "2"
      ]
     },
     "execution_count": 11,
     "metadata": {},
     "output_type": "execute_result"
    }
   ],
   "source": [
    "# ii. Closest cells for each metric:\n",
    "np.argmin(np.where(D_l1>1e-9, D_l1, np.inf))"
   ]
  },
  {
   "cell_type": "code",
   "execution_count": 12,
   "metadata": {},
   "outputs": [
    {
     "name": "stdout",
     "output_type": "stream",
     "text": [
      "L1 Closest Cells: (0, 2)\n",
      "L2 Closest Cells: (0, 2)\n",
      "Cosine Closest Cells: (0, 2)\n"
     ]
    }
   ],
   "source": [
    "D_l1_argmin = np.argmin(np.where(D_l1>1e-9, D_l1, np.inf))\n",
    "print(\"L1 Closest Cells:\", \n",
    "      np.unravel_index(D_l1_argmin, D_l1.shape))\n",
    "D_l2_argmin = np.argmin(np.where(D_l2>1e-9, D_l2, np.inf))\n",
    "print(\"L2 Closest Cells:\", \n",
    "      np.unravel_index(D_l2_argmin, D_l2.shape))\n",
    "D_cos_argmin = np.argmin(np.where(D_cos>1e-9, D_cos, np.inf))\n",
    "print(\"Cosine Closest Cells:\", \n",
    "      np.unravel_index(D_cos_argmin, D_cos.shape))"
   ]
  },
  {
   "cell_type": "markdown",
   "metadata": {},
   "source": [
    "### F"
   ]
  },
  {
   "cell_type": "code",
   "execution_count": 13,
   "metadata": {},
   "outputs": [
    {
     "name": "stdout",
     "output_type": "stream",
     "text": [
      "L1:\n",
      " [[ 0. 10.  4.]\n",
      " [10.  0. 12.]\n",
      " [ 4. 12.  0.]]\n",
      "L2:\n",
      " [[0.         6.4807407  2.82842712]\n",
      " [6.4807407  0.         7.07106781]\n",
      " [2.82842712 7.07106781 0.        ]]\n",
      "Cos:\n",
      " [[0.         0.00535137 0.00090213]\n",
      " [0.00535137 0.         0.0098573 ]\n",
      " [0.00090213 0.0098573  0.        ]]\n"
     ]
    }
   ],
   "source": [
    "# i. All gene expression inflated\n",
    "G_inflated = G + 20\n",
    "# i. compute D for l1, l2, and cos distances\n",
    "D_l1 = distance.cdist(G_inflated, G_inflated, metric=\"cityblock\")\n",
    "print(\"L1:\\n\", D_l1)\n",
    "D_l2 = distance.cdist(G_inflated, G_inflated, metric=\"euclidean\")\n",
    "print(\"L2:\\n\", D_l2)\n",
    "D_cos = distance.cdist(G_inflated, G_inflated, metric=\"cosine\")\n",
    "print(\"Cos:\\n\", D_cos)"
   ]
  },
  {
   "cell_type": "markdown",
   "metadata": {},
   "source": [
    "The only distance function that is affected by the \"inflated\" (scalar additive) gene counts is the cosine similarity.\n",
    "\n",
    "This makes sense, as the L1 and L2 are distances of *difference*, and the *difference* of two vectors would remain the same if their values were increased by an additive scalar. \n",
    "\n",
    "The Cosine similarity metric is a function of vector *magnitude*, which is changed by additive scalars."
   ]
  },
  {
   "cell_type": "markdown",
   "metadata": {},
   "source": [
    "### G"
   ]
  },
  {
   "cell_type": "code",
   "execution_count": 14,
   "metadata": {},
   "outputs": [
    {
     "name": "stdout",
     "output_type": "stream",
     "text": [
      "L1:\n",
      " [[0.         1.11111111 0.44444444]\n",
      " [1.11111111 0.         1.33333333]\n",
      " [0.44444444 1.33333333 0.        ]]\n",
      "L2:\n",
      " [[0.         0.7200823  0.31426968]\n",
      " [0.7200823  0.         0.7856742 ]\n",
      " [0.31426968 0.7856742  0.        ]]\n",
      "Cos:\n",
      " [[0.00000000e+00 1.13054633e-01 3.64706819e-02]\n",
      " [1.13054633e-01 2.22044605e-16 2.69001000e-01]\n",
      " [3.64706819e-02 2.69001000e-01 0.00000000e+00]]\n"
     ]
    }
   ],
   "source": [
    "G_scaled = G / np.max(G)\n",
    "# i. compute D for l1, l2, and cos distances\n",
    "D_l1 = distance.cdist(G_scaled, G_scaled, metric=\"cityblock\")\n",
    "print(\"L1:\\n\", D_l1)\n",
    "D_l2 = distance.cdist(G_scaled, G_scaled, metric=\"euclidean\")\n",
    "print(\"L2:\\n\", D_l2)\n",
    "D_cos = distance.cdist(G_scaled, G_scaled, metric=\"cosine\")\n",
    "print(\"Cos:\\n\", D_cos)"
   ]
  },
  {
   "cell_type": "markdown",
   "metadata": {},
   "source": [
    "Related to question F, we can see that the invariance of cosine similarity to vector scaling is related to it being a function of vector *magnitude*. Changing the magnitude of a vector by some scaling process will not change its angle relationship to another vector (even if the other vector wasn't scaled). \n",
    "\n",
    "However, changing the *magnitude* of two vectors does indeed change their distance relationships to one another. This is easiest to see when plotting two simple unit vectors that are changed either by scaling or addition."
   ]
  }
 ],
 "metadata": {
  "colab": {
   "include_colab_link": true,
   "name": "Problem2.ipynb",
   "provenance": []
  },
  "kernelspec": {
   "display_name": "Python 3 (ipykernel)",
   "language": "python",
   "name": "python3"
  },
  "language_info": {
   "codemirror_mode": {
    "name": "ipython",
    "version": 3
   },
   "file_extension": ".py",
   "mimetype": "text/x-python",
   "name": "python",
   "nbconvert_exporter": "python",
   "pygments_lexer": "ipython3",
   "version": "3.10.6"
  }
 },
 "nbformat": 4,
 "nbformat_minor": 4
}
