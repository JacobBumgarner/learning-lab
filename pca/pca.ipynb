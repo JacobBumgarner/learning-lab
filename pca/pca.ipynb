{
 "cells": [
  {
   "cell_type": "markdown",
   "metadata": {},
   "source": [
    "## Breaking it Down: Principal Component Analysis\n",
    "**Outline:**\n",
    "1. [What is principal component analysis?](#1-what-is-principal-component-analysis)\n",
    "2. [Getting started with our example dataset](#2-getting-started)\n",
    "3. [Implementing PCA in a 4-step process](#3-implementing-pca-in-a-4-step-process)\n",
    "    1. [Standardize the data](#31-data-standardization)\n",
    "    2. [Find the covariance matrix of the dataset](#32-find-the-covariance-matrix-of-the-dataset)\n",
    "    3. [Find, rank, and select the eigenvalues and eigenvectors of the covariance matrix](#33-find-the-eigenvalues-and-eigenvectors-of-the-covariance-matrix)\n",
    "    4. [Project the data along the selected feature vectors](#34-project-the-data-along-the-selected-feature-vectors)\n",
    "4. [Implementing PCA on an even higher-dimensional data](#4-implementing-pca-on-a-higher-dimensional-dataset)\n",
    "5. [Using PCA in the real-world with scikit-learn](#5-using-pca-in-the-real-world-with-scikit-learn)\n"
   ]
  },
  {
   "cell_type": "markdown",
   "metadata": {},
   "source": [
    "### 1. What is principal component analysis?\n",
    "Principal component analysis ([PCA](https://en.wikipedia.org/wiki/Principal_component_analysis#cite_note-7)) \n",
    "is an unsupervised statistical technique that is used to reduce the dimensionality of \n",
    "large datasets. This technique was originally developed in [1901 by Karl Pearson](https://ia800708.us.archive.org/view_archive.php?archive=/22/items/crossref-pre-1909-scholarly-works/10.1080%252F14786440108636578.zip&file=10.1080%252F14786440109462720.pdf). Below are some questions that I originally had when learning about this technique.\n",
    "\n",
    "1. **Q:** What do we mean by dimensions? \n",
    "\n",
    "    **A:** By dimensions, we simply mean variables. \n",
    "\n",
    "2. **Q**: Why would we want to reduce the dimensions of a dataset?\n",
    "\n",
    "    **A:** Dimension reduction improves our ability to visualize a high-dimensional datasets, improves analytical efficiency, and enables key variable detection from large-scale and high-dimensional datasets. PCA reduces the number of variables from a dataset while preserving as much of the original information as possible.\n",
    " "
   ]
  },
  {
   "cell_type": "markdown",
   "metadata": {},
   "source": [
    "### 2. Getting Started\n",
    "To start, we'll import our necessary packages and we'll load the first demo dataset, the **[Iris Dataset][iris]** from scikit-learn.\n",
    "\n",
    "Let's peak into the data to see how they're structured.\n",
    "\n",
    "[iris]: https://scikit-learn.org/stable/auto_examples/datasets/plot_iris_dataset.html"
   ]
  },
  {
   "cell_type": "code",
   "execution_count": 1,
   "metadata": {},
   "outputs": [
    {
     "data": {
      "text/html": [
       "<div>\n",
       "<style scoped>\n",
       "    .dataframe tbody tr th:only-of-type {\n",
       "        vertical-align: middle;\n",
       "    }\n",
       "\n",
       "    .dataframe tbody tr th {\n",
       "        vertical-align: top;\n",
       "    }\n",
       "\n",
       "    .dataframe thead th {\n",
       "        text-align: right;\n",
       "    }\n",
       "</style>\n",
       "<table border=\"1\" class=\"dataframe\">\n",
       "  <thead>\n",
       "    <tr style=\"text-align: right;\">\n",
       "      <th></th>\n",
       "      <th>sepal length (cm)</th>\n",
       "      <th>sepal width (cm)</th>\n",
       "      <th>petal length (cm)</th>\n",
       "      <th>petal width (cm)</th>\n",
       "    </tr>\n",
       "  </thead>\n",
       "  <tbody>\n",
       "    <tr>\n",
       "      <th>0</th>\n",
       "      <td>5.1</td>\n",
       "      <td>3.5</td>\n",
       "      <td>1.4</td>\n",
       "      <td>0.2</td>\n",
       "    </tr>\n",
       "    <tr>\n",
       "      <th>1</th>\n",
       "      <td>4.9</td>\n",
       "      <td>3.0</td>\n",
       "      <td>1.4</td>\n",
       "      <td>0.2</td>\n",
       "    </tr>\n",
       "    <tr>\n",
       "      <th>2</th>\n",
       "      <td>4.7</td>\n",
       "      <td>3.2</td>\n",
       "      <td>1.3</td>\n",
       "      <td>0.2</td>\n",
       "    </tr>\n",
       "    <tr>\n",
       "      <th>3</th>\n",
       "      <td>4.6</td>\n",
       "      <td>3.1</td>\n",
       "      <td>1.5</td>\n",
       "      <td>0.2</td>\n",
       "    </tr>\n",
       "    <tr>\n",
       "      <th>4</th>\n",
       "      <td>5.0</td>\n",
       "      <td>3.6</td>\n",
       "      <td>1.4</td>\n",
       "      <td>0.2</td>\n",
       "    </tr>\n",
       "    <tr>\n",
       "      <th>...</th>\n",
       "      <td>...</td>\n",
       "      <td>...</td>\n",
       "      <td>...</td>\n",
       "      <td>...</td>\n",
       "    </tr>\n",
       "    <tr>\n",
       "      <th>145</th>\n",
       "      <td>6.7</td>\n",
       "      <td>3.0</td>\n",
       "      <td>5.2</td>\n",
       "      <td>2.3</td>\n",
       "    </tr>\n",
       "    <tr>\n",
       "      <th>146</th>\n",
       "      <td>6.3</td>\n",
       "      <td>2.5</td>\n",
       "      <td>5.0</td>\n",
       "      <td>1.9</td>\n",
       "    </tr>\n",
       "    <tr>\n",
       "      <th>147</th>\n",
       "      <td>6.5</td>\n",
       "      <td>3.0</td>\n",
       "      <td>5.2</td>\n",
       "      <td>2.0</td>\n",
       "    </tr>\n",
       "    <tr>\n",
       "      <th>148</th>\n",
       "      <td>6.2</td>\n",
       "      <td>3.4</td>\n",
       "      <td>5.4</td>\n",
       "      <td>2.3</td>\n",
       "    </tr>\n",
       "    <tr>\n",
       "      <th>149</th>\n",
       "      <td>5.9</td>\n",
       "      <td>3.0</td>\n",
       "      <td>5.1</td>\n",
       "      <td>1.8</td>\n",
       "    </tr>\n",
       "  </tbody>\n",
       "</table>\n",
       "<p>150 rows × 4 columns</p>\n",
       "</div>"
      ],
      "text/plain": [
       "     sepal length (cm)  sepal width (cm)  petal length (cm)  petal width (cm)\n",
       "0                  5.1               3.5                1.4               0.2\n",
       "1                  4.9               3.0                1.4               0.2\n",
       "2                  4.7               3.2                1.3               0.2\n",
       "3                  4.6               3.1                1.5               0.2\n",
       "4                  5.0               3.6                1.4               0.2\n",
       "..                 ...               ...                ...               ...\n",
       "145                6.7               3.0                5.2               2.3\n",
       "146                6.3               2.5                5.0               1.9\n",
       "147                6.5               3.0                5.2               2.0\n",
       "148                6.2               3.4                5.4               2.3\n",
       "149                5.9               3.0                5.1               1.8\n",
       "\n",
       "[150 rows x 4 columns]"
      ]
     },
     "execution_count": 1,
     "metadata": {},
     "output_type": "execute_result"
    }
   ],
   "source": [
    "import matplotlib.pyplot as plt\n",
    "import numpy as np\n",
    "import pandas as pd\n",
    "from sklearn import datasets\n",
    "\n",
    "iris = datasets.load_iris()\n",
    "iris_df = pd.DataFrame(iris.data, columns=iris.feature_names)\n",
    "iris_df"
   ]
  },
  {
   "cell_type": "markdown",
   "metadata": {},
   "source": [
    "\n",
    "The Iris Dataset is a great way to introduce PCA. It contains data from three different species of Iris flowers: Setosa, Versicolour, and Virginica.  \n",
    "\n",
    "Four variables were examined for each flower: sepal length, sepal width, petal length, and petal width.\n",
    "\n",
    "Below can visualize the relationship between these varaibles<sup>[1][wiki]</sup>, and we can see that they already produce easily recognizable clusters when examining two features at a time.\n",
    "\n",
    "<img src=\"./images/iris_scatterplot.png\" alt=\"iris feature scatterplot/\" width=\"50%\">\n",
    "\n",
    "So if the data already cluster well, why should we reduce their dimensionality with PCA?\n",
    "\n",
    "Because the dataset high-dimensional (4 variables), applying a PCA would improve our ability to 1. visualize and 2. analyze the datasets. \n",
    "\n",
    "1. Reducing the dimensionality of the dataset will allow us to visualize and examine the clustering relationships among the data in lower dimensions with newly constructed features from the input features. To demonstrate this utility, we will visualize the how reducing the dimensions of the dataset can let us produce visualizations with two, and even only one, principal component.\n",
    "\n",
    "2. Reducing dimensionality will decrease the size of the dataset, and because PCA reduces dimensionality while minimizing information loss, these lower-dimensional data could be used for more efficient computational analysis (e.g., training a logistic classifier to recognize flower species).\n",
    "\n",
    "Ok - with the prelude done, let's apply the PCA to our Iris dataset.\n",
    "\n",
    "[wiki]: https://en.wikipedia.org/wiki/Principal_component_analysis"
   ]
  },
  {
   "cell_type": "markdown",
   "metadata": {},
   "source": [
    "### 3. Implementing PCA in a 4-Step Process\n",
    "PCA can be implemented in a 4-step approach (here I'm merging three guides<sup>[2][Zakaria Jaadi],[3][James McCaffrey],[4][scott]</sup>).\n",
    "\n",
    "#### 3.1 Data Standardization\n",
    "Before conducting a PCA on your dataset, it must be standardized in some way. \n",
    "\n",
    "This is because PCA aims to identify the components of the dataset that maximize variance. If the individual dimensions of the dataset don't have standardized variances, PCA will inappropriately allocate the components to the data with higher variances.\n",
    "\n",
    "[This post][sklearn] from scikit-learn explains it well. In essence:\n",
    "> Imagine a dataset with two features, weight (k) and height (h). We are examining these features to understand how they correlate with how high an individual can jump.\n",
    "> Without normalization, weight will have much more variance than height. If we don't normalize the datasets, the PCA will inappropriately determine that the direction of maximal variance is more closely aligned with weight than height and will minimze the contribution of the height values to the components.\n",
    "\n",
    "As such, let's standardize our dataset with the equation below so that the mean is 0 and the standard deviation is 1. In the equation , $x$ is the value to be standardized, $\\mu$ is the feature mean, and $\\sigma$ is the feature standard deviation.\n",
    "\n",
    "$x' = \\dfrac{x - \\mu}{\\sigma}$\n",
    "\n",
    "\n",
    "[sklearn]: https://scikit-learn.org/stable/auto_examples/preprocessing/plot_scaling_importance.html\n",
    "[Zakaria Jaadi]: https://builtin.com/data-science/step-step-explanation-principal-component-analysis\n",
    "[James McCaffrey]: https://jamesmccaffrey.wordpress.com/2021/06/28/principal-component-analysis-pca-from-scratch-using-python/\n",
    "[scott]: https://drscotthawley.github.io/blog/2019/12/21/PCA-From-Scratch.html#Some-3D-data-to-work-with"
   ]
  },
  {
   "cell_type": "code",
   "execution_count": 2,
   "metadata": {},
   "outputs": [
    {
     "data": {
      "text/html": [
       "<div>\n",
       "<style scoped>\n",
       "    .dataframe tbody tr th:only-of-type {\n",
       "        vertical-align: middle;\n",
       "    }\n",
       "\n",
       "    .dataframe tbody tr th {\n",
       "        vertical-align: top;\n",
       "    }\n",
       "\n",
       "    .dataframe thead th {\n",
       "        text-align: right;\n",
       "    }\n",
       "</style>\n",
       "<table border=\"1\" class=\"dataframe\">\n",
       "  <thead>\n",
       "    <tr style=\"text-align: right;\">\n",
       "      <th></th>\n",
       "      <th>sepal length(std)</th>\n",
       "      <th>sepal width(std)</th>\n",
       "      <th>petal length(std)</th>\n",
       "      <th>petal width(std)</th>\n",
       "    </tr>\n",
       "  </thead>\n",
       "  <tbody>\n",
       "    <tr>\n",
       "      <th>0</th>\n",
       "      <td>-0.900681</td>\n",
       "      <td>1.019004</td>\n",
       "      <td>-1.340227</td>\n",
       "      <td>-1.315444</td>\n",
       "    </tr>\n",
       "    <tr>\n",
       "      <th>1</th>\n",
       "      <td>-1.143017</td>\n",
       "      <td>-0.131979</td>\n",
       "      <td>-1.340227</td>\n",
       "      <td>-1.315444</td>\n",
       "    </tr>\n",
       "    <tr>\n",
       "      <th>2</th>\n",
       "      <td>-1.385353</td>\n",
       "      <td>0.328414</td>\n",
       "      <td>-1.397064</td>\n",
       "      <td>-1.315444</td>\n",
       "    </tr>\n",
       "    <tr>\n",
       "      <th>3</th>\n",
       "      <td>-1.506521</td>\n",
       "      <td>0.098217</td>\n",
       "      <td>-1.283389</td>\n",
       "      <td>-1.315444</td>\n",
       "    </tr>\n",
       "    <tr>\n",
       "      <th>4</th>\n",
       "      <td>-1.021849</td>\n",
       "      <td>1.249201</td>\n",
       "      <td>-1.340227</td>\n",
       "      <td>-1.315444</td>\n",
       "    </tr>\n",
       "    <tr>\n",
       "      <th>...</th>\n",
       "      <td>...</td>\n",
       "      <td>...</td>\n",
       "      <td>...</td>\n",
       "      <td>...</td>\n",
       "    </tr>\n",
       "    <tr>\n",
       "      <th>145</th>\n",
       "      <td>1.038005</td>\n",
       "      <td>-0.131979</td>\n",
       "      <td>0.819596</td>\n",
       "      <td>1.448832</td>\n",
       "    </tr>\n",
       "    <tr>\n",
       "      <th>146</th>\n",
       "      <td>0.553333</td>\n",
       "      <td>-1.282963</td>\n",
       "      <td>0.705921</td>\n",
       "      <td>0.922303</td>\n",
       "    </tr>\n",
       "    <tr>\n",
       "      <th>147</th>\n",
       "      <td>0.795669</td>\n",
       "      <td>-0.131979</td>\n",
       "      <td>0.819596</td>\n",
       "      <td>1.053935</td>\n",
       "    </tr>\n",
       "    <tr>\n",
       "      <th>148</th>\n",
       "      <td>0.432165</td>\n",
       "      <td>0.788808</td>\n",
       "      <td>0.933271</td>\n",
       "      <td>1.448832</td>\n",
       "    </tr>\n",
       "    <tr>\n",
       "      <th>149</th>\n",
       "      <td>0.068662</td>\n",
       "      <td>-0.131979</td>\n",
       "      <td>0.762758</td>\n",
       "      <td>0.790671</td>\n",
       "    </tr>\n",
       "  </tbody>\n",
       "</table>\n",
       "<p>150 rows × 4 columns</p>\n",
       "</div>"
      ],
      "text/plain": [
       "     sepal length(std)  sepal width(std)  petal length(std)  petal width(std)\n",
       "0            -0.900681          1.019004          -1.340227         -1.315444\n",
       "1            -1.143017         -0.131979          -1.340227         -1.315444\n",
       "2            -1.385353          0.328414          -1.397064         -1.315444\n",
       "3            -1.506521          0.098217          -1.283389         -1.315444\n",
       "4            -1.021849          1.249201          -1.340227         -1.315444\n",
       "..                 ...               ...                ...               ...\n",
       "145           1.038005         -0.131979           0.819596          1.448832\n",
       "146           0.553333         -1.282963           0.705921          0.922303\n",
       "147           0.795669         -0.131979           0.819596          1.053935\n",
       "148           0.432165          0.788808           0.933271          1.448832\n",
       "149           0.068662         -0.131979           0.762758          0.790671\n",
       "\n",
       "[150 rows x 4 columns]"
      ]
     },
     "execution_count": 2,
     "metadata": {},
     "output_type": "execute_result"
    }
   ],
   "source": [
    "def standardize(data):\n",
    "    \"\"\"Standardize and return a dataset.\n",
    "    \n",
    "    Parameters:\n",
    "        data : np.ndarray\n",
    "    \n",
    "    Returns:\n",
    "        np.ndarray\n",
    "    \"\"\"\n",
    "    feature_means = np.mean(data, axis=0, keepdims=True)\n",
    "    feature_stdevs = np.std(data, axis=0, keepdims=True)\n",
    "    standardized = (data - feature_means) / feature_stdevs\n",
    "    return standardized\n",
    "\n",
    "iris_std = standardize(iris.data)\n",
    "iris_std_df = pd.DataFrame(iris_std, columns=[feat[:-5]+\"(std)\" for feat in iris.feature_names])\n",
    "iris_std_df  # examine the standardized data"
   ]
  },
  {
   "cell_type": "markdown",
   "metadata": {},
   "source": [
    "#### 3.2 Find the covariance matrix of the dataset\n",
    "Next, we need to compute the covariance matrix is an (*n*, *n*) symmetric matrix, where $n = \\textit{number of features(dimensions)}$ in the dataset.\n",
    "\n",
    "Each element of the matrix will contain the covariance between two of the variables.\n",
    "\n",
    "We'll assign the following variables to the features:\n",
    "\n",
    "$a = \\textit{sepal length(cm)}$<br>\n",
    "$b = \\textit{sepal width (cm)}$<br>\n",
    "$c = \\textit{petal length (cm)}$<br>\n",
    "$d = \\textit{petal width (cm)}$<br>\n",
    "\n",
    "Normally, to find the variance of a population, we use the equation below:\n",
    "\n",
    "**Variance:** where $\\overline{a}$ is the mean of feature $a$.\n",
    "\n",
    "$$S^2 = \\dfrac{\\sum_{i=1}^{n}(a_{i} - \\overline{a})^2}{n - 1}$$\n",
    "\n",
    "To find the *covariance* between two features, we multiply the difference of value and means for each feature rather than squaring the zeroed sample.\n",
    "\n",
    "**Covariance:** where $\\overline{a}$ is the mean of feature $a$, and $\\overline{b}$ is the mean of feature $b$.\n",
    "\n",
    "$$Cov(a, b) = \\dfrac{\\sum_{i=1}^{n}(a_{i} - \\overline{a})(b_{i} - \\overline{b})}{n - 1}$$\n",
    "\n",
    "To create our 4x4 matrix, we factor out the variables and compute the covariance of each pair.\n",
    "\n",
    "$$\\textit{Covariance Matrix} = \\begin{bmatrix} \n",
    "Cov(a,a) & Cov(a,b) & Cov(a,c) & Cov(a,d) \\\\\n",
    "Cov(b,a) & Cov(b,b) & Cov(b,c) & Cov(b,d) \\\\\n",
    "Cov(c,a) & Cov(c,b) & Cov(c,c) & Cov(c,d) \\\\\n",
    "Cov(d,a) & Cov(d,b) & Cov(d,c) & Cov(d,d) \\\\\n",
    "\\end{bmatrix}$$\n",
    "\n",
    "Now let's construct this matrix! Fortunately, the standard numpy has a function built to solve this problem for us."
   ]
  },
  {
   "cell_type": "code",
   "execution_count": 3,
   "metadata": {},
   "outputs": [
    {
     "name": "stdout",
     "output_type": "stream",
     "text": [
      "Covariance matrix: \n",
      " [[ 1.00671141 -0.11835884  0.87760447  0.82343066]\n",
      " [-0.11835884  1.00671141 -0.43131554 -0.36858315]\n",
      " [ 0.87760447 -0.43131554  1.00671141  0.96932762]\n",
      " [ 0.82343066 -0.36858315  0.96932762  1.00671141]]\n"
     ]
    }
   ],
   "source": [
    "def construct_cov_matrix(data):\n",
    "    \"\"\"Construct and return a covariance marix.\n",
    "    \n",
    "    Parameters:\n",
    "        data : np.ndarray\n",
    "        \n",
    "    Returns:\n",
    "        np.ndarray\n",
    "    \"\"\"\n",
    "    covariance_matrix = np.cov(data.T)  # transpose, numpy wants features in rows\n",
    "    return covariance_matrix\n",
    "\n",
    "covariance_matrix = construct_cov_matrix(iris_std)\n",
    "print(f\"Covariance matrix: \\n {covariance_matrix}\")"
   ]
  },
  {
   "cell_type": "markdown",
   "metadata": {},
   "source": [
    "#### 3.3 Find the eigenvalues and eigenvectors of the covariance matrix\n",
    "Now, we want to identify the principal components of the covariance matrix. These eigenvectors will be orthogonal and will be oriented in the directions of the greates variance of the dataset.\n",
    "\n",
    "I'm not going to act like I can explain eigenvalues and eigenvectors better than mathematicians can, but here's a brief overbiew. Eigenvalues are values that, when subtracted from a given matrix that is then multiplied by the identify matrix produces a zero determinant. We can use eigenvalues to identify eigenvectors, which are vectors whose direction remains constant when a linear transformation is applied to them.\n",
    "\n",
    "- To understand eigenvalues and eigenvectors, watch [3Blue1Brown's video](https://www.youtube.com/watch?v=PFDu9oVAE-g)\n",
    "- To understand how to identify eignvalues and eigenvectors, watch [this wonderful lesson on Youtube](https://www.youtube.com/watch?v=IdsV0RaC9jM)\n",
    "\n",
    "Why do we even care about the eigenvalues and eigenvectors? \n",
    "\n",
    "The eigenvectors represent the directions of the different degrees of variance in the dataset, and the corresponding eigenvalues represent the contribution of those vectors to the total variance in the dataset. If we sort the eigenvectors based on the weighted contribution of the eigenvectors, we can then identify our $n$ primary components.\n",
    "\n",
    "Now, let's use numpy to find and sort the eigenvalues and eigenvectors from the"
   ]
  },
  {
   "cell_type": "code",
   "execution_count": 4,
   "metadata": {},
   "outputs": [
    {
     "data": {
      "image/png": "[encoded data removed]",
      "text/plain": [
       "<Figure size 432x288 with 1 Axes>"
      ]
     },
     "metadata": {
      "needs_background": "light"
     },
     "output_type": "display_data"
    }
   ],
   "source": [
    "def identify_components(covariance_matrix):\n",
    "    \"\"\"Identify the principal components of a covariance matrix.\n",
    "    \n",
    "    Parameters:\n",
    "        covariance_matrix : np.ndarray\n",
    "        \n",
    "    Returns\n",
    "        np.ndarray : sorted_eigenvalues\n",
    "        \n",
    "        np.ndarray : sorted_eigenvectors\n",
    "    \"\"\"\n",
    "    eigenvalues, eigenvectors = np.linalg.eig(covariance_matrix)\n",
    "    ranks = np.argsort(np.abs(eigenvalues))[::-1]  # descending sort\n",
    "    sorted_eigenvalues = eigenvalues[ranks]\n",
    "    sorted_eigenvectors = eigenvectors[:, ranks] # sort along the second axis\n",
    "    return sorted_eigenvalues, sorted_eigenvectors\n",
    "\n",
    "\n",
    "eigenvalues, eigenvectors = identify_components(covariance_matrix)\n",
    "scaled_ranks = eigenvalues / np.sum(eigenvalues) * 100\n",
    "\n",
    "# Plot the variances\n",
    "plt.bar(range(scaled_ranks.shape[0]),\n",
    "        scaled_ranks,\n",
    "        width=0.4,\n",
    "        tick_label=range(scaled_ranks.shape[0]))\n",
    "plt.ylabel(\"Variance Contribution %\")\n",
    "plt.show()"
   ]
  },
  {
   "cell_type": "markdown",
   "metadata": {},
   "source": [
    "#### 3.4 Project the data along the selected feature vectors\n",
    "Finally, we will perform a matrix multiplication to project our original data onto the new grid using our principal components matrix.\n",
    "\n",
    "First, we're going to project the 4-dimensional data into a 2-dimensional plane with our two main selected principal components. We can do this with a simply matrix multiplication, since our matrix shapes align (n, feature_count) @ (feature_count, components) -> (n, components)"
   ]
  },
  {
   "cell_type": "code",
   "execution_count": 5,
   "metadata": {},
   "outputs": [
    {
     "data": {
      "text/plain": [
       "<matplotlib.legend.Legend at 0x139215fc0>"
      ]
     },
     "execution_count": 5,
     "metadata": {},
     "output_type": "execute_result"
    },
    {
     "data": {
      "image/png": "[encoded data removed]",
      "text/plain": [
       "<Figure size 432x288 with 1 Axes>"
      ]
     },
     "metadata": {
      "needs_background": "light"
     },
     "output_type": "display_data"
    }
   ],
   "source": [
    "def pca(data, components: int):\n",
    "    data_std = standardize(data)\n",
    "    covariance_matrix = construct_cov_matrix(data_std)\n",
    "    sorted_eigenvalues, sorted_eigenvectors = identify_components(covariance_matrix)\n",
    "    \n",
    "    principal_components = sorted_eigenvectors[:, :components]\n",
    "    \n",
    "    transformed_data = np.dot(data_std, principal_components)\n",
    "    return transformed_data\n",
    "    \n",
    "transformed_data = pca(iris.data, components=2)\n",
    "\n",
    "plt.xlabel(\"PCA1\")\n",
    "plt.ylabel(\"PCA2\")\n",
    "for i in range(3):\n",
    "    plt.scatter(transformed_data[iris.target==i, 0],\n",
    "                transformed_data[iris.target==i, 1],\n",
    "                label=iris.target_names[i])\n",
    "plt.legend(loc=\"upper right\", title=\"Species\")"
   ]
  },
  {
   "cell_type": "markdown",
   "metadata": {},
   "source": [
    "We can now see the utility of PCA! The clusters of the three species are quite distinct with the new feature components. We can even examine the clusters along the first component."
   ]
  },
  {
   "cell_type": "code",
   "execution_count": 6,
   "metadata": {},
   "outputs": [
    {
     "data": {
      "text/plain": [
       "<matplotlib.legend.Legend at 0x139215000>"
      ]
     },
     "execution_count": 6,
     "metadata": {},
     "output_type": "execute_result"
    },
    {
     "data": {
      "image/png": "[encoded data removed]",
      "text/plain": [
       "<Figure size 432x288 with 1 Axes>"
      ]
     },
     "metadata": {
      "needs_background": "light"
     },
     "output_type": "display_data"
    }
   ],
   "source": [
    "single_component = pca(iris.data, 1)\n",
    "\n",
    "plt.xlabel(\"PCA1\")\n",
    "plt.ylabel(\"PCA2\")\n",
    "zeros = np.zeros(transformed_data.shape[0])\n",
    "for i in range(3):\n",
    "    plt.scatter(transformed_data[iris.target==i, 0],\n",
    "                zeros[iris.target==i],\n",
    "                label=iris.target_names[i])\n",
    "plt.legend(loc=\"upper right\", title=\"Species\")"
   ]
  },
  {
   "cell_type": "markdown",
   "metadata": {},
   "source": [
    "### 4. Implementing PCA on a higher-dimensional dataset\n",
    "Irises are cool and all, but the iris dataset is relatively low-dimensional. Let's test out PCA with a higher dimensional dataset with more features. For this example, we're going to use the **[Breast Cancer Wisconsin (diagnostic) dataset][bc-data]**. \n",
    "\n",
    "This dataset has an $n=569$ and has 30 features about the identified breast tumors, including the tumor size, area, perimeter, and smoothness. Each tumor sample is also labeled with one of two values: *WDBC-Benign* or *WDBC-Malignant*.\n",
    "\n",
    "Let's load and plot the dataset with two principal components to see if we can identify any obvious clusters between the two classifications.\n",
    "\n",
    "[bc-data]:https://scikit-learn.org/stable/datasets/toy_dataset.html#breast-cancer-wisconsin-diagnostic-dataset"
   ]
  },
  {
   "cell_type": "code",
   "execution_count": 7,
   "metadata": {},
   "outputs": [
    {
     "data": {
      "text/plain": [
       "<matplotlib.legend.Legend at 0x10d5221d0>"
      ]
     },
     "execution_count": 7,
     "metadata": {},
     "output_type": "execute_result"
    },
    {
     "data": {
      "image/png": "[encoded data removed]",
      "text/plain": [
       "<Figure size 432x288 with 1 Axes>"
      ]
     },
     "metadata": {
      "needs_background": "light"
     },
     "output_type": "display_data"
    }
   ],
   "source": [
    "from sklearn.datasets import load_breast_cancer\n",
    "\n",
    "WDBC = load_breast_cancer()\n",
    "\n",
    "transformed_data = pca(WDBC.data, components=2)\n",
    "plt.xlabel(\"PCA1\")\n",
    "plt.ylabel(\"PCA2\")\n",
    "for i in range(2):\n",
    "    plt.scatter(transformed_data[WDBC.target==i, 0],\n",
    "                transformed_data[WDBC.target==i, 1],\n",
    "                label=WDBC.target_names[i])\n",
    "plt.legend(loc=\"upper right\", title=\"Tumor Classifications\")"
   ]
  },
  {
   "cell_type": "markdown",
   "metadata": {},
   "source": [
    "The clustering separation between the two datasets is astonishing. The dimensionality of the dataset has been reduced from 30 features -> 2 features, and these data could now be easily used to train a logistic classifier."
   ]
  },
  {
   "cell_type": "markdown",
   "metadata": {},
   "source": [
    "### 5. Using PCA in the real world with scikit-learn\n",
    "In real world applications, it's typically not best to use your own functions for widely used methods, such as PCA. This is because there are computer scientists who that have built highly efficient and optimized libraries with functions that will almost always outperform individual implementations. Moreover, using well-established packages prevents the need for bug-squashing and troubleshooting within your own code.\n",
    "\n",
    "Below, we'll implement data standardization and PCA with scikit-learn on the Breast Cancer Wisconsin (diagnostic) dataset. "
   ]
  },
  {
   "cell_type": "code",
   "execution_count": 8,
   "metadata": {},
   "outputs": [
    {
     "data": {
      "text/plain": [
       "<matplotlib.legend.Legend at 0x139021de0>"
      ]
     },
     "execution_count": 8,
     "metadata": {},
     "output_type": "execute_result"
    },
    {
     "data": {
      "image/png": "[encoded data removed]",
      "text/plain": [
       "<Figure size 432x288 with 1 Axes>"
      ]
     },
     "metadata": {
      "needs_background": "light"
     },
     "output_type": "display_data"
    }
   ],
   "source": [
    "from sklearn.datasets import load_breast_cancer\n",
    "from sklearn.preprocessing import StandardScaler\n",
    "from sklearn.decomposition import PCA\n",
    "from sklearn.pipeline import make_pipeline\n",
    "\n",
    "WDBC = load_breast_cancer()\n",
    "components = 2\n",
    "\n",
    "pca_pipeline = make_pipeline(StandardScaler(), PCA(n_components=components))\n",
    "transformed_data = pca_pipeline.fit_transform(WDBC.data)\n",
    "\n",
    "plt.xlabel(\"PCA1\")\n",
    "plt.ylabel(\"PCA2\")\n",
    "for i in range(2):\n",
    "    plt.scatter(transformed_data[WDBC.target==i, 0],\n",
    "                transformed_data[WDBC.target==i, 1],\n",
    "                label=WDBC.target_names[i])\n",
    "plt.legend(loc=\"upper right\", title=\"Tumor Classifications\")\n"
   ]
  },
  {
   "cell_type": "markdown",
   "metadata": {},
   "source": [
    "Using this approach, we effectively reduced our four PCA functions with several dozens lines of code and documentation into two simple lines."
   ]
  },
  {
   "cell_type": "markdown",
   "metadata": {},
   "source": [
    "Feel free to create an issue in the repository if you have an concerns or find any problems with this demonstration.\n",
    "\n",
    "Thanks for reading!"
   ]
  }
 ],
 "metadata": {
  "kernelspec": {
   "display_name": "Python 3.10.2 64-bit ('learning')",
   "language": "python",
   "name": "python3"
  },
  "language_info": {
   "codemirror_mode": {
    "name": "ipython",
    "version": 3
   },
   "file_extension": ".py",
   "mimetype": "text/x-python",
   "name": "python",
   "nbconvert_exporter": "python",
   "pygments_lexer": "ipython3",
   "version": "3.10.2"
  },
  "orig_nbformat": 4,
  "vscode": {
   "interpreter": {
    "hash": "083c3123b4ad7f25f53c003e80272d3d1894a33e093a79f10823ee80b0414ebd"
   }
  }
 },
 "nbformat": 4,
 "nbformat_minor": 2
}
